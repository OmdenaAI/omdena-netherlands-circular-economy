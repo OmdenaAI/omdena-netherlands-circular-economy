{
  "nbformat": 4,
  "nbformat_minor": 0,
  "metadata": {
    "colab": {
      "name": "EDA_and_modelling_yield.ipynb",
      "provenance": [],
      "collapsed_sections": []
    },
    "kernelspec": {
      "name": "python3",
      "display_name": "Python 3"
    },
    "language_info": {
      "name": "python"
    }
  },
  "cells": [
    {
      "cell_type": "code",
      "metadata": {
        "id": "KUxTpQ_NQs0J"
      },
      "source": [
        "import requests\n",
        "from getpass import getpass\n",
        "import datetime\n",
        "import pickle\n",
        "import IPython"
      ],
      "execution_count": 41,
      "outputs": []
    },
    {
      "cell_type": "code",
      "metadata": {
        "colab": {
          "base_uri": "https://localhost:8080/"
        },
        "id": "zZQVU6pKp6Ft",
        "outputId": "86a0f837-7b66-4a54-ba96-4111bd4fa87f"
      },
      "source": [
        "!pip install mlflow --quiet\n",
        "\n",
        "import mlflow\n",
        "import os\n",
        "from getpass import getpass"
      ],
      "execution_count": 4,
      "outputs": [
        {
          "output_type": "stream",
          "name": "stdout",
          "text": [
            "\u001b[K     |████████████████████████████████| 14.6 MB 119 kB/s \n",
            "\u001b[K     |████████████████████████████████| 79 kB 6.3 MB/s \n",
            "\u001b[K     |████████████████████████████████| 145 kB 66.7 MB/s \n",
            "\u001b[K     |████████████████████████████████| 636 kB 37.5 MB/s \n",
            "\u001b[K     |████████████████████████████████| 56 kB 4.2 MB/s \n",
            "\u001b[K     |████████████████████████████████| 170 kB 50.6 MB/s \n",
            "\u001b[K     |████████████████████████████████| 1.1 MB 48.7 MB/s \n",
            "\u001b[K     |████████████████████████████████| 75 kB 3.8 MB/s \n",
            "\u001b[K     |████████████████████████████████| 52 kB 1.2 MB/s \n",
            "\u001b[K     |████████████████████████████████| 63 kB 1.5 MB/s \n",
            "\u001b[?25h  Building wheel for alembic (setup.py) ... \u001b[?25l\u001b[?25hdone\n",
            "  Building wheel for databricks-cli (setup.py) ... \u001b[?25l\u001b[?25hdone\n",
            "  Building wheel for prometheus-flask-exporter (setup.py) ... \u001b[?25l\u001b[?25hdone\n"
          ]
        }
      ]
    },
    {
      "cell_type": "code",
      "metadata": {
        "id": "zRAux3vvRiUJ"
      },
      "source": [
        "os.environ['MLFLOW_TRACKING_USERNAME'] = USER_NAME\n",
        "os.environ['MLFLOW_TRACKING_PASSWORD'] = getpass('xxxx')\n",
        "\n",
        "mlflow.set_tracking_uri(f'https://dagshub.com/{REPO_OWNER}/{REPO_NAME}.mlflow')"
      ],
      "execution_count": null,
      "outputs": []
    },
    {
      "cell_type": "markdown",
      "metadata": {
        "id": "xAHG3rlnRN4y"
      },
      "source": [
        ""
      ]
    },
    {
      "cell_type": "code",
      "metadata": {
        "id": "o1R5hl9wX_FL",
        "colab": {
          "base_uri": "https://localhost:8080/"
        },
        "outputId": "180f7c20-5ba8-4c56-9e7f-ada4291ec6d1"
      },
      "source": [
        "# imports \n",
        "import numpy as np\n",
        "import pandas as pd\n",
        "from pandas.plotting import table\n",
        "import matplotlib.pyplot as plt\n",
        "import matplotlib.colors as pltcol\n",
        "import matplotlib.ticker as ticker\n",
        "import seaborn as sns\n",
        "%matplotlib inline\n",
        "import math\n",
        "\n",
        "import statsmodels.api as sm\n",
        "from statsmodels.formula.api import ols\n",
        "import statsmodels.tools.eval_measures as ev\n",
        "from sklearn.linear_model import LinearRegression\n",
        "from sklearn.model_selection import train_test_split\n",
        "from sklearn.metrics import mean_absolute_error, make_scorer\n",
        "from sklearn.model_selection import cross_val_score\n",
        "from scipy.special import boxcox, inv_boxcox\n",
        "\n",
        "import scipy.stats as stats\n",
        "\n",
        "\n",
        "pd.options.display.float_format = '{:,.2f}'.format\n",
        "pd.set_option('display.max_columns', None)\n",
        "pd.set_option(\"max_rows\", None)"
      ],
      "execution_count": 2,
      "outputs": [
        {
          "output_type": "stream",
          "name": "stderr",
          "text": [
            "/usr/local/lib/python3.7/dist-packages/statsmodels/tools/_testing.py:19: FutureWarning: pandas.util.testing is deprecated. Use the functions in the public API at pandas.testing instead.\n",
            "  import pandas.util.testing as tm\n"
          ]
        }
      ]
    },
    {
      "cell_type": "code",
      "metadata": {
        "id": "eFywTjJwX2Qm"
      },
      "source": [
        "yield_crops = pd.read_csv('/content/merged_weather_yield_(3).csv')"
      ],
      "execution_count": 10,
      "outputs": []
    },
    {
      "cell_type": "code",
      "metadata": {
        "id": "dvTs6251YPE9"
      },
      "source": [
        "# Cleaning data and dropping columns , removing grass lands , selecting crops2\n",
        "\n",
        "yield_crops = yield_crops[['DDVEC', 'FHVEC', 'FG', 'FHX', 'FHXH', 'FHN', 'FHNH', 'FXX', 'FXXH', 'TG', 'TN', 'TNH', 'TX', 'TXH', 'T10N', 'T10NH', 'SQ', 'SP', 'Q', 'DR', 'RH', 'RHX', 'RHXH', 'PG', 'PX', 'PXH', 'PN', 'PNH', 'VVN', 'VVNH', 'VVX', 'VVXH', 'NG', 'UG', 'UX', 'UXH', 'UN', 'UNH', 'EV24', 'FarmTypes', 'PotatoesTotal_9', 'WarePotatoes_10', 'SeedPotatoes_11', 'StarchPotatoes_12', 'VegetablesArable_13', 'Cereals_14', 'GrassSeed_15', 'IndustrialCrops_16', 'Pulses_17', 'SugarBeets_18', 'OtherArableCrops_19', 'FallowLand_20', 'ArableLandTotal_21', 'PotatoesTotal_22', 'WarePotatoes_23', 'SeedPotatoes_24', 'StarchPotatoes_25', 'VegetablesArable_26', 'Cereals_27', 'GrassSeed_28', 'IndustrialCrops_29', 'Pulses_30', 'SugarBeets_31', 'OtherArableCrops_32', 'FallowLand_33', 'HorticultureInTheOpenTotal_34', 'FlowerBulbs_35', 'FloriculturalCrops_36', 'NurseriesAndPerennialPlants_37', 'FruitInTheOpen_38', 'VegetablesHorticultural_39', 'HorticultureInTheOpenTotal_40', 'FlowerBulbs_41', 'FloriculturalCrops_42', 'NurseriesAndPerennialPlants_43', 'FruitInTheOpen_44', 'VegetablesHorticultural_45', 'HorticultureUnderGlassTotal_46', 'FloriculturalCrops_47', 'NurseriesAndPerennialPlants_48', 'FruitUnderGlass_49', 'VegetablesUnderGlass_50', 'HorticultureUnderGlassTotal_51', 'FloriculturalCrops_52', 'NurseriesAndPerennialPlants_53', 'FruitUnderGlass_54', 'VegetablesUnderGlass_55', 'Hyacinths_56', 'Daffodils_57', 'Tulips_58', 'OtherBulbForcing_59', 'Mushrooms_60', 'SubstrateUseMushrooms_61', 'BelgianEndiveCultivation_62', 'BulbForcingTotal_63', 'Hyacinths_64', 'Daffodils_65', 'Tulips_66', 'OtherBulbForcing_67', 'MushroomsTotal_68', 'Mushrooms_69', 'SubstrateUseMushrooms_70', 'BelgianEndiveCultivation_71', 'GrasslandAndForagePlantsTotal_72', 'GrasslandTotal_73', 'PastureAndMeadows_74', 'RoughGrazing_75', 'TemporaryGrass_76', 'ForagePlants_77', 'GrasslandAndForagePlantsTotal_78', 'GrasslandTotal_79', 'PastureAndMeadows_80', 'RoughGrazing_81', 'TemporaryGrass_82', 'ForagePlants_83']]\n",
        "\n"
      ],
      "execution_count": 11,
      "outputs": []
    },
    {
      "cell_type": "code",
      "metadata": {
        "colab": {
          "base_uri": "https://localhost:8080/"
        },
        "id": "GgX5wssRZrer",
        "outputId": "2f1eb94e-4116-45ef-91da-83debf3dedfc"
      },
      "source": [
        "yield_crops.FarmTypes.unique()"
      ],
      "execution_count": 12,
      "outputs": [
        {
          "output_type": "execute_result",
          "data": {
            "text/plain": [
              "array(['A009481', 'A009497'], dtype=object)"
            ]
          },
          "metadata": {},
          "execution_count": 12
        }
      ]
    },
    {
      "cell_type": "code",
      "metadata": {
        "id": "GfHRP3oJYa4U"
      },
      "source": [
        "# Dividing by farm types\n",
        "Farm_type_1 = yield_crops[yield_crops['FarmTypes']=='A009481'] #specialit field crop\n",
        "Farm_type_2 = yield_crops[yield_crops['FarmTypes']=='A009497'] # specialist permanent crop"
      ],
      "execution_count": 13,
      "outputs": []
    },
    {
      "cell_type": "markdown",
      "metadata": {
        "id": "fFJqTzXza58C"
      },
      "source": [
        "# FARM TYPE 1"
      ]
    },
    {
      "cell_type": "code",
      "metadata": {
        "id": "erVKqmDva3sL",
        "colab": {
          "base_uri": "https://localhost:8080/"
        },
        "outputId": "b0f72af6-d568-4249-a070-9c47b02c0015"
      },
      "source": [
        "#FILL NAN WITH MEAN\n",
        "Farm_type_1.fillna(Farm_type_1.mean(), inplace=True)\n"
      ],
      "execution_count": 14,
      "outputs": [
        {
          "output_type": "stream",
          "name": "stderr",
          "text": [
            "/usr/local/lib/python3.7/dist-packages/pandas/core/series.py:4536: SettingWithCopyWarning: \n",
            "A value is trying to be set on a copy of a slice from a DataFrame\n",
            "\n",
            "See the caveats in the documentation: https://pandas.pydata.org/pandas-docs/stable/user_guide/indexing.html#returning-a-view-versus-a-copy\n",
            "  downcast=downcast,\n"
          ]
        }
      ]
    },
    {
      "cell_type": "code",
      "metadata": {
        "colab": {
          "base_uri": "https://localhost:8080/",
          "height": 310
        },
        "id": "4xWVgB9Jbgju",
        "outputId": "8fd458eb-6730-4798-922c-8af0ea432bab"
      },
      "source": [
        "Farm_type_1.describe()"
      ],
      "execution_count": null,
      "outputs": [
        {
          "output_type": "execute_result",
          "data": {
            "text/html": [
              "<div>\n",
              "<style scoped>\n",
              "    .dataframe tbody tr th:only-of-type {\n",
              "        vertical-align: middle;\n",
              "    }\n",
              "\n",
              "    .dataframe tbody tr th {\n",
              "        vertical-align: top;\n",
              "    }\n",
              "\n",
              "    .dataframe thead th {\n",
              "        text-align: right;\n",
              "    }\n",
              "</style>\n",
              "<table border=\"1\" class=\"dataframe\">\n",
              "  <thead>\n",
              "    <tr style=\"text-align: right;\">\n",
              "      <th></th>\n",
              "      <th>DDVEC</th>\n",
              "      <th>FHVEC</th>\n",
              "      <th>FG</th>\n",
              "      <th>FHX</th>\n",
              "      <th>FHXH</th>\n",
              "      <th>FHN</th>\n",
              "      <th>FHNH</th>\n",
              "      <th>FXX</th>\n",
              "      <th>FXXH</th>\n",
              "      <th>TG</th>\n",
              "      <th>TN</th>\n",
              "      <th>TNH</th>\n",
              "      <th>TX</th>\n",
              "      <th>TXH</th>\n",
              "      <th>T10N</th>\n",
              "      <th>T10NH</th>\n",
              "      <th>SQ</th>\n",
              "      <th>SP</th>\n",
              "      <th>Q</th>\n",
              "      <th>DR</th>\n",
              "      <th>RH</th>\n",
              "      <th>RHX</th>\n",
              "      <th>RHXH</th>\n",
              "      <th>PG</th>\n",
              "      <th>PX</th>\n",
              "      <th>PXH</th>\n",
              "      <th>PN</th>\n",
              "      <th>PNH</th>\n",
              "      <th>VVN</th>\n",
              "      <th>VVNH</th>\n",
              "      <th>VVX</th>\n",
              "      <th>VVXH</th>\n",
              "      <th>NG</th>\n",
              "      <th>UG</th>\n",
              "      <th>UX</th>\n",
              "      <th>UXH</th>\n",
              "      <th>UN</th>\n",
              "      <th>UNH</th>\n",
              "      <th>EV24</th>\n",
              "      <th>PotatoesTotal_9</th>\n",
              "      <th>WarePotatoes_10</th>\n",
              "      <th>SeedPotatoes_11</th>\n",
              "      <th>StarchPotatoes_12</th>\n",
              "      <th>VegetablesArable_13</th>\n",
              "      <th>Cereals_14</th>\n",
              "      <th>GrassSeed_15</th>\n",
              "      <th>IndustrialCrops_16</th>\n",
              "      <th>Pulses_17</th>\n",
              "      <th>SugarBeets_18</th>\n",
              "      <th>OtherArableCrops_19</th>\n",
              "      <th>FallowLand_20</th>\n",
              "      <th>ArableLandTotal_21</th>\n",
              "      <th>PotatoesTotal_22</th>\n",
              "      <th>WarePotatoes_23</th>\n",
              "      <th>SeedPotatoes_24</th>\n",
              "      <th>StarchPotatoes_25</th>\n",
              "      <th>VegetablesArable_26</th>\n",
              "      <th>Cereals_27</th>\n",
              "      <th>GrassSeed_28</th>\n",
              "      <th>IndustrialCrops_29</th>\n",
              "      <th>Pulses_30</th>\n",
              "      <th>SugarBeets_31</th>\n",
              "      <th>OtherArableCrops_32</th>\n",
              "      <th>FallowLand_33</th>\n",
              "      <th>HorticultureInTheOpenTotal_34</th>\n",
              "      <th>FlowerBulbs_35</th>\n",
              "      <th>FloriculturalCrops_36</th>\n",
              "      <th>NurseriesAndPerennialPlants_37</th>\n",
              "      <th>FruitInTheOpen_38</th>\n",
              "      <th>VegetablesHorticultural_39</th>\n",
              "      <th>HorticultureInTheOpenTotal_40</th>\n",
              "      <th>FlowerBulbs_41</th>\n",
              "      <th>FloriculturalCrops_42</th>\n",
              "      <th>NurseriesAndPerennialPlants_43</th>\n",
              "      <th>FruitInTheOpen_44</th>\n",
              "      <th>VegetablesHorticultural_45</th>\n",
              "      <th>HorticultureUnderGlassTotal_46</th>\n",
              "      <th>FloriculturalCrops_47</th>\n",
              "      <th>NurseriesAndPerennialPlants_48</th>\n",
              "      <th>FruitUnderGlass_49</th>\n",
              "      <th>VegetablesUnderGlass_50</th>\n",
              "      <th>HorticultureUnderGlassTotal_51</th>\n",
              "      <th>FloriculturalCrops_52</th>\n",
              "      <th>NurseriesAndPerennialPlants_53</th>\n",
              "      <th>FruitUnderGlass_54</th>\n",
              "      <th>VegetablesUnderGlass_55</th>\n",
              "      <th>Hyacinths_56</th>\n",
              "      <th>Daffodils_57</th>\n",
              "      <th>Tulips_58</th>\n",
              "      <th>OtherBulbForcing_59</th>\n",
              "      <th>Mushrooms_60</th>\n",
              "      <th>SubstrateUseMushrooms_61</th>\n",
              "      <th>BelgianEndiveCultivation_62</th>\n",
              "      <th>BulbForcingTotal_63</th>\n",
              "      <th>Hyacinths_64</th>\n",
              "      <th>Daffodils_65</th>\n",
              "      <th>Tulips_66</th>\n",
              "      <th>OtherBulbForcing_67</th>\n",
              "      <th>MushroomsTotal_68</th>\n",
              "      <th>Mushrooms_69</th>\n",
              "      <th>SubstrateUseMushrooms_70</th>\n",
              "      <th>BelgianEndiveCultivation_71</th>\n",
              "      <th>GrasslandAndForagePlantsTotal_72</th>\n",
              "      <th>GrasslandTotal_73</th>\n",
              "      <th>PastureAndMeadows_74</th>\n",
              "      <th>RoughGrazing_75</th>\n",
              "      <th>TemporaryGrass_76</th>\n",
              "      <th>ForagePlants_77</th>\n",
              "      <th>GrasslandAndForagePlantsTotal_78</th>\n",
              "      <th>GrasslandTotal_79</th>\n",
              "      <th>PastureAndMeadows_80</th>\n",
              "      <th>RoughGrazing_81</th>\n",
              "      <th>TemporaryGrass_82</th>\n",
              "      <th>ForagePlants_83</th>\n",
              "    </tr>\n",
              "  </thead>\n",
              "  <tbody>\n",
              "    <tr>\n",
              "      <th>count</th>\n",
              "      <td>227.00</td>\n",
              "      <td>227.00</td>\n",
              "      <td>227.00</td>\n",
              "      <td>227.00</td>\n",
              "      <td>227.00</td>\n",
              "      <td>227.00</td>\n",
              "      <td>227.00</td>\n",
              "      <td>227.00</td>\n",
              "      <td>227.00</td>\n",
              "      <td>227.00</td>\n",
              "      <td>227.00</td>\n",
              "      <td>227.00</td>\n",
              "      <td>227.00</td>\n",
              "      <td>227.00</td>\n",
              "      <td>227.00</td>\n",
              "      <td>227.00</td>\n",
              "      <td>227.00</td>\n",
              "      <td>227.00</td>\n",
              "      <td>227.00</td>\n",
              "      <td>227.00</td>\n",
              "      <td>227.00</td>\n",
              "      <td>227.00</td>\n",
              "      <td>227.00</td>\n",
              "      <td>227.00</td>\n",
              "      <td>227.00</td>\n",
              "      <td>227.00</td>\n",
              "      <td>227.00</td>\n",
              "      <td>227.00</td>\n",
              "      <td>227.00</td>\n",
              "      <td>227.00</td>\n",
              "      <td>227.00</td>\n",
              "      <td>227.00</td>\n",
              "      <td>227.00</td>\n",
              "      <td>227.00</td>\n",
              "      <td>227.00</td>\n",
              "      <td>227.00</td>\n",
              "      <td>227.00</td>\n",
              "      <td>227.00</td>\n",
              "      <td>227.00</td>\n",
              "      <td>227.00</td>\n",
              "      <td>227.00</td>\n",
              "      <td>227.00</td>\n",
              "      <td>227.00</td>\n",
              "      <td>227.00</td>\n",
              "      <td>227.00</td>\n",
              "      <td>227.00</td>\n",
              "      <td>227.00</td>\n",
              "      <td>227.00</td>\n",
              "      <td>227.00</td>\n",
              "      <td>227.00</td>\n",
              "      <td>227.00</td>\n",
              "      <td>227.00</td>\n",
              "      <td>227.00</td>\n",
              "      <td>227.00</td>\n",
              "      <td>227.00</td>\n",
              "      <td>227.00</td>\n",
              "      <td>227.00</td>\n",
              "      <td>227.00</td>\n",
              "      <td>227.00</td>\n",
              "      <td>227.00</td>\n",
              "      <td>227.00</td>\n",
              "      <td>227.00</td>\n",
              "      <td>227.00</td>\n",
              "      <td>227.00</td>\n",
              "      <td>227.00</td>\n",
              "      <td>227.00</td>\n",
              "      <td>227.00</td>\n",
              "      <td>227.00</td>\n",
              "      <td>227.00</td>\n",
              "      <td>227.00</td>\n",
              "      <td>227.00</td>\n",
              "      <td>227.00</td>\n",
              "      <td>227.00</td>\n",
              "      <td>227.00</td>\n",
              "      <td>227.00</td>\n",
              "      <td>227.00</td>\n",
              "      <td>227.00</td>\n",
              "      <td>227.00</td>\n",
              "      <td>227.00</td>\n",
              "      <td>227.00</td>\n",
              "      <td>227.00</td>\n",
              "      <td>227.00</td>\n",
              "      <td>227.00</td>\n",
              "      <td>227.00</td>\n",
              "      <td>227.00</td>\n",
              "      <td>227.00</td>\n",
              "      <td>227.00</td>\n",
              "      <td>227.00</td>\n",
              "      <td>227.00</td>\n",
              "      <td>227.00</td>\n",
              "      <td>227.00</td>\n",
              "      <td>227.00</td>\n",
              "      <td>227.00</td>\n",
              "      <td>227.00</td>\n",
              "      <td>227.00</td>\n",
              "      <td>227.00</td>\n",
              "      <td>227.00</td>\n",
              "      <td>227.00</td>\n",
              "      <td>227.00</td>\n",
              "      <td>227.00</td>\n",
              "      <td>227.00</td>\n",
              "      <td>227.00</td>\n",
              "      <td>227.00</td>\n",
              "      <td>227.00</td>\n",
              "      <td>227.00</td>\n",
              "      <td>227.00</td>\n",
              "      <td>227.00</td>\n",
              "      <td>227.00</td>\n",
              "      <td>227.00</td>\n",
              "      <td>227.00</td>\n",
              "      <td>227.00</td>\n",
              "      <td>227.00</td>\n",
              "      <td>227.00</td>\n",
              "      <td>227.00</td>\n",
              "    </tr>\n",
              "    <tr>\n",
              "      <th>mean</th>\n",
              "      <td>192.75</td>\n",
              "      <td>38.60</td>\n",
              "      <td>43.82</td>\n",
              "      <td>66.62</td>\n",
              "      <td>11.15</td>\n",
              "      <td>21.92</td>\n",
              "      <td>9.52</td>\n",
              "      <td>109.77</td>\n",
              "      <td>12.06</td>\n",
              "      <td>104.82</td>\n",
              "      <td>63.64</td>\n",
              "      <td>11.14</td>\n",
              "      <td>143.94</td>\n",
              "      <td>13.54</td>\n",
              "      <td>50.04</td>\n",
              "      <td>13.62</td>\n",
              "      <td>48.43</td>\n",
              "      <td>37.50</td>\n",
              "      <td>1,033.04</td>\n",
              "      <td>17.52</td>\n",
              "      <td>21.81</td>\n",
              "      <td>8.61</td>\n",
              "      <td>7.32</td>\n",
              "      <td>10,153.09</td>\n",
              "      <td>10,182.89</td>\n",
              "      <td>12.33</td>\n",
              "      <td>10,121.85</td>\n",
              "      <td>12.19</td>\n",
              "      <td>36.89</td>\n",
              "      <td>10.08</td>\n",
              "      <td>74.32</td>\n",
              "      <td>12.71</td>\n",
              "      <td>5.46</td>\n",
              "      <td>82.12</td>\n",
              "      <td>94.91</td>\n",
              "      <td>9.41</td>\n",
              "      <td>66.04</td>\n",
              "      <td>13.23</td>\n",
              "      <td>16.41</td>\n",
              "      <td>963,181.26</td>\n",
              "      <td>402,584.37</td>\n",
              "      <td>268,741.74</td>\n",
              "      <td>291,855.15</td>\n",
              "      <td>311,235.22</td>\n",
              "      <td>1,206,092.46</td>\n",
              "      <td>104,555.40</td>\n",
              "      <td>74,545.23</td>\n",
              "      <td>18,486.65</td>\n",
              "      <td>488,367.54</td>\n",
              "      <td>31,175.05</td>\n",
              "      <td>60,362.77</td>\n",
              "      <td>830.43</td>\n",
              "      <td>503.38</td>\n",
              "      <td>330.93</td>\n",
              "      <td>142.80</td>\n",
              "      <td>104.26</td>\n",
              "      <td>281.25</td>\n",
              "      <td>694.44</td>\n",
              "      <td>110.32</td>\n",
              "      <td>95.70</td>\n",
              "      <td>34.78</td>\n",
              "      <td>555.10</td>\n",
              "      <td>45.84</td>\n",
              "      <td>191.84</td>\n",
              "      <td>16,123.87</td>\n",
              "      <td>2,543.38</td>\n",
              "      <td>969.32</td>\n",
              "      <td>364.15</td>\n",
              "      <td>2,025.28</td>\n",
              "      <td>10,221.74</td>\n",
              "      <td>50.42</td>\n",
              "      <td>6.39</td>\n",
              "      <td>6.39</td>\n",
              "      <td>4.68</td>\n",
              "      <td>7.72</td>\n",
              "      <td>27.83</td>\n",
              "      <td>496.18</td>\n",
              "      <td>112.90</td>\n",
              "      <td>46.56</td>\n",
              "      <td>51.39</td>\n",
              "      <td>285.33</td>\n",
              "      <td>0.57</td>\n",
              "      <td>0.19</td>\n",
              "      <td>0.03</td>\n",
              "      <td>0.10</td>\n",
              "      <td>0.26</td>\n",
              "      <td>0.00</td>\n",
              "      <td>0.00</td>\n",
              "      <td>22.36</td>\n",
              "      <td>0.00</td>\n",
              "      <td>0.00</td>\n",
              "      <td>0.02</td>\n",
              "      <td>86.03</td>\n",
              "      <td>0.08</td>\n",
              "      <td>0.00</td>\n",
              "      <td>0.00</td>\n",
              "      <td>0.08</td>\n",
              "      <td>0.00</td>\n",
              "      <td>0.01</td>\n",
              "      <td>0.00</td>\n",
              "      <td>0.01</td>\n",
              "      <td>0.44</td>\n",
              "      <td>575,464.12</td>\n",
              "      <td>307,661.88</td>\n",
              "      <td>203,669.37</td>\n",
              "      <td>33,735.50</td>\n",
              "      <td>70,257.01</td>\n",
              "      <td>267,802.24</td>\n",
              "      <td>663.81</td>\n",
              "      <td>534.39</td>\n",
              "      <td>406.72</td>\n",
              "      <td>21.41</td>\n",
              "      <td>194.86</td>\n",
              "      <td>309.37</td>\n",
              "    </tr>\n",
              "    <tr>\n",
              "      <th>std</th>\n",
              "      <td>8.26</td>\n",
              "      <td>7.91</td>\n",
              "      <td>9.12</td>\n",
              "      <td>11.59</td>\n",
              "      <td>0.33</td>\n",
              "      <td>6.35</td>\n",
              "      <td>0.57</td>\n",
              "      <td>9.44</td>\n",
              "      <td>0.27</td>\n",
              "      <td>6.63</td>\n",
              "      <td>9.29</td>\n",
              "      <td>0.36</td>\n",
              "      <td>8.48</td>\n",
              "      <td>0.32</td>\n",
              "      <td>11.61</td>\n",
              "      <td>0.34</td>\n",
              "      <td>3.88</td>\n",
              "      <td>3.03</td>\n",
              "      <td>48.73</td>\n",
              "      <td>2.15</td>\n",
              "      <td>3.05</td>\n",
              "      <td>1.17</td>\n",
              "      <td>0.74</td>\n",
              "      <td>8.52</td>\n",
              "      <td>8.59</td>\n",
              "      <td>0.27</td>\n",
              "      <td>8.60</td>\n",
              "      <td>0.19</td>\n",
              "      <td>2.98</td>\n",
              "      <td>0.34</td>\n",
              "      <td>1.28</td>\n",
              "      <td>0.34</td>\n",
              "      <td>0.24</td>\n",
              "      <td>1.89</td>\n",
              "      <td>1.26</td>\n",
              "      <td>0.54</td>\n",
              "      <td>3.22</td>\n",
              "      <td>0.28</td>\n",
              "      <td>0.90</td>\n",
              "      <td>702,707.85</td>\n",
              "      <td>392,279.37</td>\n",
              "      <td>280,024.16</td>\n",
              "      <td>584,347.73</td>\n",
              "      <td>384,699.01</td>\n",
              "      <td>954,802.78</td>\n",
              "      <td>163,091.54</td>\n",
              "      <td>109,094.62</td>\n",
              "      <td>44,159.30</td>\n",
              "      <td>337,661.59</td>\n",
              "      <td>26,271.24</td>\n",
              "      <td>75,271.61</td>\n",
              "      <td>521.52</td>\n",
              "      <td>338.35</td>\n",
              "      <td>312.88</td>\n",
              "      <td>133.87</td>\n",
              "      <td>199.34</td>\n",
              "      <td>310.30</td>\n",
              "      <td>456.98</td>\n",
              "      <td>163.53</td>\n",
              "      <td>146.61</td>\n",
              "      <td>84.19</td>\n",
              "      <td>417.05</td>\n",
              "      <td>42.62</td>\n",
              "      <td>186.72</td>\n",
              "      <td>15,759.23</td>\n",
              "      <td>4,994.65</td>\n",
              "      <td>2,278.83</td>\n",
              "      <td>611.63</td>\n",
              "      <td>4,300.20</td>\n",
              "      <td>10,408.41</td>\n",
              "      <td>37.32</td>\n",
              "      <td>9.58</td>\n",
              "      <td>10.65</td>\n",
              "      <td>5.29</td>\n",
              "      <td>9.95</td>\n",
              "      <td>20.98</td>\n",
              "      <td>1,068.31</td>\n",
              "      <td>483.69</td>\n",
              "      <td>372.06</td>\n",
              "      <td>248.08</td>\n",
              "      <td>811.39</td>\n",
              "      <td>0.79</td>\n",
              "      <td>0.49</td>\n",
              "      <td>0.16</td>\n",
              "      <td>0.32</td>\n",
              "      <td>0.48</td>\n",
              "      <td>0.00</td>\n",
              "      <td>0.00</td>\n",
              "      <td>137.18</td>\n",
              "      <td>0.00</td>\n",
              "      <td>0.00</td>\n",
              "      <td>0.27</td>\n",
              "      <td>198.14</td>\n",
              "      <td>0.29</td>\n",
              "      <td>0.00</td>\n",
              "      <td>0.00</td>\n",
              "      <td>0.29</td>\n",
              "      <td>0.00</td>\n",
              "      <td>0.09</td>\n",
              "      <td>0.00</td>\n",
              "      <td>0.09</td>\n",
              "      <td>0.93</td>\n",
              "      <td>355,481.51</td>\n",
              "      <td>153,094.08</td>\n",
              "      <td>108,719.43</td>\n",
              "      <td>41,147.87</td>\n",
              "      <td>58,118.07</td>\n",
              "      <td>237,556.27</td>\n",
              "      <td>407.98</td>\n",
              "      <td>308.61</td>\n",
              "      <td>242.21</td>\n",
              "      <td>15.85</td>\n",
              "      <td>158.67</td>\n",
              "      <td>280.45</td>\n",
              "    </tr>\n",
              "    <tr>\n",
              "      <th>min</th>\n",
              "      <td>171.68</td>\n",
              "      <td>23.25</td>\n",
              "      <td>26.53</td>\n",
              "      <td>43.40</td>\n",
              "      <td>10.16</td>\n",
              "      <td>10.99</td>\n",
              "      <td>8.32</td>\n",
              "      <td>89.42</td>\n",
              "      <td>11.11</td>\n",
              "      <td>81.72</td>\n",
              "      <td>35.88</td>\n",
              "      <td>10.04</td>\n",
              "      <td>113.85</td>\n",
              "      <td>12.65</td>\n",
              "      <td>18.93</td>\n",
              "      <td>12.82</td>\n",
              "      <td>37.79</td>\n",
              "      <td>29.82</td>\n",
              "      <td>903.77</td>\n",
              "      <td>10.07</td>\n",
              "      <td>12.18</td>\n",
              "      <td>5.20</td>\n",
              "      <td>5.12</td>\n",
              "      <td>10,131.16</td>\n",
              "      <td>10,159.43</td>\n",
              "      <td>11.56</td>\n",
              "      <td>10,097.50</td>\n",
              "      <td>11.41</td>\n",
              "      <td>25.37</td>\n",
              "      <td>7.00</td>\n",
              "      <td>61.37</td>\n",
              "      <td>10.93</td>\n",
              "      <td>4.31</td>\n",
              "      <td>74.71</td>\n",
              "      <td>90.28</td>\n",
              "      <td>8.21</td>\n",
              "      <td>53.89</td>\n",
              "      <td>12.37</td>\n",
              "      <td>14.16</td>\n",
              "      <td>781.00</td>\n",
              "      <td>419.00</td>\n",
              "      <td>0.00</td>\n",
              "      <td>0.00</td>\n",
              "      <td>9.00</td>\n",
              "      <td>14,860.00</td>\n",
              "      <td>0.00</td>\n",
              "      <td>0.00</td>\n",
              "      <td>0.00</td>\n",
              "      <td>650.00</td>\n",
              "      <td>352.00</td>\n",
              "      <td>243.00</td>\n",
              "      <td>24.00</td>\n",
              "      <td>4.00</td>\n",
              "      <td>3.00</td>\n",
              "      <td>0.00</td>\n",
              "      <td>0.00</td>\n",
              "      <td>1.00</td>\n",
              "      <td>14.00</td>\n",
              "      <td>0.00</td>\n",
              "      <td>0.00</td>\n",
              "      <td>0.00</td>\n",
              "      <td>2.00</td>\n",
              "      <td>2.00</td>\n",
              "      <td>2.00</td>\n",
              "      <td>0.00</td>\n",
              "      <td>0.00</td>\n",
              "      <td>0.00</td>\n",
              "      <td>0.00</td>\n",
              "      <td>0.00</td>\n",
              "      <td>0.00</td>\n",
              "      <td>0.00</td>\n",
              "      <td>0.00</td>\n",
              "      <td>0.00</td>\n",
              "      <td>0.00</td>\n",
              "      <td>0.00</td>\n",
              "      <td>0.00</td>\n",
              "      <td>0.00</td>\n",
              "      <td>0.00</td>\n",
              "      <td>0.00</td>\n",
              "      <td>0.00</td>\n",
              "      <td>0.00</td>\n",
              "      <td>0.00</td>\n",
              "      <td>0.00</td>\n",
              "      <td>0.00</td>\n",
              "      <td>0.00</td>\n",
              "      <td>0.00</td>\n",
              "      <td>0.00</td>\n",
              "      <td>0.00</td>\n",
              "      <td>0.00</td>\n",
              "      <td>0.00</td>\n",
              "      <td>0.00</td>\n",
              "      <td>0.00</td>\n",
              "      <td>0.00</td>\n",
              "      <td>0.00</td>\n",
              "      <td>0.00</td>\n",
              "      <td>0.00</td>\n",
              "      <td>0.00</td>\n",
              "      <td>0.00</td>\n",
              "      <td>0.00</td>\n",
              "      <td>0.00</td>\n",
              "      <td>0.00</td>\n",
              "      <td>0.00</td>\n",
              "      <td>105,445.00</td>\n",
              "      <td>69,434.00</td>\n",
              "      <td>24,107.00</td>\n",
              "      <td>95.00</td>\n",
              "      <td>3,093.00</td>\n",
              "      <td>26,819.00</td>\n",
              "      <td>85.00</td>\n",
              "      <td>74.00</td>\n",
              "      <td>72.00</td>\n",
              "      <td>1.00</td>\n",
              "      <td>7.00</td>\n",
              "      <td>36.00</td>\n",
              "    </tr>\n",
              "    <tr>\n",
              "      <th>25%</th>\n",
              "      <td>186.28</td>\n",
              "      <td>33.53</td>\n",
              "      <td>38.19</td>\n",
              "      <td>59.78</td>\n",
              "      <td>10.95</td>\n",
              "      <td>17.85</td>\n",
              "      <td>9.16</td>\n",
              "      <td>103.58</td>\n",
              "      <td>11.91</td>\n",
              "      <td>101.50</td>\n",
              "      <td>58.08</td>\n",
              "      <td>10.90</td>\n",
              "      <td>140.36</td>\n",
              "      <td>13.35</td>\n",
              "      <td>42.51</td>\n",
              "      <td>13.38</td>\n",
              "      <td>45.85</td>\n",
              "      <td>35.45</td>\n",
              "      <td>1,004.38</td>\n",
              "      <td>16.29</td>\n",
              "      <td>20.06</td>\n",
              "      <td>7.96</td>\n",
              "      <td>6.97</td>\n",
              "      <td>10,152.81</td>\n",
              "      <td>10,182.12</td>\n",
              "      <td>12.30</td>\n",
              "      <td>10,121.16</td>\n",
              "      <td>12.14</td>\n",
              "      <td>36.29</td>\n",
              "      <td>10.08</td>\n",
              "      <td>74.32</td>\n",
              "      <td>12.71</td>\n",
              "      <td>5.46</td>\n",
              "      <td>81.00</td>\n",
              "      <td>94.23</td>\n",
              "      <td>9.07</td>\n",
              "      <td>63.96</td>\n",
              "      <td>13.08</td>\n",
              "      <td>15.86</td>\n",
              "      <td>353,572.50</td>\n",
              "      <td>101,169.00</td>\n",
              "      <td>33,058.00</td>\n",
              "      <td>1,213.00</td>\n",
              "      <td>40,082.00</td>\n",
              "      <td>625,228.00</td>\n",
              "      <td>17,570.00</td>\n",
              "      <td>12,947.50</td>\n",
              "      <td>1,442.00</td>\n",
              "      <td>205,473.00</td>\n",
              "      <td>9,520.50</td>\n",
              "      <td>15,319.50</td>\n",
              "      <td>438.50</td>\n",
              "      <td>236.50</td>\n",
              "      <td>106.00</td>\n",
              "      <td>29.50</td>\n",
              "      <td>2.00</td>\n",
              "      <td>45.00</td>\n",
              "      <td>361.00</td>\n",
              "      <td>21.00</td>\n",
              "      <td>18.50</td>\n",
              "      <td>4.00</td>\n",
              "      <td>196.00</td>\n",
              "      <td>17.00</td>\n",
              "      <td>67.00</td>\n",
              "      <td>3,193.00</td>\n",
              "      <td>110.00</td>\n",
              "      <td>12.00</td>\n",
              "      <td>32.00</td>\n",
              "      <td>49.00</td>\n",
              "      <td>1,609.00</td>\n",
              "      <td>18.50</td>\n",
              "      <td>1.00</td>\n",
              "      <td>1.00</td>\n",
              "      <td>1.00</td>\n",
              "      <td>1.00</td>\n",
              "      <td>8.00</td>\n",
              "      <td>0.00</td>\n",
              "      <td>0.00</td>\n",
              "      <td>0.00</td>\n",
              "      <td>0.00</td>\n",
              "      <td>0.00</td>\n",
              "      <td>0.00</td>\n",
              "      <td>0.00</td>\n",
              "      <td>0.00</td>\n",
              "      <td>0.00</td>\n",
              "      <td>0.00</td>\n",
              "      <td>0.00</td>\n",
              "      <td>0.00</td>\n",
              "      <td>0.00</td>\n",
              "      <td>0.00</td>\n",
              "      <td>0.00</td>\n",
              "      <td>0.00</td>\n",
              "      <td>0.00</td>\n",
              "      <td>0.00</td>\n",
              "      <td>0.00</td>\n",
              "      <td>0.00</td>\n",
              "      <td>0.00</td>\n",
              "      <td>0.00</td>\n",
              "      <td>0.00</td>\n",
              "      <td>0.00</td>\n",
              "      <td>0.00</td>\n",
              "      <td>0.00</td>\n",
              "      <td>329,787.00</td>\n",
              "      <td>211,924.00</td>\n",
              "      <td>127,275.00</td>\n",
              "      <td>8,940.00</td>\n",
              "      <td>34,701.50</td>\n",
              "      <td>106,009.50</td>\n",
              "      <td>356.50</td>\n",
              "      <td>281.00</td>\n",
              "      <td>228.00</td>\n",
              "      <td>10.00</td>\n",
              "      <td>84.50</td>\n",
              "      <td>99.00</td>\n",
              "    </tr>\n",
              "    <tr>\n",
              "      <th>50%</th>\n",
              "      <td>192.75</td>\n",
              "      <td>37.59</td>\n",
              "      <td>42.62</td>\n",
              "      <td>65.32</td>\n",
              "      <td>11.15</td>\n",
              "      <td>20.85</td>\n",
              "      <td>9.45</td>\n",
              "      <td>109.42</td>\n",
              "      <td>12.06</td>\n",
              "      <td>104.82</td>\n",
              "      <td>63.64</td>\n",
              "      <td>11.14</td>\n",
              "      <td>143.94</td>\n",
              "      <td>13.54</td>\n",
              "      <td>50.04</td>\n",
              "      <td>13.62</td>\n",
              "      <td>48.43</td>\n",
              "      <td>37.50</td>\n",
              "      <td>1,033.04</td>\n",
              "      <td>17.52</td>\n",
              "      <td>21.81</td>\n",
              "      <td>8.61</td>\n",
              "      <td>7.32</td>\n",
              "      <td>10,153.09</td>\n",
              "      <td>10,182.89</td>\n",
              "      <td>12.33</td>\n",
              "      <td>10,121.85</td>\n",
              "      <td>12.19</td>\n",
              "      <td>36.89</td>\n",
              "      <td>10.08</td>\n",
              "      <td>74.32</td>\n",
              "      <td>12.71</td>\n",
              "      <td>5.46</td>\n",
              "      <td>82.14</td>\n",
              "      <td>95.16</td>\n",
              "      <td>9.41</td>\n",
              "      <td>66.09</td>\n",
              "      <td>13.23</td>\n",
              "      <td>16.35</td>\n",
              "      <td>761,062.00</td>\n",
              "      <td>232,401.00</td>\n",
              "      <td>142,206.00</td>\n",
              "      <td>6,095.00</td>\n",
              "      <td>144,210.00</td>\n",
              "      <td>923,321.00</td>\n",
              "      <td>49,722.00</td>\n",
              "      <td>29,214.00</td>\n",
              "      <td>3,624.00</td>\n",
              "      <td>423,517.00</td>\n",
              "      <td>22,784.00</td>\n",
              "      <td>34,230.00</td>\n",
              "      <td>737.00</td>\n",
              "      <td>452.00</td>\n",
              "      <td>181.00</td>\n",
              "      <td>89.00</td>\n",
              "      <td>7.00</td>\n",
              "      <td>146.00</td>\n",
              "      <td>636.00</td>\n",
              "      <td>53.00</td>\n",
              "      <td>43.00</td>\n",
              "      <td>8.00</td>\n",
              "      <td>496.00</td>\n",
              "      <td>32.00</td>\n",
              "      <td>142.00</td>\n",
              "      <td>8,859.00</td>\n",
              "      <td>793.00</td>\n",
              "      <td>124.00</td>\n",
              "      <td>163.00</td>\n",
              "      <td>540.00</td>\n",
              "      <td>6,452.00</td>\n",
              "      <td>44.00</td>\n",
              "      <td>3.00</td>\n",
              "      <td>3.00</td>\n",
              "      <td>3.00</td>\n",
              "      <td>5.00</td>\n",
              "      <td>26.00</td>\n",
              "      <td>0.00</td>\n",
              "      <td>0.00</td>\n",
              "      <td>0.00</td>\n",
              "      <td>0.00</td>\n",
              "      <td>0.00</td>\n",
              "      <td>0.00</td>\n",
              "      <td>0.00</td>\n",
              "      <td>0.00</td>\n",
              "      <td>0.00</td>\n",
              "      <td>0.00</td>\n",
              "      <td>0.00</td>\n",
              "      <td>0.00</td>\n",
              "      <td>0.00</td>\n",
              "      <td>0.00</td>\n",
              "      <td>0.00</td>\n",
              "      <td>0.00</td>\n",
              "      <td>0.00</td>\n",
              "      <td>0.00</td>\n",
              "      <td>0.00</td>\n",
              "      <td>0.00</td>\n",
              "      <td>0.00</td>\n",
              "      <td>0.00</td>\n",
              "      <td>0.00</td>\n",
              "      <td>0.00</td>\n",
              "      <td>0.00</td>\n",
              "      <td>0.00</td>\n",
              "      <td>478,160.00</td>\n",
              "      <td>283,540.00</td>\n",
              "      <td>178,227.00</td>\n",
              "      <td>20,552.00</td>\n",
              "      <td>58,086.00</td>\n",
              "      <td>178,970.00</td>\n",
              "      <td>606.00</td>\n",
              "      <td>482.00</td>\n",
              "      <td>352.00</td>\n",
              "      <td>17.00</td>\n",
              "      <td>165.00</td>\n",
              "      <td>204.00</td>\n",
              "    </tr>\n",
              "    <tr>\n",
              "      <th>75%</th>\n",
              "      <td>198.72</td>\n",
              "      <td>41.05</td>\n",
              "      <td>46.52</td>\n",
              "      <td>70.22</td>\n",
              "      <td>11.38</td>\n",
              "      <td>23.76</td>\n",
              "      <td>9.78</td>\n",
              "      <td>113.98</td>\n",
              "      <td>12.25</td>\n",
              "      <td>108.63</td>\n",
              "      <td>69.19</td>\n",
              "      <td>11.34</td>\n",
              "      <td>149.46</td>\n",
              "      <td>13.80</td>\n",
              "      <td>55.25</td>\n",
              "      <td>13.84</td>\n",
              "      <td>50.13</td>\n",
              "      <td>38.96</td>\n",
              "      <td>1,057.70</td>\n",
              "      <td>18.82</td>\n",
              "      <td>23.73</td>\n",
              "      <td>9.21</td>\n",
              "      <td>7.68</td>\n",
              "      <td>10,154.18</td>\n",
              "      <td>10,184.11</td>\n",
              "      <td>12.34</td>\n",
              "      <td>10,123.64</td>\n",
              "      <td>12.21</td>\n",
              "      <td>36.89</td>\n",
              "      <td>10.08</td>\n",
              "      <td>74.60</td>\n",
              "      <td>12.75</td>\n",
              "      <td>5.46</td>\n",
              "      <td>83.39</td>\n",
              "      <td>95.78</td>\n",
              "      <td>9.74</td>\n",
              "      <td>68.00</td>\n",
              "      <td>13.43</td>\n",
              "      <td>16.82</td>\n",
              "      <td>1,580,037.50</td>\n",
              "      <td>737,740.50</td>\n",
              "      <td>527,469.50</td>\n",
              "      <td>162,321.00</td>\n",
              "      <td>448,933.00</td>\n",
              "      <td>1,371,415.00</td>\n",
              "      <td>103,700.00</td>\n",
              "      <td>89,176.00</td>\n",
              "      <td>8,952.50</td>\n",
              "      <td>776,664.00</td>\n",
              "      <td>45,133.50</td>\n",
              "      <td>78,362.00</td>\n",
              "      <td>1,070.00</td>\n",
              "      <td>735.50</td>\n",
              "      <td>525.00</td>\n",
              "      <td>227.50</td>\n",
              "      <td>82.00</td>\n",
              "      <td>400.00</td>\n",
              "      <td>933.50</td>\n",
              "      <td>112.50</td>\n",
              "      <td>89.00</td>\n",
              "      <td>18.00</td>\n",
              "      <td>760.50</td>\n",
              "      <td>61.00</td>\n",
              "      <td>264.00</td>\n",
              "      <td>28,406.00</td>\n",
              "      <td>2,593.50</td>\n",
              "      <td>716.50</td>\n",
              "      <td>426.50</td>\n",
              "      <td>1,377.00</td>\n",
              "      <td>16,780.50</td>\n",
              "      <td>74.50</td>\n",
              "      <td>6.00</td>\n",
              "      <td>7.00</td>\n",
              "      <td>6.00</td>\n",
              "      <td>9.00</td>\n",
              "      <td>45.50</td>\n",
              "      <td>500.00</td>\n",
              "      <td>0.00</td>\n",
              "      <td>0.00</td>\n",
              "      <td>0.00</td>\n",
              "      <td>0.00</td>\n",
              "      <td>1.00</td>\n",
              "      <td>0.00</td>\n",
              "      <td>0.00</td>\n",
              "      <td>0.00</td>\n",
              "      <td>0.00</td>\n",
              "      <td>0.00</td>\n",
              "      <td>0.00</td>\n",
              "      <td>0.00</td>\n",
              "      <td>0.00</td>\n",
              "      <td>0.00</td>\n",
              "      <td>0.00</td>\n",
              "      <td>0.00</td>\n",
              "      <td>0.00</td>\n",
              "      <td>0.00</td>\n",
              "      <td>0.00</td>\n",
              "      <td>0.00</td>\n",
              "      <td>0.00</td>\n",
              "      <td>0.00</td>\n",
              "      <td>0.00</td>\n",
              "      <td>0.00</td>\n",
              "      <td>0.00</td>\n",
              "      <td>754,858.50</td>\n",
              "      <td>392,302.00</td>\n",
              "      <td>264,529.00</td>\n",
              "      <td>41,936.50</td>\n",
              "      <td>86,395.50</td>\n",
              "      <td>347,521.00</td>\n",
              "      <td>902.50</td>\n",
              "      <td>686.50</td>\n",
              "      <td>602.50</td>\n",
              "      <td>26.50</td>\n",
              "      <td>262.00</td>\n",
              "      <td>423.50</td>\n",
              "    </tr>\n",
              "    <tr>\n",
              "      <th>max</th>\n",
              "      <td>212.22</td>\n",
              "      <td>58.94</td>\n",
              "      <td>67.39</td>\n",
              "      <td>97.07</td>\n",
              "      <td>11.92</td>\n",
              "      <td>37.70</td>\n",
              "      <td>11.01</td>\n",
              "      <td>139.64</td>\n",
              "      <td>12.78</td>\n",
              "      <td>133.34</td>\n",
              "      <td>97.97</td>\n",
              "      <td>12.26</td>\n",
              "      <td>168.56</td>\n",
              "      <td>14.12</td>\n",
              "      <td>89.84</td>\n",
              "      <td>14.72</td>\n",
              "      <td>58.42</td>\n",
              "      <td>45.52</td>\n",
              "      <td>1,243.47</td>\n",
              "      <td>22.70</td>\n",
              "      <td>29.83</td>\n",
              "      <td>13.25</td>\n",
              "      <td>9.18</td>\n",
              "      <td>10,176.59</td>\n",
              "      <td>10,208.79</td>\n",
              "      <td>13.24</td>\n",
              "      <td>10,143.20</td>\n",
              "      <td>12.76</td>\n",
              "      <td>54.00</td>\n",
              "      <td>11.16</td>\n",
              "      <td>78.16</td>\n",
              "      <td>13.74</td>\n",
              "      <td>6.57</td>\n",
              "      <td>86.55</td>\n",
              "      <td>97.24</td>\n",
              "      <td>11.14</td>\n",
              "      <td>73.39</td>\n",
              "      <td>13.87</td>\n",
              "      <td>20.65</td>\n",
              "      <td>2,316,828.00</td>\n",
              "      <td>1,465,253.00</td>\n",
              "      <td>863,166.00</td>\n",
              "      <td>2,068,530.00</td>\n",
              "      <td>1,370,512.00</td>\n",
              "      <td>3,623,232.00</td>\n",
              "      <td>912,590.00</td>\n",
              "      <td>518,940.00</td>\n",
              "      <td>258,141.00</td>\n",
              "      <td>1,284,457.00</td>\n",
              "      <td>143,156.00</td>\n",
              "      <td>422,441.00</td>\n",
              "      <td>2,446.00</td>\n",
              "      <td>1,655.00</td>\n",
              "      <td>1,558.00</td>\n",
              "      <td>545.00</td>\n",
              "      <td>892.00</td>\n",
              "      <td>1,127.00</td>\n",
              "      <td>2,195.00</td>\n",
              "      <td>817.00</td>\n",
              "      <td>769.00</td>\n",
              "      <td>498.00</td>\n",
              "      <td>2,075.00</td>\n",
              "      <td>285.00</td>\n",
              "      <td>926.00</td>\n",
              "      <td>66,577.00</td>\n",
              "      <td>34,643.00</td>\n",
              "      <td>10,926.00</td>\n",
              "      <td>3,742.00</td>\n",
              "      <td>23,554.00</td>\n",
              "      <td>43,794.00</td>\n",
              "      <td>170.00</td>\n",
              "      <td>57.00</td>\n",
              "      <td>66.00</td>\n",
              "      <td>32.00</td>\n",
              "      <td>45.00</td>\n",
              "      <td>75.00</td>\n",
              "      <td>7,500.00</td>\n",
              "      <td>6,000.00</td>\n",
              "      <td>3,600.00</td>\n",
              "      <td>2,300.00</td>\n",
              "      <td>7,500.00</td>\n",
              "      <td>4.00</td>\n",
              "      <td>3.00</td>\n",
              "      <td>1.00</td>\n",
              "      <td>2.00</td>\n",
              "      <td>2.00</td>\n",
              "      <td>0.00</td>\n",
              "      <td>0.00</td>\n",
              "      <td>1,580.00</td>\n",
              "      <td>0.00</td>\n",
              "      <td>0.00</td>\n",
              "      <td>4.00</td>\n",
              "      <td>960.00</td>\n",
              "      <td>2.00</td>\n",
              "      <td>0.00</td>\n",
              "      <td>0.00</td>\n",
              "      <td>2.00</td>\n",
              "      <td>0.00</td>\n",
              "      <td>1.00</td>\n",
              "      <td>0.00</td>\n",
              "      <td>1.00</td>\n",
              "      <td>5.00</td>\n",
              "      <td>1,970,763.00</td>\n",
              "      <td>807,349.00</td>\n",
              "      <td>569,197.00</td>\n",
              "      <td>313,641.00</td>\n",
              "      <td>368,056.00</td>\n",
              "      <td>1,333,594.00</td>\n",
              "      <td>1,963.00</td>\n",
              "      <td>1,384.00</td>\n",
              "      <td>1,053.00</td>\n",
              "      <td>88.00</td>\n",
              "      <td>855.00</td>\n",
              "      <td>1,436.00</td>\n",
              "    </tr>\n",
              "  </tbody>\n",
              "</table>\n",
              "</div>"
            ],
            "text/plain": [
              "       DDVEC  FHVEC     FG    FHX   FHXH    FHN   FHNH    FXX   FXXH     TG  \\\n",
              "count 227.00 227.00 227.00 227.00 227.00 227.00 227.00 227.00 227.00 227.00   \n",
              "mean  192.75  38.60  43.82  66.62  11.15  21.92   9.52 109.77  12.06 104.82   \n",
              "std     8.26   7.91   9.12  11.59   0.33   6.35   0.57   9.44   0.27   6.63   \n",
              "min   171.68  23.25  26.53  43.40  10.16  10.99   8.32  89.42  11.11  81.72   \n",
              "25%   186.28  33.53  38.19  59.78  10.95  17.85   9.16 103.58  11.91 101.50   \n",
              "50%   192.75  37.59  42.62  65.32  11.15  20.85   9.45 109.42  12.06 104.82   \n",
              "75%   198.72  41.05  46.52  70.22  11.38  23.76   9.78 113.98  12.25 108.63   \n",
              "max   212.22  58.94  67.39  97.07  11.92  37.70  11.01 139.64  12.78 133.34   \n",
              "\n",
              "          TN    TNH     TX    TXH   T10N  T10NH     SQ     SP        Q     DR  \\\n",
              "count 227.00 227.00 227.00 227.00 227.00 227.00 227.00 227.00   227.00 227.00   \n",
              "mean   63.64  11.14 143.94  13.54  50.04  13.62  48.43  37.50 1,033.04  17.52   \n",
              "std     9.29   0.36   8.48   0.32  11.61   0.34   3.88   3.03    48.73   2.15   \n",
              "min    35.88  10.04 113.85  12.65  18.93  12.82  37.79  29.82   903.77  10.07   \n",
              "25%    58.08  10.90 140.36  13.35  42.51  13.38  45.85  35.45 1,004.38  16.29   \n",
              "50%    63.64  11.14 143.94  13.54  50.04  13.62  48.43  37.50 1,033.04  17.52   \n",
              "75%    69.19  11.34 149.46  13.80  55.25  13.84  50.13  38.96 1,057.70  18.82   \n",
              "max    97.97  12.26 168.56  14.12  89.84  14.72  58.42  45.52 1,243.47  22.70   \n",
              "\n",
              "          RH    RHX   RHXH        PG        PX    PXH        PN    PNH    VVN  \\\n",
              "count 227.00 227.00 227.00    227.00    227.00 227.00    227.00 227.00 227.00   \n",
              "mean   21.81   8.61   7.32 10,153.09 10,182.89  12.33 10,121.85  12.19  36.89   \n",
              "std     3.05   1.17   0.74      8.52      8.59   0.27      8.60   0.19   2.98   \n",
              "min    12.18   5.20   5.12 10,131.16 10,159.43  11.56 10,097.50  11.41  25.37   \n",
              "25%    20.06   7.96   6.97 10,152.81 10,182.12  12.30 10,121.16  12.14  36.29   \n",
              "50%    21.81   8.61   7.32 10,153.09 10,182.89  12.33 10,121.85  12.19  36.89   \n",
              "75%    23.73   9.21   7.68 10,154.18 10,184.11  12.34 10,123.64  12.21  36.89   \n",
              "max    29.83  13.25   9.18 10,176.59 10,208.79  13.24 10,143.20  12.76  54.00   \n",
              "\n",
              "        VVNH    VVX   VVXH     NG     UG     UX    UXH     UN    UNH   EV24  \\\n",
              "count 227.00 227.00 227.00 227.00 227.00 227.00 227.00 227.00 227.00 227.00   \n",
              "mean   10.08  74.32  12.71   5.46  82.12  94.91   9.41  66.04  13.23  16.41   \n",
              "std     0.34   1.28   0.34   0.24   1.89   1.26   0.54   3.22   0.28   0.90   \n",
              "min     7.00  61.37  10.93   4.31  74.71  90.28   8.21  53.89  12.37  14.16   \n",
              "25%    10.08  74.32  12.71   5.46  81.00  94.23   9.07  63.96  13.08  15.86   \n",
              "50%    10.08  74.32  12.71   5.46  82.14  95.16   9.41  66.09  13.23  16.35   \n",
              "75%    10.08  74.60  12.75   5.46  83.39  95.78   9.74  68.00  13.43  16.82   \n",
              "max    11.16  78.16  13.74   6.57  86.55  97.24  11.14  73.39  13.87  20.65   \n",
              "\n",
              "       PotatoesTotal_9  WarePotatoes_10  SeedPotatoes_11  StarchPotatoes_12  \\\n",
              "count           227.00           227.00           227.00             227.00   \n",
              "mean        963,181.26       402,584.37       268,741.74         291,855.15   \n",
              "std         702,707.85       392,279.37       280,024.16         584,347.73   \n",
              "min             781.00           419.00             0.00               0.00   \n",
              "25%         353,572.50       101,169.00        33,058.00           1,213.00   \n",
              "50%         761,062.00       232,401.00       142,206.00           6,095.00   \n",
              "75%       1,580,037.50       737,740.50       527,469.50         162,321.00   \n",
              "max       2,316,828.00     1,465,253.00       863,166.00       2,068,530.00   \n",
              "\n",
              "       VegetablesArable_13   Cereals_14  GrassSeed_15  IndustrialCrops_16  \\\n",
              "count               227.00       227.00        227.00              227.00   \n",
              "mean            311,235.22 1,206,092.46    104,555.40           74,545.23   \n",
              "std             384,699.01   954,802.78    163,091.54          109,094.62   \n",
              "min                   9.00    14,860.00          0.00                0.00   \n",
              "25%              40,082.00   625,228.00     17,570.00           12,947.50   \n",
              "50%             144,210.00   923,321.00     49,722.00           29,214.00   \n",
              "75%             448,933.00 1,371,415.00    103,700.00           89,176.00   \n",
              "max           1,370,512.00 3,623,232.00    912,590.00          518,940.00   \n",
              "\n",
              "       Pulses_17  SugarBeets_18  OtherArableCrops_19  FallowLand_20  \\\n",
              "count     227.00         227.00               227.00         227.00   \n",
              "mean   18,486.65     488,367.54            31,175.05      60,362.77   \n",
              "std    44,159.30     337,661.59            26,271.24      75,271.61   \n",
              "min         0.00         650.00               352.00         243.00   \n",
              "25%     1,442.00     205,473.00             9,520.50      15,319.50   \n",
              "50%     3,624.00     423,517.00            22,784.00      34,230.00   \n",
              "75%     8,952.50     776,664.00            45,133.50      78,362.00   \n",
              "max   258,141.00   1,284,457.00           143,156.00     422,441.00   \n",
              "\n",
              "       ArableLandTotal_21  PotatoesTotal_22  WarePotatoes_23  SeedPotatoes_24  \\\n",
              "count              227.00            227.00           227.00           227.00   \n",
              "mean               830.43            503.38           330.93           142.80   \n",
              "std                521.52            338.35           312.88           133.87   \n",
              "min                 24.00              4.00             3.00             0.00   \n",
              "25%                438.50            236.50           106.00            29.50   \n",
              "50%                737.00            452.00           181.00            89.00   \n",
              "75%              1,070.00            735.50           525.00           227.50   \n",
              "max              2,446.00          1,655.00         1,558.00           545.00   \n",
              "\n",
              "       StarchPotatoes_25  VegetablesArable_26  Cereals_27  GrassSeed_28  \\\n",
              "count             227.00               227.00      227.00        227.00   \n",
              "mean              104.26               281.25      694.44        110.32   \n",
              "std               199.34               310.30      456.98        163.53   \n",
              "min                 0.00                 1.00       14.00          0.00   \n",
              "25%                 2.00                45.00      361.00         21.00   \n",
              "50%                 7.00               146.00      636.00         53.00   \n",
              "75%                82.00               400.00      933.50        112.50   \n",
              "max               892.00             1,127.00    2,195.00        817.00   \n",
              "\n",
              "       IndustrialCrops_29  Pulses_30  SugarBeets_31  OtherArableCrops_32  \\\n",
              "count              227.00     227.00         227.00               227.00   \n",
              "mean                95.70      34.78         555.10                45.84   \n",
              "std                146.61      84.19         417.05                42.62   \n",
              "min                  0.00       0.00           2.00                 2.00   \n",
              "25%                 18.50       4.00         196.00                17.00   \n",
              "50%                 43.00       8.00         496.00                32.00   \n",
              "75%                 89.00      18.00         760.50                61.00   \n",
              "max                769.00     498.00       2,075.00               285.00   \n",
              "\n",
              "       FallowLand_33  HorticultureInTheOpenTotal_34  FlowerBulbs_35  \\\n",
              "count         227.00                         227.00          227.00   \n",
              "mean          191.84                      16,123.87        2,543.38   \n",
              "std           186.72                      15,759.23        4,994.65   \n",
              "min             2.00                           0.00            0.00   \n",
              "25%            67.00                       3,193.00          110.00   \n",
              "50%           142.00                       8,859.00          793.00   \n",
              "75%           264.00                      28,406.00        2,593.50   \n",
              "max           926.00                      66,577.00       34,643.00   \n",
              "\n",
              "       FloriculturalCrops_36  NurseriesAndPerennialPlants_37  \\\n",
              "count                 227.00                          227.00   \n",
              "mean                  969.32                          364.15   \n",
              "std                 2,278.83                          611.63   \n",
              "min                     0.00                            0.00   \n",
              "25%                    12.00                           32.00   \n",
              "50%                   124.00                          163.00   \n",
              "75%                   716.50                          426.50   \n",
              "max                10,926.00                        3,742.00   \n",
              "\n",
              "       FruitInTheOpen_38  VegetablesHorticultural_39  \\\n",
              "count             227.00                      227.00   \n",
              "mean            2,025.28                   10,221.74   \n",
              "std             4,300.20                   10,408.41   \n",
              "min                 0.00                        0.00   \n",
              "25%                49.00                    1,609.00   \n",
              "50%               540.00                    6,452.00   \n",
              "75%             1,377.00                   16,780.50   \n",
              "max            23,554.00                   43,794.00   \n",
              "\n",
              "       HorticultureInTheOpenTotal_40  FlowerBulbs_41  FloriculturalCrops_42  \\\n",
              "count                         227.00          227.00                 227.00   \n",
              "mean                           50.42            6.39                   6.39   \n",
              "std                            37.32            9.58                  10.65   \n",
              "min                             0.00            0.00                   0.00   \n",
              "25%                            18.50            1.00                   1.00   \n",
              "50%                            44.00            3.00                   3.00   \n",
              "75%                            74.50            6.00                   7.00   \n",
              "max                           170.00           57.00                  66.00   \n",
              "\n",
              "       NurseriesAndPerennialPlants_43  FruitInTheOpen_44  \\\n",
              "count                          227.00             227.00   \n",
              "mean                             4.68               7.72   \n",
              "std                              5.29               9.95   \n",
              "min                              0.00               0.00   \n",
              "25%                              1.00               1.00   \n",
              "50%                              3.00               5.00   \n",
              "75%                              6.00               9.00   \n",
              "max                             32.00              45.00   \n",
              "\n",
              "       VegetablesHorticultural_45  HorticultureUnderGlassTotal_46  \\\n",
              "count                      227.00                          227.00   \n",
              "mean                        27.83                          496.18   \n",
              "std                         20.98                        1,068.31   \n",
              "min                          0.00                            0.00   \n",
              "25%                          8.00                            0.00   \n",
              "50%                         26.00                            0.00   \n",
              "75%                         45.50                          500.00   \n",
              "max                         75.00                        7,500.00   \n",
              "\n",
              "       FloriculturalCrops_47  NurseriesAndPerennialPlants_48  \\\n",
              "count                 227.00                          227.00   \n",
              "mean                  112.90                           46.56   \n",
              "std                   483.69                          372.06   \n",
              "min                     0.00                            0.00   \n",
              "25%                     0.00                            0.00   \n",
              "50%                     0.00                            0.00   \n",
              "75%                     0.00                            0.00   \n",
              "max                 6,000.00                        3,600.00   \n",
              "\n",
              "       FruitUnderGlass_49  VegetablesUnderGlass_50  \\\n",
              "count              227.00                   227.00   \n",
              "mean                51.39                   285.33   \n",
              "std                248.08                   811.39   \n",
              "min                  0.00                     0.00   \n",
              "25%                  0.00                     0.00   \n",
              "50%                  0.00                     0.00   \n",
              "75%                  0.00                     0.00   \n",
              "max              2,300.00                 7,500.00   \n",
              "\n",
              "       HorticultureUnderGlassTotal_51  FloriculturalCrops_52  \\\n",
              "count                          227.00                 227.00   \n",
              "mean                             0.57                   0.19   \n",
              "std                              0.79                   0.49   \n",
              "min                              0.00                   0.00   \n",
              "25%                              0.00                   0.00   \n",
              "50%                              0.00                   0.00   \n",
              "75%                              1.00                   0.00   \n",
              "max                              4.00                   3.00   \n",
              "\n",
              "       NurseriesAndPerennialPlants_53  FruitUnderGlass_54  \\\n",
              "count                          227.00              227.00   \n",
              "mean                             0.03                0.10   \n",
              "std                              0.16                0.32   \n",
              "min                              0.00                0.00   \n",
              "25%                              0.00                0.00   \n",
              "50%                              0.00                0.00   \n",
              "75%                              0.00                0.00   \n",
              "max                              1.00                2.00   \n",
              "\n",
              "       VegetablesUnderGlass_55  Hyacinths_56  Daffodils_57  Tulips_58  \\\n",
              "count                   227.00        227.00        227.00     227.00   \n",
              "mean                      0.26          0.00          0.00      22.36   \n",
              "std                       0.48          0.00          0.00     137.18   \n",
              "min                       0.00          0.00          0.00       0.00   \n",
              "25%                       0.00          0.00          0.00       0.00   \n",
              "50%                       0.00          0.00          0.00       0.00   \n",
              "75%                       0.00          0.00          0.00       0.00   \n",
              "max                       2.00          0.00          0.00   1,580.00   \n",
              "\n",
              "       OtherBulbForcing_59  Mushrooms_60  SubstrateUseMushrooms_61  \\\n",
              "count               227.00        227.00                    227.00   \n",
              "mean                  0.00          0.00                      0.02   \n",
              "std                   0.00          0.00                      0.27   \n",
              "min                   0.00          0.00                      0.00   \n",
              "25%                   0.00          0.00                      0.00   \n",
              "50%                   0.00          0.00                      0.00   \n",
              "75%                   0.00          0.00                      0.00   \n",
              "max                   0.00          0.00                      4.00   \n",
              "\n",
              "       BelgianEndiveCultivation_62  BulbForcingTotal_63  Hyacinths_64  \\\n",
              "count                       227.00               227.00        227.00   \n",
              "mean                         86.03                 0.08          0.00   \n",
              "std                         198.14                 0.29          0.00   \n",
              "min                           0.00                 0.00          0.00   \n",
              "25%                           0.00                 0.00          0.00   \n",
              "50%                           0.00                 0.00          0.00   \n",
              "75%                           0.00                 0.00          0.00   \n",
              "max                         960.00                 2.00          0.00   \n",
              "\n",
              "       Daffodils_65  Tulips_66  OtherBulbForcing_67  MushroomsTotal_68  \\\n",
              "count        227.00     227.00               227.00             227.00   \n",
              "mean           0.00       0.08                 0.00               0.01   \n",
              "std            0.00       0.29                 0.00               0.09   \n",
              "min            0.00       0.00                 0.00               0.00   \n",
              "25%            0.00       0.00                 0.00               0.00   \n",
              "50%            0.00       0.00                 0.00               0.00   \n",
              "75%            0.00       0.00                 0.00               0.00   \n",
              "max            0.00       2.00                 0.00               1.00   \n",
              "\n",
              "       Mushrooms_69  SubstrateUseMushrooms_70  BelgianEndiveCultivation_71  \\\n",
              "count        227.00                    227.00                       227.00   \n",
              "mean           0.00                      0.01                         0.44   \n",
              "std            0.00                      0.09                         0.93   \n",
              "min            0.00                      0.00                         0.00   \n",
              "25%            0.00                      0.00                         0.00   \n",
              "50%            0.00                      0.00                         0.00   \n",
              "75%            0.00                      0.00                         0.00   \n",
              "max            0.00                      1.00                         5.00   \n",
              "\n",
              "       GrasslandAndForagePlantsTotal_72  GrasslandTotal_73  \\\n",
              "count                            227.00             227.00   \n",
              "mean                         575,464.12         307,661.88   \n",
              "std                          355,481.51         153,094.08   \n",
              "min                          105,445.00          69,434.00   \n",
              "25%                          329,787.00         211,924.00   \n",
              "50%                          478,160.00         283,540.00   \n",
              "75%                          754,858.50         392,302.00   \n",
              "max                        1,970,763.00         807,349.00   \n",
              "\n",
              "       PastureAndMeadows_74  RoughGrazing_75  TemporaryGrass_76  \\\n",
              "count                227.00           227.00             227.00   \n",
              "mean             203,669.37        33,735.50          70,257.01   \n",
              "std              108,719.43        41,147.87          58,118.07   \n",
              "min               24,107.00            95.00           3,093.00   \n",
              "25%              127,275.00         8,940.00          34,701.50   \n",
              "50%              178,227.00        20,552.00          58,086.00   \n",
              "75%              264,529.00        41,936.50          86,395.50   \n",
              "max              569,197.00       313,641.00         368,056.00   \n",
              "\n",
              "       ForagePlants_77  GrasslandAndForagePlantsTotal_78  GrasslandTotal_79  \\\n",
              "count           227.00                            227.00             227.00   \n",
              "mean        267,802.24                            663.81             534.39   \n",
              "std         237,556.27                            407.98             308.61   \n",
              "min          26,819.00                             85.00              74.00   \n",
              "25%         106,009.50                            356.50             281.00   \n",
              "50%         178,970.00                            606.00             482.00   \n",
              "75%         347,521.00                            902.50             686.50   \n",
              "max       1,333,594.00                          1,963.00           1,384.00   \n",
              "\n",
              "       PastureAndMeadows_80  RoughGrazing_81  TemporaryGrass_82  \\\n",
              "count                227.00           227.00             227.00   \n",
              "mean                 406.72            21.41             194.86   \n",
              "std                  242.21            15.85             158.67   \n",
              "min                   72.00             1.00               7.00   \n",
              "25%                  228.00            10.00              84.50   \n",
              "50%                  352.00            17.00             165.00   \n",
              "75%                  602.50            26.50             262.00   \n",
              "max                1,053.00            88.00             855.00   \n",
              "\n",
              "       ForagePlants_83  \n",
              "count           227.00  \n",
              "mean            309.37  \n",
              "std             280.45  \n",
              "min              36.00  \n",
              "25%              99.00  \n",
              "50%             204.00  \n",
              "75%             423.50  \n",
              "max           1,436.00  "
            ]
          },
          "metadata": {},
          "execution_count": 30
        }
      ]
    },
    {
      "cell_type": "code",
      "metadata": {
        "id": "Fgn02lIfcSRT"
      },
      "source": [
        "# testing on cereal crops"
      ],
      "execution_count": null,
      "outputs": []
    },
    {
      "cell_type": "code",
      "metadata": {
        "id": "pQi3c2NDb3oJ"
      },
      "source": [
        "# Split Data Into Training and Test Sets\n",
        "features =  ['DDVEC', 'FHVEC', 'FG', 'FHX', 'FHXH', 'FHN', 'FHNH', 'FXX', 'FXXH', 'TG', 'TN', 'TNH', 'TX', 'TXH', 'T10N', 'T10NH', 'SQ', 'SP', 'Q', 'DR', 'RH', 'RHX', 'RHXH', 'PG', 'PX', 'PXH', 'PN', 'PNH', 'VVN', 'VVNH', 'VVX', 'VVXH', 'NG', 'UG', 'UX', 'UXH', 'UN', 'UNH', 'EV24']\n",
        "# divide dataset into X predictors and y target\n",
        "X = Farm_type_1[features]\n",
        "y = Farm_type_1[['Cereals_14']]\n",
        "\n",
        "# split data 80% training and 20% test w/ random state for reproducability\n",
        "X_train, X_test, y_train, y_test = train_test_split(\n",
        "    X, y, test_size=0.2, random_state=42)"
      ],
      "execution_count": 15,
      "outputs": []
    },
    {
      "cell_type": "markdown",
      "metadata": {
        "id": "OKqB1BZyah5p"
      },
      "source": [
        "# EDA"
      ]
    },
    {
      "cell_type": "code",
      "metadata": {
        "id": "4mLSqeKZeDQg"
      },
      "source": [
        "def topn_count(df, column, topn):\n",
        "    c = df[column].value_counts(dropna=False)\n",
        "    p = df[column].value_counts(dropna=False, normalize=True).mul(100).round(1).astype(str) + '%'\n",
        "    cp = (100*df.groupby(column).size().cumsum()/df.groupby(column).size().sum()).round(1).astype(str) + '%'\n",
        "    print(f'Top 10 Counts By {column.title()}')\n",
        "    return pd.concat([c, p ,cp], axis=1, keys=['Counts', '%', 'Cum %']).iloc[:topn]"
      ],
      "execution_count": null,
      "outputs": []
    },
    {
      "cell_type": "code",
      "metadata": {
        "id": "dHfSgkMRdSQc"
      },
      "source": [
        "# define function to generate 3 plots for X and Y columns in a dataframe: Histogram, Price Box Plot and Top N % Distribution\n",
        "def distplots(df, xcol, ycol, topn):\n",
        "    # Set a figure with 3 subplots and figure-level settings\n",
        "    f, (ax,ax2,ax3,ax4) = plt.subplots(1, 4, figsize=(18, 6))\n",
        "    sns.set_theme(style='ticks', palette='deep')\n",
        "    sns.set_style('whitegrid')\n",
        "    f.suptitle('Column Value Distributions', fontsize=14, fontweight ='bold')\n",
        "    \n",
        "    # Subplot 1 - Histogram by desired xcol showing probability %\n",
        "    ax = plt.subplot2grid((1, 7), (0, 0), colspan=2)\n",
        "    ax = sns.histplot(data=df, x=xcol, color='skyblue', stat='probability', discrete = True, ax=ax)\n",
        "    ax.set_title('Histogram')\n",
        "\n",
        "    # Subplot 2 - Scatter plot xcol vs. ycol\n",
        "    ax2 = plt.subplot2grid((1, 7), (0, 2), colspan=2)\n",
        "    ax2 = sns.scatterplot(df[xcol], df[ycol])\n",
        "    ax2.set_title(f'{ycol.title()} vs {xcol.title()} Scatterplot')\n",
        "    \n",
        "    # Subplot 3 - Boxplot by desired xcol against ycol (e.g. price) to see distributions grouped by xcol\n",
        "    ax3 = plt.subplot2grid((1, 7), (0, 4), colspan=2)\n",
        "    ax3 = sns.boxplot(data=df, x=xcol, y=ycol, showfliers=False, color='skyblue', ax=ax3) # Excludes outliers for presentability \n",
        "    ax3.set_title('Boxplot')\n",
        "\n",
        "    # Calculate medians and number of observations per group for use in positioning labels on plot\n",
        "    medians = df.groupby([xcol])[ycol].median().values\n",
        "    nobs = df[xcol].value_counts(sort=False).sort_index().values\n",
        "    nobs = [str(x) for x in nobs.tolist()]\n",
        "    nobs = [\"n: \" + i for i in nobs]\n",
        "\n",
        "    # Add number of observations to the boxplot for indication of each box's relative likelihood\n",
        "    pos = range(len(nobs))\n",
        "    for tick, label in zip(pos, ax2.get_xticklabels()):\n",
        "        ax3.text(pos[tick], medians[tick] + 0.2, nobs[tick], horizontalalignment='center', size='x-small', color='w', weight='bold')\n",
        "    \n",
        "    # Subplot 4 - Add dataframe top N value counts and % of group as a table in 3rd plot\n",
        "    top = topn_count(df, xcol, topn)\n",
        "    ax4 = plt.subplot2grid((1, 7), (0, 6))\n",
        "    ax4.table(cellText=top.values,rowLabels=top.index, colLabels=top.columns, cellLoc = 'center', rowLoc = 'center', loc='center')\n",
        "    ax4.axis(\"off\")\n",
        "    ax4.set_title('Top Values')\n",
        "    \n",
        "    f.tight_layout()\n",
        "    plt.show()"
      ],
      "execution_count": null,
      "outputs": []
    },
    {
      "cell_type": "code",
      "metadata": {
        "colab": {
          "base_uri": "https://localhost:8080/",
          "height": 522
        },
        "id": "X1iXc5zUYiZc",
        "outputId": "867f663c-8528-463e-ef47-04cd7c846862"
      },
      "source": [
        "# selecting each yield \n",
        "distplots(Farm_type_1, 'DDVEC', 'Cereals_14', 10)"
      ],
      "execution_count": null,
      "outputs": [
        {
          "output_type": "stream",
          "name": "stderr",
          "text": [
            "/usr/local/lib/python3.7/dist-packages/seaborn/_decorators.py:43: FutureWarning: Pass the following variables as keyword args: x, y. From version 0.12, the only valid positional argument will be `data`, and passing other arguments without an explicit keyword will result in an error or misinterpretation.\n",
            "  FutureWarning\n"
          ]
        },
        {
          "output_type": "stream",
          "name": "stdout",
          "text": [
            "Top 10 Counts By Ddvec\n"
          ]
        },
        {
          "output_type": "stream",
          "name": "stderr",
          "text": [
            "/usr/local/lib/python3.7/dist-packages/ipykernel_launcher.py:42: UserWarning: Tight layout not applied. tight_layout cannot make axes width small enough to accommodate all axes decorations\n"
          ]
        },
        {
          "output_type": "display_data",
          "data": {
            "image/png": "[encoded data removed]",
            "text/plain": [
              "<Figure size 1296x432 with 4 Axes>"
            ]
          },
          "metadata": {}
        }
      ]
    },
    {
      "cell_type": "code",
      "metadata": {
        "id": "9aX9YYhHfr-U"
      },
      "source": [
        "farm_1_ana = Farm_type_1[['DDVEC', 'FHVEC', 'FG', 'FHX', 'FHXH', 'FHN', 'FHNH', 'FXX', 'FXXH', 'TG', 'TN', 'TNH', 'TX', 'TXH', 'T10N', 'T10NH', 'SQ', 'SP', 'Q', 'DR', 'RH', 'RHX', 'RHXH', 'PG', 'PX', 'PXH', 'PN', 'PNH', 'VVN', 'VVNH', 'VVX', 'VVXH', 'NG', 'UG', 'UX', 'UXH', 'UN', 'UNH', 'EV24', 'Cereals_14']]"
      ],
      "execution_count": null,
      "outputs": []
    },
    {
      "cell_type": "code",
      "metadata": {
        "colab": {
          "base_uri": "https://localhost:8080/",
          "height": 317
        },
        "id": "KltgSGuxeuPb",
        "outputId": "fed510d5-0219-49b4-f69a-579de151227e"
      },
      "source": [
        "sns.heatmap(farm_1_ana.corr().abs(), annot= True)"
      ],
      "execution_count": null,
      "outputs": [
        {
          "output_type": "execute_result",
          "data": {
            "text/plain": [
              "<matplotlib.axes._subplots.AxesSubplot at 0x7fa748eaba90>"
            ]
          },
          "metadata": {},
          "execution_count": 22
        },
        {
          "output_type": "display_data",
          "data": {
            "image/png": "[encoded data removed]",
            "text/plain": [
              "<Figure size 432x288 with 2 Axes>"
            ]
          },
          "metadata": {}
        }
      ]
    },
    {
      "cell_type": "code",
      "metadata": {
        "colab": {
          "base_uri": "https://localhost:8080/"
        },
        "id": "zCB5PdBfgFt1",
        "outputId": "2e0ab2b3-1940-4418-a50a-32e6b8e80a1f"
      },
      "source": [
        "corr = farm_1_ana.corr()\n",
        "\n",
        "# correlation matrix for just price_log\n",
        "corr['Cereals_14'].sort_values(ascending=False)"
      ],
      "execution_count": null,
      "outputs": [
        {
          "output_type": "execute_result",
          "data": {
            "text/plain": [
              "Cereals_14    1.00\n",
              "FHN           0.45\n",
              "FG            0.42\n",
              "FHVEC         0.42\n",
              "FHX           0.40\n",
              "FHNH          0.38\n",
              "FXX           0.29\n",
              "UG            0.25\n",
              "UX            0.17\n",
              "FHXH          0.16\n",
              "UN            0.15\n",
              "DDVEC         0.14\n",
              "TNH           0.12\n",
              "VVN           0.12\n",
              "DR            0.07\n",
              "RHXH          0.06\n",
              "VVNH          0.02\n",
              "T10NH         0.01\n",
              "VVXH          0.01\n",
              "RHX           0.01\n",
              "PXH           0.01\n",
              "PNH          -0.01\n",
              "T10N         -0.02\n",
              "RH           -0.02\n",
              "VVX          -0.03\n",
              "PX           -0.04\n",
              "PG           -0.04\n",
              "PN           -0.05\n",
              "FXXH         -0.07\n",
              "NG           -0.09\n",
              "SQ           -0.09\n",
              "UNH          -0.10\n",
              "SP           -0.10\n",
              "TXH          -0.11\n",
              "TX           -0.13\n",
              "Q            -0.17\n",
              "TN           -0.19\n",
              "EV24         -0.21\n",
              "TG           -0.23\n",
              "UXH          -0.24\n",
              "Name: Cereals_14, dtype: float64"
            ]
          },
          "metadata": {},
          "execution_count": 23
        }
      ]
    },
    {
      "cell_type": "code",
      "metadata": {
        "colab": {
          "base_uri": "https://localhost:8080/",
          "height": 1000
        },
        "id": "xIiNoDE1ffH0",
        "outputId": "be95772a-a2da-467f-9ff1-7ce632f9acd1"
      },
      "source": [
        "# check for collinearity among potential predictors by pairs\n",
        "df = (\n",
        "     corr\n",
        "     .stack()\n",
        "     .reset_index()\n",
        "     .sort_values(0, ascending=False)\n",
        ")\n",
        "# zip the default name columns level_0 and level_1\n",
        "df['pairs'] = list(zip(df.level_0, df.level_1))\n",
        "# set index to pairs\n",
        "df.set_index(['pairs'], inplace=True)\n",
        "# now drop level columns\n",
        "df.drop(columns=['level_1', 'level_0'], inplace=True)\n",
        "# rename correlation column rather than 0\n",
        "df.columns = ['correlation']\n",
        "# drop duplicates and keep only pair correlations above 0.65\n",
        "df.drop_duplicates(inplace=True)\n",
        "df[abs(df.correlation) > .65]"
      ],
      "execution_count": null,
      "outputs": [
        {
          "output_type": "execute_result",
          "data": {
            "text/html": [
              "<div>\n",
              "<style scoped>\n",
              "    .dataframe tbody tr th:only-of-type {\n",
              "        vertical-align: middle;\n",
              "    }\n",
              "\n",
              "    .dataframe tbody tr th {\n",
              "        vertical-align: top;\n",
              "    }\n",
              "\n",
              "    .dataframe thead th {\n",
              "        text-align: right;\n",
              "    }\n",
              "</style>\n",
              "<table border=\"1\" class=\"dataframe\">\n",
              "  <thead>\n",
              "    <tr style=\"text-align: right;\">\n",
              "      <th></th>\n",
              "      <th>correlation</th>\n",
              "    </tr>\n",
              "    <tr>\n",
              "      <th>pairs</th>\n",
              "      <th></th>\n",
              "    </tr>\n",
              "  </thead>\n",
              "  <tbody>\n",
              "    <tr>\n",
              "      <th>(DDVEC, DDVEC)</th>\n",
              "      <td>1.00</td>\n",
              "    </tr>\n",
              "    <tr>\n",
              "      <th>(FHVEC, FG)</th>\n",
              "      <td>1.00</td>\n",
              "    </tr>\n",
              "    <tr>\n",
              "      <th>(FHX, FG)</th>\n",
              "      <td>1.00</td>\n",
              "    </tr>\n",
              "    <tr>\n",
              "      <th>(FHX, FHVEC)</th>\n",
              "      <td>0.99</td>\n",
              "    </tr>\n",
              "    <tr>\n",
              "      <th>(FHN, FG)</th>\n",
              "      <td>0.99</td>\n",
              "    </tr>\n",
              "    <tr>\n",
              "      <th>(FHN, FHVEC)</th>\n",
              "      <td>0.99</td>\n",
              "    </tr>\n",
              "    <tr>\n",
              "      <th>(PX, PG)</th>\n",
              "      <td>0.99</td>\n",
              "    </tr>\n",
              "    <tr>\n",
              "      <th>(FHX, FHN)</th>\n",
              "      <td>0.99</td>\n",
              "    </tr>\n",
              "    <tr>\n",
              "      <th>(PN, PG)</th>\n",
              "      <td>0.99</td>\n",
              "    </tr>\n",
              "    <tr>\n",
              "      <th>(SQ, SP)</th>\n",
              "      <td>0.98</td>\n",
              "    </tr>\n",
              "    <tr>\n",
              "      <th>(Q, EV24)</th>\n",
              "      <td>0.97</td>\n",
              "    </tr>\n",
              "    <tr>\n",
              "      <th>(PN, PX)</th>\n",
              "      <td>0.96</td>\n",
              "    </tr>\n",
              "    <tr>\n",
              "      <th>(FHVEC, FXX)</th>\n",
              "      <td>0.95</td>\n",
              "    </tr>\n",
              "    <tr>\n",
              "      <th>(FHX, FXX)</th>\n",
              "      <td>0.95</td>\n",
              "    </tr>\n",
              "    <tr>\n",
              "      <th>(FG, FXX)</th>\n",
              "      <td>0.94</td>\n",
              "    </tr>\n",
              "    <tr>\n",
              "      <th>(SQ, Q)</th>\n",
              "      <td>0.93</td>\n",
              "    </tr>\n",
              "    <tr>\n",
              "      <th>(FXX, FHN)</th>\n",
              "      <td>0.92</td>\n",
              "    </tr>\n",
              "    <tr>\n",
              "      <th>(TN, T10N)</th>\n",
              "      <td>0.91</td>\n",
              "    </tr>\n",
              "    <tr>\n",
              "      <th>(EV24, SQ)</th>\n",
              "      <td>0.89</td>\n",
              "    </tr>\n",
              "    <tr>\n",
              "      <th>(RHX, RH)</th>\n",
              "      <td>0.88</td>\n",
              "    </tr>\n",
              "    <tr>\n",
              "      <th>(Q, SP)</th>\n",
              "      <td>0.88</td>\n",
              "    </tr>\n",
              "    <tr>\n",
              "      <th>(UN, UG)</th>\n",
              "      <td>0.84</td>\n",
              "    </tr>\n",
              "    <tr>\n",
              "      <th>(SP, EV24)</th>\n",
              "      <td>0.83</td>\n",
              "    </tr>\n",
              "    <tr>\n",
              "      <th>(DR, RH)</th>\n",
              "      <td>0.78</td>\n",
              "    </tr>\n",
              "    <tr>\n",
              "      <th>(TG, TX)</th>\n",
              "      <td>0.77</td>\n",
              "    </tr>\n",
              "    <tr>\n",
              "      <th>(TG, TN)</th>\n",
              "      <td>0.76</td>\n",
              "    </tr>\n",
              "    <tr>\n",
              "      <th>(FHNH, FG)</th>\n",
              "      <td>0.74</td>\n",
              "    </tr>\n",
              "    <tr>\n",
              "      <th>(FHX, FHNH)</th>\n",
              "      <td>0.74</td>\n",
              "    </tr>\n",
              "    <tr>\n",
              "      <th>(FHNH, FHN)</th>\n",
              "      <td>0.73</td>\n",
              "    </tr>\n",
              "    <tr>\n",
              "      <th>(FHNH, FHVEC)</th>\n",
              "      <td>0.73</td>\n",
              "    </tr>\n",
              "    <tr>\n",
              "      <th>(UNH, TXH)</th>\n",
              "      <td>0.69</td>\n",
              "    </tr>\n",
              "    <tr>\n",
              "      <th>(FXX, UN)</th>\n",
              "      <td>0.67</td>\n",
              "    </tr>\n",
              "    <tr>\n",
              "      <th>(RHXH, SQ)</th>\n",
              "      <td>-0.66</td>\n",
              "    </tr>\n",
              "    <tr>\n",
              "      <th>(UG, EV24)</th>\n",
              "      <td>-0.66</td>\n",
              "    </tr>\n",
              "  </tbody>\n",
              "</table>\n",
              "</div>"
            ],
            "text/plain": [
              "                correlation\n",
              "pairs                      \n",
              "(DDVEC, DDVEC)         1.00\n",
              "(FHVEC, FG)            1.00\n",
              "(FHX, FG)              1.00\n",
              "(FHX, FHVEC)           0.99\n",
              "(FHN, FG)              0.99\n",
              "(FHN, FHVEC)           0.99\n",
              "(PX, PG)               0.99\n",
              "(FHX, FHN)             0.99\n",
              "(PN, PG)               0.99\n",
              "(SQ, SP)               0.98\n",
              "(Q, EV24)              0.97\n",
              "(PN, PX)               0.96\n",
              "(FHVEC, FXX)           0.95\n",
              "(FHX, FXX)             0.95\n",
              "(FG, FXX)              0.94\n",
              "(SQ, Q)                0.93\n",
              "(FXX, FHN)             0.92\n",
              "(TN, T10N)             0.91\n",
              "(EV24, SQ)             0.89\n",
              "(RHX, RH)              0.88\n",
              "(Q, SP)                0.88\n",
              "(UN, UG)               0.84\n",
              "(SP, EV24)             0.83\n",
              "(DR, RH)               0.78\n",
              "(TG, TX)               0.77\n",
              "(TG, TN)               0.76\n",
              "(FHNH, FG)             0.74\n",
              "(FHX, FHNH)            0.74\n",
              "(FHNH, FHN)            0.73\n",
              "(FHNH, FHVEC)          0.73\n",
              "(UNH, TXH)             0.69\n",
              "(FXX, UN)              0.67\n",
              "(RHXH, SQ)            -0.66\n",
              "(UG, EV24)            -0.66"
            ]
          },
          "metadata": {},
          "execution_count": 24
        }
      ]
    },
    {
      "cell_type": "code",
      "metadata": {
        "id": "CJBfUu3kjGa7"
      },
      "source": [
        "def calc_sm_ols(model_nbr, X, y):\n",
        "    \"\"\"Runs and returns statsmodel Ordinary Least Squares (OLS) regression model.\n",
        "       Takes in X predictors and y target, generates model, predictions and \n",
        "       performance stats.\n",
        "    \n",
        "        Parameters:\n",
        "        model_nbr (int): sequence number you've created for model iteration\n",
        "        X (pd.DataFrame): train or test slice contains predictors\n",
        "        y (pd.DataFrame)): train or test slice contains target\n",
        "        Returns:\n",
        "        model (linear_model): statsmodel fitted OLS model object\n",
        "        rsq_adj (float): model adjusted r-squared\n",
        "        rmse (float): model root mean squared error\n",
        "        mae (float): models mean absolute error\n",
        "   \"\"\"\n",
        "    \n",
        "    model = sm.OLS(y, X).fit()\n",
        "    print(model.summary())\n",
        "    \n",
        "    # generate model predictions and calculate errors \n",
        "    y_pred = model.predict(X)\n",
        "    if y.name == 'price' :\n",
        "        rmse = round(ev.rmse(y, y_pred))\n",
        "        mae = round(ev.meanabs(y, y_pred))\n",
        "        print(f'\\nModel {model_nbr} Summary Statistics')\n",
        "        print(f'Root Mean Squared Error (RMSE): {rmse}.')\n",
        "        print(f'Mean Absolute Error (MAE): {mae}.')\n",
        "    elif y.name == 'price_log' :\n",
        "        rmse = round(ev.rmse(np.exp(y), np.exp(y_pred)))\n",
        "        mae = round(ev.meanabs(np.exp(y), np.exp(y_pred)))\n",
        "        mae_log = ev.meanabs(y, y_pred)\n",
        "        print(f'\\nModel {model_nbr} Summary Statistics')\n",
        "        print(f'Root Mean Squared Error (RMSE): {rmse}.')\n",
        "        print(f'Mean Absolute Error (MAE): {mae} | Log y: {mae_log}')\n",
        "    else :\n",
        "        print(f'Cannot calculate RMSE and MAE from y variable {y}')\n",
        "    rsq_adj = model.rsquared_adj                 \n",
        "    return model, rsq_adj, rmse, mae"
      ],
      "execution_count": null,
      "outputs": []
    },
    {
      "cell_type": "code",
      "metadata": {
        "id": "eHHLNNB9U5qu"
      },
      "source": [
        "mlflow.sklearn.autolog()"
      ],
      "execution_count": null,
      "outputs": []
    },
    {
      "cell_type": "code",
      "metadata": {
        "id": "9R5g3s-SjT_h",
        "colab": {
          "base_uri": "https://localhost:8080/"
        },
        "outputId": "dd5df101-0ae2-48c9-bc49-7ce07f817257"
      },
      "source": [
        "reg = LinearRegression().fit(X, y) "
      ],
      "execution_count": null,
      "outputs": [
        {
          "output_type": "stream",
          "name": "stderr",
          "text": [
            "2021/09/12 18:44:58 INFO mlflow.utils.autologging_utils: Created MLflow autologging run with ID '8938efdc83e54f0d8a42d9514c41b1ff', which will track hyperparameters, performance metrics, model artifacts, and lineage information for the current sklearn workflow\n",
            "2021/09/12 18:45:01 WARNING mlflow.models.model: Logging model metadata to the tracking server has failed, possibly due older server version. The model artifacts have been logged successfully under ./artifacts/282/8938efdc83e54f0d8a42d9514c41b1ff/artifacts. In addition to exporting model artifacts, MLflow clients 1.7.0 and above attempt to record model metadata to the  tracking store. If logging to a mlflow server via REST, consider  upgrading the server version to MLflow 1.7.0 or above.\n"
          ]
        }
      ]
    },
    {
      "cell_type": "code",
      "metadata": {
        "colab": {
          "base_uri": "https://localhost:8080/"
        },
        "id": "95yw2_TPjXpb",
        "outputId": "e7745cb0-171f-4def-ef1a-befb0ab75df3"
      },
      "source": [
        "reg.score(X, y)"
      ],
      "execution_count": null,
      "outputs": [
        {
          "output_type": "execute_result",
          "data": {
            "text/plain": [
              "0.7845342637149324"
            ]
          },
          "metadata": {},
          "execution_count": 47
        }
      ]
    },
    {
      "cell_type": "code",
      "metadata": {
        "id": "k_RlRs04WLjg"
      },
      "source": [
        "mlflow.sklearn.autolog()"
      ],
      "execution_count": null,
      "outputs": []
    },
    {
      "cell_type": "code",
      "metadata": {
        "id": "BY04BE2oWIRq"
      },
      "source": [
        " mlflow.log_param(\"normalize\", \"True\")"
      ],
      "execution_count": null,
      "outputs": []
    },
    {
      "cell_type": "code",
      "metadata": {
        "colab": {
          "base_uri": "https://localhost:8080/"
        },
        "id": "e3KaGfYFV74e",
        "outputId": "19ac13d2-eae5-4b9b-9377-63b3c78da6ce"
      },
      "source": [
        "reg = LinearRegression(normalize=True).fit(X,y)"
      ],
      "execution_count": null,
      "outputs": [
        {
          "output_type": "stream",
          "name": "stderr",
          "text": [
            "2021/09/12 18:50:58 WARNING mlflow.models.model: Logging model metadata to the tracking server has failed, possibly due older server version. The model artifacts have been logged successfully under ./artifacts/282/0fd0c008444f468484c39ccd3ace3ed2/artifacts. In addition to exporting model artifacts, MLflow clients 1.7.0 and above attempt to record model metadata to the  tracking store. If logging to a mlflow server via REST, consider  upgrading the server version to MLflow 1.7.0 or above.\n"
          ]
        }
      ]
    },
    {
      "cell_type": "code",
      "metadata": {
        "id": "7fdQOUuqjn1m"
      },
      "source": [
        "model = sm.OLS(y, X).fit()"
      ],
      "execution_count": null,
      "outputs": []
    },
    {
      "cell_type": "code",
      "metadata": {
        "colab": {
          "base_uri": "https://localhost:8080/"
        },
        "id": "2vzWFHxVjqS4",
        "outputId": "d1b569b6-0793-4fdf-ad42-4a169627c045"
      },
      "source": [
        "print(model.summary())"
      ],
      "execution_count": null,
      "outputs": [
        {
          "output_type": "stream",
          "name": "stdout",
          "text": [
            "                                 OLS Regression Results                                \n",
            "=======================================================================================\n",
            "Dep. Variable:             Cereals_14   R-squared (uncentered):                   0.915\n",
            "Model:                            OLS   Adj. R-squared (uncentered):              0.898\n",
            "Method:                 Least Squares   F-statistic:                              52.09\n",
            "Date:                Sun, 12 Sep 2021   Prob (F-statistic):                    2.29e-81\n",
            "Time:                        18:39:38   Log-Likelihood:                         -3275.6\n",
            "No. Observations:                 227   AIC:                                      6629.\n",
            "Df Residuals:                     188   BIC:                                      6763.\n",
            "Df Model:                          39                                                  \n",
            "Covariance Type:            nonrobust                                                  \n",
            "==============================================================================\n",
            "                 coef    std err          t      P>|t|      [0.025      0.975]\n",
            "------------------------------------------------------------------------------\n",
            "DDVEC      -1170.3798   6644.437     -0.176      0.860   -1.43e+04    1.19e+04\n",
            "FHVEC       -3.23e+04   1.08e+05     -0.299      0.765   -2.45e+05    1.81e+05\n",
            "FG          5.444e+05   1.64e+05      3.324      0.001    2.21e+05    8.67e+05\n",
            "FHX        -2.819e+05   7.28e+04     -3.869      0.000   -4.26e+05   -1.38e+05\n",
            "FHXH        2.796e+05   1.72e+05      1.622      0.107   -6.05e+04     6.2e+05\n",
            "FHN        -6.879e+04   8.58e+04     -0.802      0.424   -2.38e+05       1e+05\n",
            "FHNH        2.445e+04   1.11e+05      0.221      0.825   -1.94e+05    2.43e+05\n",
            "FXX        -3.312e+04   2.16e+04     -1.531      0.127   -7.58e+04    9547.883\n",
            "FXXH        1.252e+05   1.81e+05      0.693      0.489   -2.31e+05    4.82e+05\n",
            "TG         -1.428e+05    7.6e+04     -1.879      0.062   -2.93e+05    7120.144\n",
            "TN         -8.359e+04    3.5e+04     -2.386      0.018   -1.53e+05   -1.45e+04\n",
            "TNH         4.132e+05   1.51e+05      2.742      0.007    1.16e+05     7.1e+05\n",
            "TX          1.628e+05   4.88e+04      3.336      0.001    6.65e+04    2.59e+05\n",
            "TXH        -9.394e+05   2.29e+05     -4.102      0.000   -1.39e+06   -4.88e+05\n",
            "T10N        5.758e+04   1.09e+04      5.296      0.000    3.61e+04     7.9e+04\n",
            "T10NH      -1.952e+05    1.5e+05     -1.306      0.193    -4.9e+05    9.97e+04\n",
            "SQ          1.241e+05   1.06e+05      1.167      0.245   -8.57e+04    3.34e+05\n",
            "SP         -2.093e+05   1.04e+05     -2.008      0.046   -4.15e+05   -3666.895\n",
            "Q           -404.4354   7341.504     -0.055      0.956   -1.49e+04    1.41e+04\n",
            "DR          7670.7010    3.9e+04      0.197      0.844   -6.92e+04    8.45e+04\n",
            "RH         -1.651e+04   4.36e+04     -0.378      0.706   -1.03e+05    6.96e+04\n",
            "RHX         1.108e+05   7.88e+04      1.407      0.161   -4.46e+04    2.66e+05\n",
            "RHXH       -3.752e+04   7.84e+04     -0.478      0.633   -1.92e+05    1.17e+05\n",
            "PG         -1.433e+05   1.64e+05     -0.875      0.383   -4.67e+05     1.8e+05\n",
            "PX          7.234e+04   9.12e+04      0.793      0.429   -1.08e+05    2.52e+05\n",
            "PXH         1.388e+05   1.59e+05      0.875      0.383   -1.74e+05    4.52e+05\n",
            "PN           7.17e+04   7.57e+04      0.947      0.345   -7.77e+04    2.21e+05\n",
            "PNH        -5.529e+04    2.1e+05     -0.263      0.793    -4.7e+05     3.6e+05\n",
            "VVN         9.748e+04   1.88e+04      5.193      0.000    6.05e+04    1.35e+05\n",
            "VVNH        3.468e+05    1.4e+05      2.482      0.014    7.12e+04    6.22e+05\n",
            "VVX         -1.35e+04   3.57e+04     -0.378      0.706    -8.4e+04     5.7e+04\n",
            "VVXH       -5.186e+04   1.19e+05     -0.437      0.663   -2.86e+05    1.82e+05\n",
            "NG         -4.456e+05   1.81e+05     -2.463      0.015   -8.03e+05   -8.87e+04\n",
            "UG         -6.382e+04   2.03e+05     -0.315      0.753   -4.64e+05    3.36e+05\n",
            "UX          7.807e+04   1.12e+05      0.694      0.488   -1.44e+05       3e+05\n",
            "UXH        -9.434e+04   9.71e+04     -0.972      0.332   -2.86e+05    9.72e+04\n",
            "UN          5589.3214   1.21e+05      0.046      0.963   -2.33e+05    2.44e+05\n",
            "UNH        -4.343e+05   2.09e+05     -2.076      0.039   -8.47e+05   -2.16e+04\n",
            "EV24        -1.73e+05    4.4e+05     -0.393      0.695   -1.04e+06    6.95e+05\n",
            "==============================================================================\n",
            "Omnibus:                        0.368   Durbin-Watson:                   1.062\n",
            "Prob(Omnibus):                  0.832   Jarque-Bera (JB):                0.512\n",
            "Skew:                          -0.050   Prob(JB):                        0.774\n",
            "Kurtosis:                       2.790   Cond. No.                     2.52e+05\n",
            "==============================================================================\n",
            "\n",
            "Warnings:\n",
            "[1] Standard Errors assume that the covariance matrix of the errors is correctly specified.\n",
            "[2] The condition number is large, 2.52e+05. This might indicate that there are\n",
            "strong multicollinearity or other numerical problems.\n"
          ]
        }
      ]
    },
    {
      "cell_type": "code",
      "metadata": {
        "id": "UiozN5k6S7ob",
        "colab": {
          "base_uri": "https://localhost:8080/"
        },
        "outputId": "3813b259-c40c-4093-d71e-d974e582be7c"
      },
      "source": [
        "mlflow.statsmodels.autolog()"
      ],
      "execution_count": null,
      "outputs": [
        {
          "output_type": "stream",
          "name": "stderr",
          "text": [
            "2021/09/12 18:42:00 WARNING mlflow.utils.autologging_utils: You are using an unsupported version of statsmodels. If you encounter errors during autologging, try upgrading / downgrading statsmodels to a supported version, or try upgrading MLflow.\n"
          ]
        }
      ]
    },
    {
      "cell_type": "code",
      "metadata": {
        "id": "Nf6MMwQwUdfX"
      },
      "source": [
        "display(IPython.display.IFrame(f\"https://dagshub.com/{REPO_OWNER}/{REPO_NAME}/experiments/#/\",'100%',600))"
      ],
      "execution_count": null,
      "outputs": []
    },
    {
      "cell_type": "code",
      "metadata": {
        "id": "xDuFp7cdtV6v"
      },
      "source": [
        "# fxn\n",
        "\n",
        "def reg_print(model, y_test, y_pred, x_test):\n",
        "  print('Coefficients: \\n', model.coef_)\n",
        "  print('rank :', model.rank_)\n",
        "  # The mean squared error\n",
        "  print('Mean squared error: %.2f'\n",
        "        % mean_squared_error(y_test, y_pred))\n",
        "  # The coefficient of determination: 1 is perfect prediction\n",
        "  print('Coefficient of determination: %.2f'\n",
        "        % r2_score(y_test, y_pred))\n",
        "\n",
        "  # Plot outputs\n",
        "\n",
        "  x_test=np.arange(0,len(x_test),1)\n",
        "\n",
        "  plt.scatter(x_test, y_test,  color='black')\n",
        "  plt.plot(x_test, y_pred, color='blue', linewidth=3)\n",
        "\n",
        "  plt.xticks(())\n",
        "  plt.yticks(())\n",
        "\n",
        "  plt.show()"
      ],
      "execution_count": 27,
      "outputs": []
    },
    {
      "cell_type": "markdown",
      "metadata": {
        "id": "oDzI7eF5YKhy"
      },
      "source": [
        "# Potatoes total\n"
      ]
    },
    {
      "cell_type": "code",
      "metadata": {
        "id": "B0obleFUxSb4"
      },
      "source": [
        "potatoes_df = Farm_type_1[['DDVEC', 'FHVEC', 'FG', 'FHX', 'FHXH', 'FHN', 'FHNH', 'FXX', 'FXXH', 'TG', 'TN', 'TNH', 'TX', 'TXH', 'T10N', 'T10NH', 'SQ', 'SP', 'Q', 'DR', 'RH', 'RHX', 'RHXH', 'PG', 'PX', 'PXH', 'PN', 'PNH', 'VVN', 'VVNH', 'VVX', 'VVXH', 'NG', 'UG', 'UX', 'UXH', 'UN', 'UNH', 'EV24', 'PotatoesTotal_9']]"
      ],
      "execution_count": 43,
      "outputs": []
    },
    {
      "cell_type": "code",
      "metadata": {
        "id": "EPjn4eFxxzAL"
      },
      "source": [
        "X_potatoes = potatoes_df[features]\n",
        "\n",
        "y_potatoes = potatoes_df['PotatoesTotal_9']"
      ],
      "execution_count": 45,
      "outputs": []
    },
    {
      "cell_type": "code",
      "metadata": {
        "id": "vrMEX2Wix9p3"
      },
      "source": [
        "X_train_potatoes, X_test_potatoes, y_train_potatoes, y_test_potatoes = train_test_split(\n",
        "    X_potatoes, y_potatoes, test_size=0.2, random_state=42)"
      ],
      "execution_count": 46,
      "outputs": []
    },
    {
      "cell_type": "code",
      "metadata": {
        "colab": {
          "base_uri": "https://localhost:8080/"
        },
        "id": "9UsaLFNkyUBC",
        "outputId": "5bbfc379-9b64-45d6-9aeb-a237a5de01a2"
      },
      "source": [
        "potatoes = LinearRegression(normalize=True).fit(X_train_potatoes, y_train_potatoes)"
      ],
      "execution_count": 47,
      "outputs": [
        {
          "output_type": "stream",
          "name": "stderr",
          "text": [
            "2021/09/17 12:44:44 INFO mlflow.utils.autologging_utils: Created MLflow autologging run with ID 'cc028b3b4a4949a1b59e336ae99d85a1', which will track hyperparameters, performance metrics, model artifacts, and lineage information for the current sklearn workflow\n",
            "2021/09/17 12:44:47 WARNING mlflow.models.model: Logging model metadata to the tracking server has failed, possibly due older server version. The model artifacts have been logged successfully under ./artifacts/282/cc028b3b4a4949a1b59e336ae99d85a1/artifacts. In addition to exporting model artifacts, MLflow clients 1.7.0 and above attempt to record model metadata to the  tracking store. If logging to a mlflow server via REST, consider  upgrading the server version to MLflow 1.7.0 or above.\n"
          ]
        }
      ]
    },
    {
      "cell_type": "code",
      "metadata": {
        "id": "qdYtRu10ycmk"
      },
      "source": [
        "potatoes_pred = potatoes.predict(X_test_potatoes)"
      ],
      "execution_count": 49,
      "outputs": []
    },
    {
      "cell_type": "code",
      "metadata": {
        "colab": {
          "base_uri": "https://localhost:8080/",
          "height": 480
        },
        "id": "odzf9fLBykMo",
        "outputId": "f19e820f-16c1-4448-bafb-b4b81d19f9a8"
      },
      "source": [
        "reg_print(potatoes, y_test_potatoes, potatoes_pred, X_test_potatoes)"
      ],
      "execution_count": 50,
      "outputs": [
        {
          "output_type": "stream",
          "name": "stdout",
          "text": [
            "Coefficients: \n",
            " [ 3.83895007e+02  4.83639592e+04  1.30807483e+05 -5.56978249e+04\n",
            "  3.51377627e+05 -6.16661971e+04  3.47381169e+04 -3.15400562e+04\n",
            "  4.67210146e+04 -2.35283978e+04 -5.10239244e+04  2.73492602e+05\n",
            "  5.30332493e+04 -7.39692328e+05  1.76907248e+04  1.10199130e+05\n",
            "  4.29909320e+05 -3.64715595e+05 -1.04146800e+04  2.91450114e+04\n",
            " -9.96538770e+03  1.07954978e+04  9.06097338e+04  1.79155774e+05\n",
            " -9.01527319e+04 -6.01714761e+04 -9.50880828e+04 -4.49245257e+05\n",
            "  5.60679897e+04  1.25400131e+05 -1.56382080e+05  1.23029339e+05\n",
            "  1.32109556e+05  8.26789002e+04 -8.08916419e+04 -1.93727330e+05\n",
            " -8.12194164e+04 -1.18107025e+05 -2.78967014e+05]\n",
            "rank : 39\n",
            "Mean squared error: 326049933614.10\n",
            "Coefficient of determination: 0.41\n"
          ]
        },
        {
          "output_type": "display_data",
          "data": {
            "image/png": "[encoded data removed]",
            "text/plain": [
              "<Figure size 432x288 with 1 Axes>"
            ]
          },
          "metadata": {}
        }
      ]
    },
    {
      "cell_type": "code",
      "metadata": {
        "id": "cmCh8iILYYsU"
      },
      "source": [
        "filename = 'potatoes.sav'\n",
        "pickle.dump(potatoes, open(filename, 'wb'))"
      ],
      "execution_count": 105,
      "outputs": []
    },
    {
      "cell_type": "markdown",
      "metadata": {
        "id": "gEFmTLbjYNE3"
      },
      "source": [
        "# Vegetables Arable \n",
        "\n",
        "Arable vegetables include: kale, peas (harvested green), celeriac, beetroot, rutabaga, salsify, spinach, French beans, sweet corn, broad beans (harvested green), onions, winter carrots and Belgian endive (roots)."
      ]
    },
    {
      "cell_type": "code",
      "metadata": {
        "id": "i0EWZHIitP0K"
      },
      "source": [
        "mlflow.sklearn.autolog()"
      ],
      "execution_count": 20,
      "outputs": []
    },
    {
      "cell_type": "code",
      "metadata": {
        "id": "6yp94sSJqyqC"
      },
      "source": [
        "veg_arable_df = Farm_type_1[['DDVEC', 'FHVEC', 'FG', 'FHX', 'FHXH', 'FHN', 'FHNH', 'FXX', 'FXXH', 'TG', 'TN', 'TNH', 'TX', 'TXH', 'T10N', 'T10NH', 'SQ', 'SP', 'Q', 'DR', 'RH', 'RHX', 'RHXH', 'PG', 'PX', 'PXH', 'PN', 'PNH', 'VVN', 'VVNH', 'VVX', 'VVXH', 'NG', 'UG', 'UX', 'UXH', 'UN', 'UNH', 'EV24', 'VegetablesArable_13']]"
      ],
      "execution_count": 16,
      "outputs": []
    },
    {
      "cell_type": "code",
      "metadata": {
        "id": "M0vHT5WIsv8F"
      },
      "source": [
        "X_veg_ara = veg_arable_df[features]\n",
        "\n",
        "y_veg_ara = veg_arable_df['VegetablesArable_13']"
      ],
      "execution_count": 17,
      "outputs": []
    },
    {
      "cell_type": "code",
      "metadata": {
        "id": "PNtiQUFYtDU7"
      },
      "source": [
        "X_train_veg_ara, X_test_veg_ara, y_train_veg_ara, y_test_veg_ara = train_test_split(\n",
        "    X_veg_ara, y_veg_ara, test_size=0.2, random_state=42)"
      ],
      "execution_count": 21,
      "outputs": []
    },
    {
      "cell_type": "code",
      "metadata": {
        "colab": {
          "base_uri": "https://localhost:8080/"
        },
        "id": "mRn9zNLHt5ml",
        "outputId": "02b014f0-6bde-4c9f-fabe-96732e896802"
      },
      "source": [
        "veg_ara = LinearRegression(normalize=True).fit(X_train_veg_ara, y_train_veg_ara)"
      ],
      "execution_count": 22,
      "outputs": [
        {
          "output_type": "stream",
          "name": "stderr",
          "text": [
            "2021/09/17 12:25:38 INFO mlflow.utils.autologging_utils: Created MLflow autologging run with ID '17f4e2ebf0f24dbcb9be6f985f1f94d2', which will track hyperparameters, performance metrics, model artifacts, and lineage information for the current sklearn workflow\n",
            "2021/09/17 12:25:41 WARNING mlflow.models.model: Logging model metadata to the tracking server has failed, possibly due older server version. The model artifacts have been logged successfully under ./artifacts/282/17f4e2ebf0f24dbcb9be6f985f1f94d2/artifacts. In addition to exporting model artifacts, MLflow clients 1.7.0 and above attempt to record model metadata to the  tracking store. If logging to a mlflow server via REST, consider  upgrading the server version to MLflow 1.7.0 or above.\n"
          ]
        }
      ]
    },
    {
      "cell_type": "code",
      "metadata": {
        "id": "xPAY9-DruJpm"
      },
      "source": [
        "veg_ara_pred = veg_ara.predict(X_test_veg_ara)"
      ],
      "execution_count": 24,
      "outputs": []
    },
    {
      "cell_type": "code",
      "metadata": {
        "colab": {
          "base_uri": "https://localhost:8080/",
          "height": 480
        },
        "id": "_0iwXRfhuEAV",
        "outputId": "2da7c36f-9ddf-446c-c422-68ad2f8039e7"
      },
      "source": [
        "reg_print(veg_ara, y_test_veg_ara, veg_ara_pred, X_test_veg_ara)"
      ],
      "execution_count": 28,
      "outputs": [
        {
          "output_type": "stream",
          "name": "stdout",
          "text": [
            "Coefficients: \n",
            " [   3501.7270202   100673.3478647   128787.34041102   17291.82128921\n",
            "  -29782.53464751 -200452.70058631  -29780.20576378  -90660.59107138\n",
            "  -39010.86370284  112493.16222464  -54093.36693559   18746.63367769\n",
            "  -62912.41674961 -130216.21448306   11948.0831852   -71308.9964857\n",
            "   78104.19337591  -37330.73686191   -4299.29277103    9696.22971287\n",
            "    7960.20142373  -14735.11021502  135605.8739829   135587.95494558\n",
            "  -71441.61161322  -17435.34344226  -66036.23080051 -204384.30206914\n",
            "   65865.88888977  177089.05645332  -75494.58497292  197217.69247847\n",
            "  -11783.06474893   17597.85226617   15300.23767447 -122447.70706723\n",
            "  -74991.45018586  272479.18130555  -39837.10822452]\n",
            "rank : 39\n",
            "Mean squared error: 128038397525.33\n",
            "Coefficient of determination: 0.18\n"
          ]
        },
        {
          "output_type": "display_data",
          "data": {
            "image/png": "[encoded data removed]",
            "text/plain": [
              "<Figure size 432x288 with 1 Axes>"
            ]
          },
          "metadata": {}
        }
      ]
    },
    {
      "cell_type": "code",
      "metadata": {
        "id": "7b1SGQziYmYL"
      },
      "source": [
        "filename = 'arable_vegetables.sav'\n",
        "pickle.dump(veg_ara, open(filename, 'wb'))"
      ],
      "execution_count": 106,
      "outputs": []
    },
    {
      "cell_type": "markdown",
      "metadata": {
        "id": "Eulv9OaFYdLa"
      },
      "source": [
        "# Cereals\n",
        "\n",
        "Cereals harvested for grain, including seed.\n",
        "_\n",
        "Includes barley, sorghum, oats, maize (excluding green maize), rye, wheat and triticale."
      ]
    },
    {
      "cell_type": "code",
      "metadata": {
        "id": "5qI_VRPfvKtF"
      },
      "source": [
        "cereal_df = Farm_type_1[['DDVEC', 'FHVEC', 'FG', 'FHX', 'FHXH', 'FHN', 'FHNH', 'FXX', 'FXXH', 'TG', 'TN', 'TNH', 'TX', 'TXH', 'T10N', 'T10NH', 'SQ', 'SP', 'Q', 'DR', 'RH', 'RHX', 'RHXH', 'PG', 'PX', 'PXH', 'PN', 'PNH', 'VVN', 'VVNH', 'VVX', 'VVXH', 'NG', 'UG', 'UX', 'UXH', 'UN', 'UNH', 'EV24', 'Cereals_14']]"
      ],
      "execution_count": 30,
      "outputs": []
    },
    {
      "cell_type": "code",
      "metadata": {
        "id": "3l3337-cvbb7"
      },
      "source": [
        "X_cereal = cereal_df[features]\n",
        "\n",
        "y_cereal = cereal_df['Cereals_14']"
      ],
      "execution_count": 32,
      "outputs": []
    },
    {
      "cell_type": "code",
      "metadata": {
        "id": "5xDA3zYyvhFh"
      },
      "source": [
        "X_train_cer, X_test_cer, y_train_cer, y_test_cer= train_test_split(\n",
        "    X_cereal, y_cereal, test_size=0.2, random_state=42)"
      ],
      "execution_count": 33,
      "outputs": []
    },
    {
      "cell_type": "code",
      "metadata": {
        "colab": {
          "base_uri": "https://localhost:8080/"
        },
        "id": "R6lG51Ctv5uB",
        "outputId": "8828b45e-cb5b-4695-b483-6f2606d44e2b"
      },
      "source": [
        "cereal = LinearRegression(normalize=True).fit(X_train_cer, y_train_cer)"
      ],
      "execution_count": 34,
      "outputs": [
        {
          "output_type": "stream",
          "name": "stderr",
          "text": [
            "2021/09/17 12:34:23 INFO mlflow.utils.autologging_utils: Created MLflow autologging run with ID '667a618104644313ac7997d3fa5757ba', which will track hyperparameters, performance metrics, model artifacts, and lineage information for the current sklearn workflow\n",
            "2021/09/17 12:34:25 WARNING mlflow.models.model: Logging model metadata to the tracking server has failed, possibly due older server version. The model artifacts have been logged successfully under ./artifacts/282/667a618104644313ac7997d3fa5757ba/artifacts. In addition to exporting model artifacts, MLflow clients 1.7.0 and above attempt to record model metadata to the  tracking store. If logging to a mlflow server via REST, consider  upgrading the server version to MLflow 1.7.0 or above.\n"
          ]
        }
      ]
    },
    {
      "cell_type": "code",
      "metadata": {
        "id": "Ynk2I2BVwD6e"
      },
      "source": [
        "cereal_pred = cereal.predict(X_test_cer)"
      ],
      "execution_count": 35,
      "outputs": []
    },
    {
      "cell_type": "code",
      "metadata": {
        "colab": {
          "base_uri": "https://localhost:8080/",
          "height": 480
        },
        "id": "ikHdrt8IwN_L",
        "outputId": "564ce028-52d1-45cd-cbc6-ff6c6dd84a83"
      },
      "source": [
        "reg_print(cereal, y_test_cer, cereal_pred, X_test_cer)"
      ],
      "execution_count": 36,
      "outputs": [
        {
          "output_type": "stream",
          "name": "stdout",
          "text": [
            "Coefficients: \n",
            " [-1.51133925e+03  5.68476761e+03  5.38426388e+05 -2.68118578e+05\n",
            "  3.25976722e+05 -1.13357666e+05  2.95220456e+04 -4.74217900e+04\n",
            "  1.36952756e+05 -1.39374216e+05 -7.89016781e+04  4.07221587e+05\n",
            "  1.55345150e+05 -7.93433466e+05  5.84696038e+04 -9.66769529e+04\n",
            "  1.48317616e+05 -2.16239897e+05  1.94513850e+02  1.50306910e+04\n",
            " -6.86764265e+03  1.00095478e+05 -3.21894332e+04  2.49728136e+04\n",
            " -2.47815968e+04  1.92502944e+04 -7.38552293e+03  6.68338478e+04\n",
            "  9.02045278e+04  3.61202819e+05 -3.60072226e+04 -7.21908994e+04\n",
            " -3.49323913e+05 -3.13409846e+04  4.93757958e+04 -1.06790523e+05\n",
            " -5.07325935e+04 -5.37966041e+05 -2.92575156e+05]\n",
            "rank : 39\n",
            "Mean squared error: 263531035064.84\n",
            "Coefficient of determination: 0.81\n"
          ]
        },
        {
          "output_type": "display_data",
          "data": {
            "image/png": "[encoded data removed]",
            "text/plain": [
              "<Figure size 432x288 with 1 Axes>"
            ]
          },
          "metadata": {}
        }
      ]
    },
    {
      "cell_type": "code",
      "metadata": {
        "id": "fJtHTsaCw0Ah"
      },
      "source": [
        "filename = 'cereal_model.sav'\n",
        "pickle.dump(cereal, open(filename, 'wb'))"
      ],
      "execution_count": 38,
      "outputs": []
    },
    {
      "cell_type": "markdown",
      "metadata": {
        "id": "6FRE4p1SwfI8"
      },
      "source": [
        ""
      ]
    },
    {
      "cell_type": "markdown",
      "metadata": {
        "id": "zuWDRjb9YkVA"
      },
      "source": [
        "# Industrial crops \n",
        "Crops that are normally not sold directly for consumption because they need to be industrially processed prior to final use.\n",
        "_\n",
        "Includes black poppy, industrial chicory, hemp, caraway seed, colza seed, rape seed, linseed, soy beans, flax and sunflowers."
      ]
    },
    {
      "cell_type": "code",
      "metadata": {
        "id": "pxmfm9WwzCJt"
      },
      "source": [
        "industrial_df = Farm_type_1[['DDVEC', 'FHVEC', 'FG', 'FHX', 'FHXH', 'FHN', 'FHNH', 'FXX', 'FXXH', 'TG', 'TN', 'TNH', 'TX', 'TXH', 'T10N', 'T10NH', 'SQ', 'SP', 'Q', 'DR', 'RH', 'RHX', 'RHXH', 'PG', 'PX', 'PXH', 'PN', 'PNH', 'VVN', 'VVNH', 'VVX', 'VVXH', 'NG', 'UG', 'UX', 'UXH', 'UN', 'UNH', 'EV24', 'IndustrialCrops_16']]"
      ],
      "execution_count": 51,
      "outputs": []
    },
    {
      "cell_type": "code",
      "metadata": {
        "id": "LGWjaEjUz1nk"
      },
      "source": [
        "X_industrial = industrial_df[features]\n",
        "\n",
        "y_industrial = industrial_df['IndustrialCrops_16']"
      ],
      "execution_count": 53,
      "outputs": []
    },
    {
      "cell_type": "code",
      "metadata": {
        "id": "AWa_Ums_0BPK"
      },
      "source": [
        "X_train_ind, X_test_ind, y_train_ind, y_test_ind= train_test_split(\n",
        "    X_industrial, y_industrial, test_size=0.2, random_state=42)"
      ],
      "execution_count": 54,
      "outputs": []
    },
    {
      "cell_type": "code",
      "metadata": {
        "colab": {
          "base_uri": "https://localhost:8080/"
        },
        "id": "ULmMy5jc0Pdh",
        "outputId": "22bc1adc-87fb-4bfb-e5a1-5b3d5140b5ab"
      },
      "source": [
        "industrial = LinearRegression(normalize=True).fit(X_train_ind, y_train_ind)"
      ],
      "execution_count": 55,
      "outputs": [
        {
          "output_type": "stream",
          "name": "stderr",
          "text": [
            "2021/09/17 12:53:10 INFO mlflow.utils.autologging_utils: Created MLflow autologging run with ID 'ab5cdf8a44cc4ec28b2a719967fb8d2f', which will track hyperparameters, performance metrics, model artifacts, and lineage information for the current sklearn workflow\n",
            "2021/09/17 12:53:13 WARNING mlflow.models.model: Logging model metadata to the tracking server has failed, possibly due older server version. The model artifacts have been logged successfully under ./artifacts/282/ab5cdf8a44cc4ec28b2a719967fb8d2f/artifacts. In addition to exporting model artifacts, MLflow clients 1.7.0 and above attempt to record model metadata to the  tracking store. If logging to a mlflow server via REST, consider  upgrading the server version to MLflow 1.7.0 or above.\n"
          ]
        }
      ]
    },
    {
      "cell_type": "code",
      "metadata": {
        "id": "rWVyrF6p0tLO"
      },
      "source": [
        "ind_pred = industrial.predict(X_test_ind)"
      ],
      "execution_count": 56,
      "outputs": []
    },
    {
      "cell_type": "code",
      "metadata": {
        "colab": {
          "base_uri": "https://localhost:8080/",
          "height": 480
        },
        "id": "VEsvUhHu0zmt",
        "outputId": "df1c5e87-dd3c-4667-bd1d-023cf7ab2ad7"
      },
      "source": [
        "reg_print(industrial, y_test_ind, ind_pred, X_test_ind)"
      ],
      "execution_count": 57,
      "outputs": [
        {
          "output_type": "stream",
          "name": "stdout",
          "text": [
            "Coefficients: \n",
            " [  -133.16478324 -14136.18657897  57798.44612637 -15641.20393088\n",
            " -26471.57400863  -3479.02792825   9842.96982591 -10195.38250091\n",
            "  37225.22177244  11546.57314601 -14779.29606421  17206.91867321\n",
            "   2142.53793005 -65888.05934821   1656.18539056   1505.83106666\n",
            " -27848.00475708  16257.24495242    432.46414403   3083.3572959\n",
            "  -5999.85459382  18023.15438893   1446.80577394  -1272.94489519\n",
            "    149.0716629   -6045.70282913   1038.49349801  -8403.37479715\n",
            "   4872.91520709  23899.01355571  -1712.60165515 -14245.93606372\n",
            "  -8957.6110155    2726.01722079   3486.59182023  -3502.77792508\n",
            " -12626.2804402  -41397.66428941  13313.24117222]\n",
            "rank : 39\n",
            "Mean squared error: 2782701650.21\n",
            "Coefficient of determination: 0.86\n"
          ]
        },
        {
          "output_type": "display_data",
          "data": {
            "image/png": "[encoded data removed]",
            "text/plain": [
              "<Figure size 432x288 with 1 Axes>"
            ]
          },
          "metadata": {}
        }
      ]
    },
    {
      "cell_type": "code",
      "metadata": {
        "id": "TyORJ1QvY5wm"
      },
      "source": [
        "filename = 'industrial_crops_model.sav'\n",
        "pickle.dump(industrial, open(filename, 'wb'))"
      ],
      "execution_count": 107,
      "outputs": []
    },
    {
      "cell_type": "markdown",
      "metadata": {
        "id": "TTQyiW9VYsV3"
      },
      "source": [
        "# Pulses\n",
        "\n",
        "Plants with edible seeds that grow in pulses.\n",
        "_\n",
        "Includes kidney beans, grey peas, sweet lupines, broad beans (harvested dry), field beans and field peas."
      ]
    },
    {
      "cell_type": "code",
      "metadata": {
        "id": "h5vGAUE91QTw"
      },
      "source": [
        "pulses_df = Farm_type_1[['DDVEC', 'FHVEC', 'FG', 'FHX', 'FHXH', 'FHN', 'FHNH', 'FXX', 'FXXH', 'TG', 'TN', 'TNH', 'TX', 'TXH', 'T10N', 'T10NH', 'SQ', 'SP', 'Q', 'DR', 'RH', 'RHX', 'RHXH', 'PG', 'PX', 'PXH', 'PN', 'PNH', 'VVN', 'VVNH', 'VVX', 'VVXH', 'NG', 'UG', 'UX', 'UXH', 'UN', 'UNH', 'EV24', 'Pulses_17']]"
      ],
      "execution_count": 58,
      "outputs": []
    },
    {
      "cell_type": "code",
      "metadata": {
        "id": "KScJulqe1vDU"
      },
      "source": [
        "X_pulses = pulses_df[features]\n",
        "\n",
        "y_pulses = pulses_df['Pulses_17']"
      ],
      "execution_count": 59,
      "outputs": []
    },
    {
      "cell_type": "code",
      "metadata": {
        "id": "Ga-P0oP715KZ"
      },
      "source": [
        "X_train_pulses, X_test_pulses, y_train_pulses, y_test_pulses= train_test_split(\n",
        "    X_pulses, y_pulses, test_size=0.2, random_state=42)"
      ],
      "execution_count": 60,
      "outputs": []
    },
    {
      "cell_type": "code",
      "metadata": {
        "colab": {
          "base_uri": "https://localhost:8080/"
        },
        "id": "tQdf3hAc2JGT",
        "outputId": "f66854a6-503d-4a52-e952-a0f537467197"
      },
      "source": [
        "pulses = LinearRegression(normalize=True).fit(X_train_pulses, y_train_pulses)"
      ],
      "execution_count": 61,
      "outputs": [
        {
          "output_type": "stream",
          "name": "stderr",
          "text": [
            "2021/09/17 13:01:33 INFO mlflow.utils.autologging_utils: Created MLflow autologging run with ID 'f9bc2ffd1a214c2eab75bb7bb44718dd', which will track hyperparameters, performance metrics, model artifacts, and lineage information for the current sklearn workflow\n",
            "2021/09/17 13:01:35 WARNING mlflow.models.model: Logging model metadata to the tracking server has failed, possibly due older server version. The model artifacts have been logged successfully under ./artifacts/282/f9bc2ffd1a214c2eab75bb7bb44718dd/artifacts. In addition to exporting model artifacts, MLflow clients 1.7.0 and above attempt to record model metadata to the  tracking store. If logging to a mlflow server via REST, consider  upgrading the server version to MLflow 1.7.0 or above.\n"
          ]
        }
      ]
    },
    {
      "cell_type": "code",
      "metadata": {
        "id": "Q7R2hiwQ2RwO"
      },
      "source": [
        "pulse_pred = pulses.predict(X_test_pulses)"
      ],
      "execution_count": 62,
      "outputs": []
    },
    {
      "cell_type": "code",
      "metadata": {
        "colab": {
          "base_uri": "https://localhost:8080/",
          "height": 480
        },
        "id": "C4dvSfZy2akI",
        "outputId": "5ac4f8b3-bb3f-4735-d8da-bcb36d001d23"
      },
      "source": [
        "reg_print(pulses, y_test_pulses, pulse_pred , X_test_pulses)"
      ],
      "execution_count": 63,
      "outputs": [
        {
          "output_type": "stream",
          "name": "stdout",
          "text": [
            "Coefficients: \n",
            " [  -460.59667192 -24512.40128323  49619.06002404  -8479.47433674\n",
            "   1643.84049097 -10101.91512573   4597.09807981  -5943.35557386\n",
            "   5476.53392554   8651.30140838  -3920.00669746    740.95909895\n",
            "  -2103.23182801   2791.16486391  -1139.36171699   4868.76625489\n",
            " -13044.40066712   8949.19447517    366.4470311   -2130.69545301\n",
            "    187.1212506    2895.99521519   5849.6585102    7352.38906899\n",
            "  -3164.4501648  -18752.42262529  -4600.7519177  -12425.52359109\n",
            "    725.06360754   7891.49957418  -4400.96085216  -9574.62962848\n",
            "  -5228.38527446  -4817.67834754   3404.00576328  -2205.36376246\n",
            "  -2764.61035522 -26496.25818459  -9688.22143551]\n",
            "rank : 39\n",
            "Mean squared error: 823433848.21\n",
            "Coefficient of determination: 0.75\n"
          ]
        },
        {
          "output_type": "display_data",
          "data": {
            "image/png": "[encoded data removed]",
            "text/plain": [
              "<Figure size 432x288 with 1 Axes>"
            ]
          },
          "metadata": {}
        }
      ]
    },
    {
      "cell_type": "code",
      "metadata": {
        "id": "0FkSI1AMZbAB"
      },
      "source": [
        "filename = 'pulses_model.sav'\n",
        "pickle.dump(pulses, open(filename, 'wb'))"
      ],
      "execution_count": 108,
      "outputs": []
    },
    {
      "cell_type": "markdown",
      "metadata": {
        "id": "73TYYEiLYxZd"
      },
      "source": [
        "# Sugar beets"
      ]
    },
    {
      "cell_type": "code",
      "metadata": {
        "id": "cX4tmn1djJ5M"
      },
      "source": [
        "sugar_beets_df = Farm_type_1[['DDVEC', 'FHVEC', 'FG', 'FHX', 'FHXH', 'FHN', 'FHNH', 'FXX', 'FXXH', 'TG', 'TN', 'TNH', 'TX', 'TXH', 'T10N', 'T10NH', 'SQ', 'SP', 'Q', 'DR', 'RH', 'RHX', 'RHXH', 'PG', 'PX', 'PXH', 'PN', 'PNH', 'VVN', 'VVNH', 'VVX', 'VVXH', 'NG', 'UG', 'UX', 'UXH', 'UN', 'UNH', 'EV24', 'SugarBeets_18']]"
      ],
      "execution_count": 109,
      "outputs": []
    },
    {
      "cell_type": "code",
      "metadata": {
        "colab": {
          "base_uri": "https://localhost:8080/"
        },
        "id": "5GDhBjY8k5UO",
        "outputId": "119b80a1-c7a0-4cff-f7ba-6c9340292598"
      },
      "source": [
        "sugar_beets_df.fillna(sugar_beets_df.mean(), inplace=True)"
      ],
      "execution_count": null,
      "outputs": [
        {
          "output_type": "stream",
          "name": "stderr",
          "text": [
            "/usr/local/lib/python3.7/dist-packages/pandas/core/series.py:4536: SettingWithCopyWarning: \n",
            "A value is trying to be set on a copy of a slice from a DataFrame\n",
            "\n",
            "See the caveats in the documentation: https://pandas.pydata.org/pandas-docs/stable/user_guide/indexing.html#returning-a-view-versus-a-copy\n",
            "  downcast=downcast,\n"
          ]
        }
      ]
    },
    {
      "cell_type": "code",
      "metadata": {
        "id": "ctbeLvtSjRP3"
      },
      "source": [
        "X_sug = sugar_beets_df[features]\n",
        "\n",
        "y_sug = sugar_beets_df['SugarBeets_18']"
      ],
      "execution_count": 110,
      "outputs": []
    },
    {
      "cell_type": "code",
      "metadata": {
        "id": "pYiyihKVjkPP"
      },
      "source": [
        "X_train_sug, X_test_sug, y_train_sug, y_test_sug = train_test_split(\n",
        "    X_sug, y_sug, test_size=0.2, random_state=42)"
      ],
      "execution_count": 111,
      "outputs": []
    },
    {
      "cell_type": "code",
      "metadata": {
        "id": "7krzvVvgkEiX"
      },
      "source": [
        "mlflow.sklearn.autolog()"
      ],
      "execution_count": null,
      "outputs": []
    },
    {
      "cell_type": "code",
      "metadata": {
        "colab": {
          "base_uri": "https://localhost:8080/"
        },
        "id": "b1A7mkPAkN-m",
        "outputId": "92aa5f2f-eb09-4e5c-ff42-0979fd74c0f5"
      },
      "source": [
        "\n",
        "reg_sug = LinearRegression(normalize=True).fit(X_train_sug, y_train_sug)"
      ],
      "execution_count": 112,
      "outputs": [
        {
          "output_type": "stream",
          "name": "stderr",
          "text": [
            "2021/09/17 15:35:53 INFO mlflow.utils.autologging_utils: Created MLflow autologging run with ID 'e37488263dcf460389927155086d6258', which will track hyperparameters, performance metrics, model artifacts, and lineage information for the current sklearn workflow\n",
            "2021/09/17 15:35:55 WARNING mlflow.models.model: Logging model metadata to the tracking server has failed, possibly due older server version. The model artifacts have been logged successfully under ./artifacts/282/e37488263dcf460389927155086d6258/artifacts. In addition to exporting model artifacts, MLflow clients 1.7.0 and above attempt to record model metadata to the  tracking store. If logging to a mlflow server via REST, consider  upgrading the server version to MLflow 1.7.0 or above.\n"
          ]
        }
      ]
    },
    {
      "cell_type": "code",
      "metadata": {
        "id": "dhPVcHzglB_7"
      },
      "source": [
        "sugar_beets_pred = reg_sug.predict(X_test_sug)"
      ],
      "execution_count": 113,
      "outputs": []
    },
    {
      "cell_type": "code",
      "metadata": {
        "id": "cOmJIuJnnjT6"
      },
      "source": [
        "from sklearn.metrics import mean_squared_error, r2_score"
      ],
      "execution_count": 23,
      "outputs": []
    },
    {
      "cell_type": "code",
      "metadata": {
        "colab": {
          "base_uri": "https://localhost:8080/",
          "height": 480
        },
        "id": "rNKvfN-vmnV8",
        "outputId": "803ccf0a-4190-4adc-e4fc-847efd8e25a3"
      },
      "source": [
        "print('Coefficients: \\n', reg_sug.coef_)\n",
        "print('rank :', reg_sug.rank_)\n",
        "# The mean squared error\n",
        "print('Mean squared error: %.2f'\n",
        "      % mean_squared_error(y_test_sug, sugar_beets_pred))\n",
        "# The coefficient of determination: 1 is perfect prediction\n",
        "print('Coefficient of determination: %.2f'\n",
        "      % r2_score(y_test_sug, sugar_beets_pred))\n",
        "\n",
        "# Plot outputs\n",
        "\n",
        "X_test_sug=np.arange(0,len(X_test_sug),1)\n",
        "\n",
        "plt.scatter(X_test_sug, y_test_sug,  color='black')\n",
        "plt.plot(X_test_sug, sugar_beets_pred, color='blue', linewidth=3)\n",
        "\n",
        "plt.xticks(())\n",
        "plt.yticks(())\n",
        "\n",
        "plt.show()"
      ],
      "execution_count": 114,
      "outputs": [
        {
          "output_type": "stream",
          "name": "stdout",
          "text": [
            "Coefficients: \n",
            " [   -961.97532864  -23237.97880329  184451.29359026  -53177.39198322\n",
            "  119332.9953638   -67450.51728282    2475.37003468  -32664.00310046\n",
            "   15004.89093367  -17981.01506902  -31443.62801669  100339.74442634\n",
            "   34592.07004524 -328078.19233849   14564.35747239   36594.05746922\n",
            "   77213.3658627   -68895.86282039   -3852.52622541    3188.35799585\n",
            "   12181.78972283   -1722.80389732   64697.41393559   94077.51559246\n",
            "  -40169.80999473  -45000.64362156  -58049.84348543 -203963.36298081\n",
            "   26054.74658084   76626.62618962  -78862.32660957   59232.23992288\n",
            "    7680.21277235   33981.04472264  -73810.00321431  -87466.93308675\n",
            "  -38039.67524811  -63179.3176275     4673.04002523]\n",
            "rank : 39\n",
            "Mean squared error: 93807124337.00\n",
            "Coefficient of determination: 0.42\n"
          ]
        },
        {
          "output_type": "display_data",
          "data": {
            "image/png": "[encoded data removed]",
            "text/plain": [
              "<Figure size 432x288 with 1 Axes>"
            ]
          },
          "metadata": {}
        }
      ]
    },
    {
      "cell_type": "code",
      "metadata": {
        "id": "BbReUkaHZo9K"
      },
      "source": [
        "filename = 'sugar_beets_model.sav'\n",
        "pickle.dump(reg_sug, open(filename, 'wb'))"
      ],
      "execution_count": 115,
      "outputs": []
    },
    {
      "cell_type": "code",
      "metadata": {
        "id": "dbuSXJ7_pKQs"
      },
      "source": [
        "# removed hourly data\n",
        "\n",
        "features_edited_hourly = ['DDVEC', 'FHVEC', 'FG', 'FHX',  'FHN', 'FXX', 'TG', 'TN', 'TX',  'T10N',  'SQ', 'SP', 'Q', 'DR', 'RH', 'RHX', 'PG', 'PX', 'PN', 'VVN' , 'VVX',  'NG', 'UG', 'UX', 'UN',  'EV24']"
      ],
      "execution_count": null,
      "outputs": []
    },
    {
      "cell_type": "code",
      "metadata": {
        "id": "GSttyLBwp9BP"
      },
      "source": [
        "X_sug_ed = sugar_beets_df[features_edited_hourly]\n",
        "\n",
        "y_sug_ed = sugar_beets_df['SugarBeets_18']"
      ],
      "execution_count": null,
      "outputs": []
    },
    {
      "cell_type": "code",
      "metadata": {
        "id": "4lWhBbsnp9BQ"
      },
      "source": [
        "X_train_sug, X_test_sug, y_train_sug, y_test_sug = train_test_split(\n",
        "    X_sug_ed, y_sug_ed, test_size=0.2, random_state=42)"
      ],
      "execution_count": null,
      "outputs": []
    },
    {
      "cell_type": "code",
      "metadata": {
        "id": "sOW51oQTp9BQ"
      },
      "source": [
        "mlflow.sklearn.autolog()"
      ],
      "execution_count": null,
      "outputs": []
    },
    {
      "cell_type": "code",
      "metadata": {
        "colab": {
          "base_uri": "https://localhost:8080/"
        },
        "id": "ZAOf8VKgp9BQ",
        "outputId": "3b868188-63ae-4366-ef98-97e1b3296d59"
      },
      "source": [
        "reg_sug = LinearRegression(normalize=True).fit(X_train_sug, y_train_sug)"
      ],
      "execution_count": null,
      "outputs": [
        {
          "output_type": "stream",
          "name": "stderr",
          "text": [
            "2021/09/16 17:30:55 INFO mlflow.utils.autologging_utils: Created MLflow autologging run with ID '531fb184e65f4379a0e959c6ea49f5d8', which will track hyperparameters, performance metrics, model artifacts, and lineage information for the current sklearn workflow\n",
            "2021/09/16 17:30:58 WARNING mlflow.models.model: Logging model metadata to the tracking server has failed, possibly due older server version. The model artifacts have been logged successfully under ./artifacts/282/531fb184e65f4379a0e959c6ea49f5d8/artifacts. In addition to exporting model artifacts, MLflow clients 1.7.0 and above attempt to record model metadata to the  tracking store. If logging to a mlflow server via REST, consider  upgrading the server version to MLflow 1.7.0 or above.\n"
          ]
        }
      ]
    },
    {
      "cell_type": "code",
      "metadata": {
        "id": "fdP9wFQOp9BQ"
      },
      "source": [
        "sugar_beets_pred = reg_sug.predict(X_test_sug)"
      ],
      "execution_count": null,
      "outputs": []
    },
    {
      "cell_type": "code",
      "metadata": {
        "id": "WPTe6Ehqp9BQ"
      },
      "source": [
        "from sklearn.metrics import mean_squared_error, r2_score"
      ],
      "execution_count": null,
      "outputs": []
    },
    {
      "cell_type": "code",
      "metadata": {
        "colab": {
          "base_uri": "https://localhost:8080/",
          "height": 415
        },
        "id": "bIzvIRsVp9BQ",
        "outputId": "f73cc214-3be0-4e8a-bb6b-32bcb9cc335f"
      },
      "source": [
        "print('Coefficients: \\n', reg_sug.coef_)\n",
        "# The mean squared error\n",
        "print('Mean squared error: %.2f'\n",
        "      % mean_squared_error(y_test_sug, sugar_beets_pred))\n",
        "# The coefficient of determination: 1 is perfect prediction\n",
        "print('Coefficient of determination: %.2f'\n",
        "      % r2_score(y_test_sug, sugar_beets_pred))\n",
        "\n",
        "# Plot outputs\n",
        "\n",
        "X_test_sug=np.arange(0,len(X_test_sug),1)\n",
        "\n",
        "plt.scatter(X_test_sug, y_test_sug,  color='black')\n",
        "plt.plot(X_test_sug, sugar_beets_pred, color='blue', linewidth=3)\n",
        "\n",
        "plt.xticks(())\n",
        "plt.yticks(())\n",
        "\n",
        "plt.show()"
      ],
      "execution_count": null,
      "outputs": [
        {
          "output_type": "stream",
          "name": "stdout",
          "text": [
            "Coefficients: \n",
            " [-1.33071444e+02 -8.75076252e+03  1.31762267e+05 -3.66163301e+04\n",
            " -4.56498803e+04 -2.82109021e+04 -6.63596431e+03 -3.66396138e+04\n",
            "  3.45473662e+04  1.37971834e+04  1.64281970e+05 -1.43291237e+05\n",
            " -4.98535479e+02  5.42136286e+03  1.93894389e+04 -1.53459668e+04\n",
            "  1.27925474e+05 -5.70674681e+04 -7.76427077e+04  2.01032645e+04\n",
            " -9.53779390e+04  1.30347851e+05 -8.13050346e+03 -6.97562823e+04\n",
            "  7.93951062e+03 -3.04953015e+05]\n",
            "Mean squared error: 134024040821.86\n",
            "Coefficient of determination: 0.17\n"
          ]
        },
        {
          "output_type": "display_data",
          "data": {
            "image/png": "[encoded data removed]",
            "text/plain": [
              "<Figure size 432x288 with 1 Axes>"
            ]
          },
          "metadata": {}
        }
      ]
    },
    {
      "cell_type": "code",
      "metadata": {
        "id": "DjPK3aNks0-O"
      },
      "source": [
        "from sklearn.linear_model import Ridge"
      ],
      "execution_count": null,
      "outputs": []
    },
    {
      "cell_type": "code",
      "metadata": {
        "id": "N1lYicmGssfj"
      },
      "source": [
        "# Ridge regression full\n",
        "\n",
        "clf_sug = Ridge(alpha=1.0)"
      ],
      "execution_count": null,
      "outputs": []
    },
    {
      "cell_type": "code",
      "metadata": {
        "colab": {
          "base_uri": "https://localhost:8080/"
        },
        "id": "GD3Be9v0tABu",
        "outputId": "d34341f4-a0c9-4d23-bfa0-49504dcdad57"
      },
      "source": [
        "clf_sug.fit(X_train_sug , y_train_sug)"
      ],
      "execution_count": null,
      "outputs": [
        {
          "output_type": "stream",
          "name": "stderr",
          "text": [
            "2021/09/16 17:47:34 INFO mlflow.utils.autologging_utils: Created MLflow autologging run with ID '94dbfd7f3e6540458f771689a13bfad4', which will track hyperparameters, performance metrics, model artifacts, and lineage information for the current sklearn workflow\n",
            "2021/09/16 17:47:37 WARNING mlflow.models.model: Logging model metadata to the tracking server has failed, possibly due older server version. The model artifacts have been logged successfully under ./artifacts/282/94dbfd7f3e6540458f771689a13bfad4/artifacts. In addition to exporting model artifacts, MLflow clients 1.7.0 and above attempt to record model metadata to the  tracking store. If logging to a mlflow server via REST, consider  upgrading the server version to MLflow 1.7.0 or above.\n"
          ]
        },
        {
          "output_type": "execute_result",
          "data": {
            "text/plain": [
              "Ridge(alpha=1.0, copy_X=True, fit_intercept=True, max_iter=None,\n",
              "      normalize=False, random_state=None, solver='auto', tol=0.001)"
            ]
          },
          "metadata": {},
          "execution_count": 73
        }
      ]
    },
    {
      "cell_type": "code",
      "metadata": {
        "id": "u_btBL3ataNX"
      },
      "source": [
        "X_test_sug = X_test_sug.reshape(1,-1) "
      ],
      "execution_count": null,
      "outputs": []
    },
    {
      "cell_type": "code",
      "metadata": {
        "id": "d4SCyPMCtCoq"
      },
      "source": [
        "predicted_clf_sug = clf_sug.predict(X_test_sug)"
      ],
      "execution_count": null,
      "outputs": []
    },
    {
      "cell_type": "code",
      "metadata": {
        "colab": {
          "base_uri": "https://localhost:8080/",
          "height": 285
        },
        "id": "raAlOO4AuRqd",
        "outputId": "afc9b17a-24e7-4247-c7d4-e19dfb9095c1"
      },
      "source": [
        "# print('Coefficients: \\n', reg_sug.coef_)\n",
        "# # The mean squared error\n",
        "print('Mean squared error: %.2f'\n",
        "      % mean_squared_error(y_test_sug, predicted_clf_sug ))\n",
        "# The coefficient of determination: 1 is perfect prediction\n",
        "print('Coefficient of determination: %.2f'\n",
        "      % r2_score(y_test_sug,  predicted_clf_sug))\n",
        "\n",
        "# Plot outputs\n",
        "\n",
        "X_test_sug=np.arange(0,len(X_test_sug),1)\n",
        "\n",
        "plt.scatter(X_test_sug, y_test_sug,  color='black')\n",
        "plt.plot(X_test_sug,  predicted_clf_sug, color='blue', linewidth=3)\n",
        "\n",
        "plt.xticks(())\n",
        "plt.yticks(())\n",
        "\n",
        "plt.show()"
      ],
      "execution_count": null,
      "outputs": [
        {
          "output_type": "stream",
          "name": "stdout",
          "text": [
            "Mean squared error: 96975068541.59\n",
            "Coefficient of determination: 0.40\n"
          ]
        },
        {
          "output_type": "display_data",
          "data": {
            "image/png": "[encoded data removed]",
            "text/plain": [
              "<Figure size 432x288 with 1 Axes>"
            ]
          },
          "metadata": {}
        }
      ]
    },
    {
      "cell_type": "code",
      "metadata": {
        "id": "wGZSl5iQvMg3"
      },
      "source": [
        "\n",
        "from sklearn.feature_selection import SelectKBest\n",
        "from sklearn.feature_selection import f_regression\n",
        "\n",
        " \n",
        "# feature selection\n",
        "def select_features(X_train, y_train, X_test):\n",
        "\t# configure to select all features\n",
        "\tfs = SelectKBest(score_func=f_regression, k='all')\n",
        "\t# learn relationship from training data\n",
        "\tfs.fit(X_train, y_train)\n",
        "\t# transform train input data\n",
        "\tX_train_fs = fs.transform(X_train)\n",
        "\t# transform test input data\n",
        "\tX_test_fs = fs.transform(X_test)\n",
        "\treturn X_train_fs, X_test_fs, fs"
      ],
      "execution_count": null,
      "outputs": []
    },
    {
      "cell_type": "code",
      "metadata": {
        "id": "kl02O8G_vQ6h"
      },
      "source": [
        "X_train_fs, X_test_fs, fs = select_features(X_train_sug, y_train_sug, X_test_sug)"
      ],
      "execution_count": null,
      "outputs": []
    },
    {
      "cell_type": "code",
      "metadata": {
        "id": "T93OqoXwvutR"
      },
      "source": [
        "from matplotlib import pyplot"
      ],
      "execution_count": null,
      "outputs": []
    },
    {
      "cell_type": "code",
      "metadata": {
        "colab": {
          "base_uri": "https://localhost:8080/",
          "height": 898
        },
        "id": "fcQp4vn_vidf",
        "outputId": "f5874e41-1bb6-49e0-c84c-a78847e4330b"
      },
      "source": [
        "for i in range(len(fs.scores_)):\n",
        "\tprint('Feature %d: %f' % (i, fs.scores_[i]))\n",
        "# plot the scores\n",
        "pyplot.bar([i for i in range(len(fs.scores_))], fs.scores_)\n",
        "pyplot.show()"
      ],
      "execution_count": null,
      "outputs": [
        {
          "output_type": "stream",
          "name": "stdout",
          "text": [
            "Feature 0: 0.217474\n",
            "Feature 1: 10.852226\n",
            "Feature 2: 11.075576\n",
            "Feature 3: 10.005101\n",
            "Feature 4: 4.580108\n",
            "Feature 5: 12.323992\n",
            "Feature 6: 8.141282\n",
            "Feature 7: 3.543571\n",
            "Feature 8: 0.001794\n",
            "Feature 9: 9.150790\n",
            "Feature 10: 10.026295\n",
            "Feature 11: 0.967016\n",
            "Feature 12: 1.798512\n",
            "Feature 13: 3.566641\n",
            "Feature 14: 2.168489\n",
            "Feature 15: 2.293440\n",
            "Feature 16: 1.161228\n",
            "Feature 17: 1.611757\n",
            "Feature 18: 5.299509\n",
            "Feature 19: 1.136561\n",
            "Feature 20: 0.394243\n",
            "Feature 21: 0.017124\n",
            "Feature 22: 2.042084\n",
            "Feature 23: 2.556781\n",
            "Feature 24: 2.012329\n",
            "Feature 25: 0.057567\n",
            "Feature 26: 3.256821\n",
            "Feature 27: 3.556985\n",
            "Feature 28: 0.039621\n",
            "Feature 29: 0.677372\n",
            "Feature 30: 12.594169\n",
            "Feature 31: 0.148348\n",
            "Feature 32: 0.005178\n",
            "Feature 33: 6.559989\n",
            "Feature 34: 1.239279\n",
            "Feature 35: 13.247466\n",
            "Feature 36: 2.616226\n",
            "Feature 37: 0.431051\n",
            "Feature 38: 6.794976\n"
          ]
        },
        {
          "output_type": "display_data",
          "data": {
            "image/png": "[encoded data removed]",
            "text/plain": [
              "<Figure size 432x288 with 1 Axes>"
            ]
          },
          "metadata": {
            "needs_background": "light"
          }
        }
      ]
    },
    {
      "cell_type": "code",
      "metadata": {
        "colab": {
          "base_uri": "https://localhost:8080/"
        },
        "id": "6O1m5tFEwvYO",
        "outputId": "b2d569a6-f375-4f8f-dcc1-b8933372b276"
      },
      "source": [
        "LIMITED = LinearRegression(normalize=True).fit(X_train_fs, y_train_sug)"
      ],
      "execution_count": null,
      "outputs": [
        {
          "output_type": "stream",
          "name": "stderr",
          "text": [
            "2021/09/16 18:00:08 INFO mlflow.utils.autologging_utils: Created MLflow autologging run with ID '62b546e7a04a4a648486b6f94305b202', which will track hyperparameters, performance metrics, model artifacts, and lineage information for the current sklearn workflow\n",
            "2021/09/16 18:00:11 WARNING mlflow.models.model: Logging model metadata to the tracking server has failed, possibly due older server version. The model artifacts have been logged successfully under ./artifacts/282/62b546e7a04a4a648486b6f94305b202/artifacts. In addition to exporting model artifacts, MLflow clients 1.7.0 and above attempt to record model metadata to the  tracking store. If logging to a mlflow server via REST, consider  upgrading the server version to MLflow 1.7.0 or above.\n"
          ]
        }
      ]
    },
    {
      "cell_type": "code",
      "metadata": {
        "id": "0AvEu-J7xCFp"
      },
      "source": [
        "yhat = LIMITED.predict(X_test_fs)"
      ],
      "execution_count": null,
      "outputs": []
    },
    {
      "cell_type": "code",
      "metadata": {
        "colab": {
          "base_uri": "https://localhost:8080/",
          "height": 285
        },
        "id": "WYO5IyVFxHv5",
        "outputId": "7241d2e9-c934-4b03-f3c5-d5df9fd91086"
      },
      "source": [
        "print('Mean squared error: %.2f'\n",
        "      % mean_squared_error(y_test_sug, yhat ))\n",
        "# The coefficient of determination: 1 is perfect prediction\n",
        "print('Coefficient of determination: %.2f'\n",
        "      % r2_score(y_test_sug,  yhat))\n",
        "\n",
        "# Plot outputs\n",
        "\n",
        "X_test_sug=np.arange(0,len(X_test_sug),1)\n",
        "\n",
        "plt.scatter(X_test_sug, y_test_sug,  color='black')\n",
        "plt.plot(X_test_sug,  predicted_clf_sug, color='blue', linewidth=3)\n",
        "\n",
        "plt.xticks(())\n",
        "plt.yticks(())\n",
        "\n",
        "plt.show()"
      ],
      "execution_count": null,
      "outputs": [
        {
          "output_type": "stream",
          "name": "stdout",
          "text": [
            "Mean squared error: 93807124337.01\n",
            "Coefficient of determination: 0.42\n"
          ]
        },
        {
          "output_type": "display_data",
          "data": {
            "image/png": "[encoded data removed]",
            "text/plain": [
              "<Figure size 432x288 with 1 Axes>"
            ]
          },
          "metadata": {}
        }
      ]
    },
    {
      "cell_type": "markdown",
      "metadata": {
        "id": "R1Kyv3RRY5qY"
      },
      "source": [
        "# Other arable crops\n",
        "Includes miscanthus and sod."
      ]
    },
    {
      "cell_type": "code",
      "metadata": {
        "id": "5dbA3ofpKtSV"
      },
      "source": [
        "\n",
        "\n",
        "other_ara_df = Farm_type_1[['DDVEC', 'FHVEC', 'FG', 'FHX', 'FHXH', 'FHN', 'FHNH', 'FXX', 'FXXH', 'TG', 'TN', 'TNH', 'TX', 'TXH', 'T10N', 'T10NH', 'SQ', 'SP', 'Q', 'DR', 'RH', 'RHX', 'RHXH', 'PG', 'PX', 'PXH', 'PN', 'PNH', 'VVN', 'VVNH', 'VVX', 'VVXH', 'NG', 'UG', 'UX', 'UXH', 'UN', 'UNH', 'EV24', 'OtherArableCrops_19']]"
      ],
      "execution_count": 64,
      "outputs": []
    },
    {
      "cell_type": "code",
      "metadata": {
        "id": "b9rxGbz4K9pa"
      },
      "source": [
        "X_other_ara = other_ara_df[features]\n",
        "\n",
        "y_other_ara = other_ara_df['OtherArableCrops_19']"
      ],
      "execution_count": 66,
      "outputs": []
    },
    {
      "cell_type": "code",
      "metadata": {
        "id": "rhDJ932WK9pa"
      },
      "source": [
        "X_train_other_ara, X_test_other_ara, y_train_other_ara, y_test_other_ara= train_test_split(\n",
        "    X_other_ara, y_other_ara, test_size=0.2, random_state=42)"
      ],
      "execution_count": 67,
      "outputs": []
    },
    {
      "cell_type": "code",
      "metadata": {
        "colab": {
          "base_uri": "https://localhost:8080/"
        },
        "id": "c-03zJqsK9pa",
        "outputId": "5d95586d-207b-4329-a54c-c89e151fb498"
      },
      "source": [
        "other_ara = LinearRegression(normalize=True).fit(X_train_other_ara, y_train_other_ara)"
      ],
      "execution_count": 78,
      "outputs": [
        {
          "output_type": "stream",
          "name": "stderr",
          "text": [
            "2021/09/17 14:35:34 INFO mlflow.utils.autologging_utils: Created MLflow autologging run with ID '6895d04522e54a78a7bbd78ad3828718', which will track hyperparameters, performance metrics, model artifacts, and lineage information for the current sklearn workflow\n",
            "2021/09/17 14:35:36 WARNING mlflow.models.model: Logging model metadata to the tracking server has failed, possibly due older server version. The model artifacts have been logged successfully under ./artifacts/282/6895d04522e54a78a7bbd78ad3828718/artifacts. In addition to exporting model artifacts, MLflow clients 1.7.0 and above attempt to record model metadata to the  tracking store. If logging to a mlflow server via REST, consider  upgrading the server version to MLflow 1.7.0 or above.\n"
          ]
        }
      ]
    },
    {
      "cell_type": "code",
      "metadata": {
        "id": "royTUfh-K9pb"
      },
      "source": [
        "other_ara_pred = other_ara.predict(X_test_other_ara)"
      ],
      "execution_count": 79,
      "outputs": []
    },
    {
      "cell_type": "code",
      "metadata": {
        "colab": {
          "base_uri": "https://localhost:8080/",
          "height": 480
        },
        "id": "FmomJ8EnK9pb",
        "outputId": "089c536e-f8c5-4c23-b1d8-228c601dda90"
      },
      "source": [
        "reg_print(other_ara, y_test_other_ara, other_ara_pred  , X_test_other_ara)"
      ],
      "execution_count": 80,
      "outputs": [
        {
          "output_type": "stream",
          "name": "stdout",
          "text": [
            "Coefficients: \n",
            " [-5.42023355e+00  6.93001022e+03 -7.41733186e+03  4.10078278e+03\n",
            " -2.38259881e+04  1.23516439e+02 -2.17669181e+03 -2.91251625e+03\n",
            "  1.35001699e+04  3.39100032e+03 -3.58051789e+03 -9.16274490e+02\n",
            " -1.65773046e+03  7.01050024e+02  1.05540432e+03  3.47176372e+02\n",
            "  1.98010508e+03 -7.50992177e+02 -6.04268123e+02  1.86926227e+03\n",
            "  3.80733851e+02  8.57678014e+02  3.12083843e+03  4.29949092e+03\n",
            " -9.01830433e+02  1.14027623e+04 -3.59997688e+03  8.71988009e+01\n",
            "  1.58866103e+03  5.27876565e+03 -4.86651355e+03  6.47156700e+03\n",
            "  7.53741943e+02  1.12017349e+04 -8.76415516e+03  5.85445374e+02\n",
            " -8.25618602e+03  1.03746185e+04  2.80105741e+04]\n",
            "rank : 39\n",
            "Mean squared error: 631555033.76\n",
            "Coefficient of determination: 0.03\n"
          ]
        },
        {
          "output_type": "display_data",
          "data": {
            "image/png": "[encoded data removed]",
            "text/plain": [
              "<Figure size 432x288 with 1 Axes>"
            ]
          },
          "metadata": {}
        }
      ]
    },
    {
      "cell_type": "code",
      "metadata": {
        "id": "rBORaF8qZ6R9"
      },
      "source": [
        "filename = 'other_arable_crops_model.sav'\n",
        "pickle.dump(other_ara, open(filename, 'wb'))"
      ],
      "execution_count": 116,
      "outputs": []
    },
    {
      "cell_type": "markdown",
      "metadata": {
        "id": "uNJ8KLn1ZE5n"
      },
      "source": [
        "# Fruits in the open\n",
        "\n",
        "Includes soft fruits (e.g. blueberries, raspberries), stone fruits (e.g. apples, pears, prunes), nuts and grapes. Standard tree orchards have been added since 2016 onwards.\n"
      ]
    },
    {
      "cell_type": "code",
      "metadata": {
        "id": "Ytv9AcQcMHav"
      },
      "source": [
        "fruit_open_df = Farm_type_1[['DDVEC', 'FHVEC', 'FG', 'FHX', 'FHXH', 'FHN', 'FHNH', 'FXX', 'FXXH', 'TG', 'TN', 'TNH', 'TX', 'TXH', 'T10N', 'T10NH', 'SQ', 'SP', 'Q', 'DR', 'RH', 'RHX', 'RHXH', 'PG', 'PX', 'PXH', 'PN', 'PNH', 'VVN', 'VVNH', 'VVX', 'VVXH', 'NG', 'UG', 'UX', 'UXH', 'UN', 'UNH', 'EV24', 'FruitInTheOpen_38']]"
      ],
      "execution_count": 81,
      "outputs": []
    },
    {
      "cell_type": "code",
      "metadata": {
        "id": "g3CG6YS7MUEd"
      },
      "source": [
        "X_fruit = fruit_open_df[features]\n",
        "\n",
        "y_fruit = fruit_open_df['FruitInTheOpen_38']"
      ],
      "execution_count": 82,
      "outputs": []
    },
    {
      "cell_type": "code",
      "metadata": {
        "id": "W5Or5Y1IMUEd"
      },
      "source": [
        "X_train_fruit, X_test_fruit, y_train_fruit, y_test_fruit= train_test_split(\n",
        "    X_fruit, y_fruit, test_size=0.2, random_state=42)"
      ],
      "execution_count": 83,
      "outputs": []
    },
    {
      "cell_type": "code",
      "metadata": {
        "colab": {
          "base_uri": "https://localhost:8080/"
        },
        "id": "qdJaKmZmMUEd",
        "outputId": "cc2fdb69-bf68-403c-e67e-a7f2c389dfbe"
      },
      "source": [
        "fruit = LinearRegression(normalize=True).fit(X_train_fruit,y_train_fruit)"
      ],
      "execution_count": 84,
      "outputs": [
        {
          "output_type": "stream",
          "name": "stderr",
          "text": [
            "2021/09/17 14:39:33 INFO mlflow.utils.autologging_utils: Created MLflow autologging run with ID 'eb324eaa87cb4852bc067300ac5298b8', which will track hyperparameters, performance metrics, model artifacts, and lineage information for the current sklearn workflow\n",
            "2021/09/17 14:39:36 WARNING mlflow.models.model: Logging model metadata to the tracking server has failed, possibly due older server version. The model artifacts have been logged successfully under ./artifacts/282/eb324eaa87cb4852bc067300ac5298b8/artifacts. In addition to exporting model artifacts, MLflow clients 1.7.0 and above attempt to record model metadata to the  tracking store. If logging to a mlflow server via REST, consider  upgrading the server version to MLflow 1.7.0 or above.\n"
          ]
        }
      ]
    },
    {
      "cell_type": "code",
      "metadata": {
        "id": "VKNbVUniMUEd"
      },
      "source": [
        "fruit_pred = fruit.predict(X_test_fruit)"
      ],
      "execution_count": 86,
      "outputs": []
    },
    {
      "cell_type": "code",
      "metadata": {
        "colab": {
          "base_uri": "https://localhost:8080/",
          "height": 480
        },
        "id": "D0N-qsXvMUEd",
        "outputId": "3fed9a63-343d-4247-cfb4-db523a091e40"
      },
      "source": [
        "reg_print(fruit, y_test_fruit, fruit_pred, X_test_fruit)"
      ],
      "execution_count": 89,
      "outputs": [
        {
          "output_type": "stream",
          "name": "stdout",
          "text": [
            "Coefficients: \n",
            " [   49.81042074  -734.63303937  1376.68502884   118.10364058\n",
            "  -589.91437504   314.8716048    999.94038685  -744.40670885\n",
            "   103.11317129   889.86677981  -455.98502683 -1085.12854601\n",
            "  -309.17776938   705.09372794   -79.6022846    992.46529315\n",
            "  -887.7386962    660.98352526     6.77177108    40.04684567\n",
            "   129.00799285   -34.11546667   229.34302974   980.4959078\n",
            "  -564.24209106  -668.14731966  -445.52546563 -1418.59940185\n",
            "   256.87663445  1684.14485023  -276.51125507  -194.44067194\n",
            "  -989.38744353  -933.93320791   515.70596506  -225.56275178\n",
            "   -84.01315957 -1043.10765605    40.84371573]\n",
            "rank : 39\n",
            "Mean squared error: 6235110.78\n",
            "Coefficient of determination: 0.81\n"
          ]
        },
        {
          "output_type": "display_data",
          "data": {
            "image/png": "[encoded data removed]",
            "text/plain": [
              "<Figure size 432x288 with 1 Axes>"
            ]
          },
          "metadata": {}
        }
      ]
    },
    {
      "cell_type": "code",
      "metadata": {
        "id": "KGvC1cg7adsw"
      },
      "source": [
        "filename = 'fruits_model.sav'\n",
        "pickle.dump(fruit, open(filename, 'wb'))"
      ],
      "execution_count": 117,
      "outputs": []
    },
    {
      "cell_type": "markdown",
      "metadata": {
        "id": "vAp7hXucNd4D"
      },
      "source": [
        "# Mushrooms"
      ]
    },
    {
      "cell_type": "code",
      "metadata": {
        "id": "U5k-14DqOZuZ"
      },
      "source": [
        "mushrooms_df = Farm_type_1[['DDVEC', 'FHVEC', 'FG', 'FHX', 'FHXH', 'FHN', 'FHNH', 'FXX', 'FXXH', 'TG', 'TN', 'TNH', 'TX', 'TXH', 'T10N', 'T10NH', 'SQ', 'SP', 'Q', 'DR', 'RH', 'RHX', 'RHXH', 'PG', 'PX', 'PXH', 'PN', 'PNH', 'VVN', 'VVNH', 'VVX', 'VVXH', 'NG', 'UG', 'UX', 'UXH', 'UN', 'UNH', 'EV24', 'MushroomsTotal_68']]"
      ],
      "execution_count": 90,
      "outputs": []
    },
    {
      "cell_type": "code",
      "metadata": {
        "id": "Q8ETkROzO0XR"
      },
      "source": [
        "X_mushroom = mushrooms_df[features]\n",
        "\n",
        "y_mushroom = mushrooms_df['MushroomsTotal_68']"
      ],
      "execution_count": 95,
      "outputs": []
    },
    {
      "cell_type": "code",
      "metadata": {
        "id": "BVlt7D0BO0XW"
      },
      "source": [
        "X_train_mushroom, X_test_mushroom, y_train_mushroom, y_test_mushroom= train_test_split(\n",
        "    X_mushroom, y_mushroom, test_size=0.2, random_state=42)"
      ],
      "execution_count": 96,
      "outputs": []
    },
    {
      "cell_type": "code",
      "metadata": {
        "colab": {
          "base_uri": "https://localhost:8080/"
        },
        "id": "CkgTVzI0O0XW",
        "outputId": "84686c36-4f96-47d1-c73a-2a7cfa97fb91"
      },
      "source": [
        "mushroom = LinearRegression(normalize=True).fit(X_train_mushroom,y_train_mushroom)"
      ],
      "execution_count": 97,
      "outputs": [
        {
          "output_type": "stream",
          "name": "stderr",
          "text": [
            "2021/09/17 14:51:11 INFO mlflow.utils.autologging_utils: Created MLflow autologging run with ID 'd870a19da8134361b5980d5748fadc84', which will track hyperparameters, performance metrics, model artifacts, and lineage information for the current sklearn workflow\n",
            "2021/09/17 14:51:14 WARNING mlflow.models.model: Logging model metadata to the tracking server has failed, possibly due older server version. The model artifacts have been logged successfully under ./artifacts/282/d870a19da8134361b5980d5748fadc84/artifacts. In addition to exporting model artifacts, MLflow clients 1.7.0 and above attempt to record model metadata to the  tracking store. If logging to a mlflow server via REST, consider  upgrading the server version to MLflow 1.7.0 or above.\n"
          ]
        }
      ]
    },
    {
      "cell_type": "code",
      "metadata": {
        "id": "ITBRRjCFO0XX"
      },
      "source": [
        "mushroom_pred = mushroom.predict(X_test_mushroom)"
      ],
      "execution_count": 99,
      "outputs": []
    },
    {
      "cell_type": "code",
      "metadata": {
        "colab": {
          "base_uri": "https://localhost:8080/",
          "height": 431
        },
        "id": "Pcc0ENfiO0XX",
        "outputId": "e2eb27a1-7610-4cfc-9346-a79bc7631d50"
      },
      "source": [
        "reg_print(mushroom, y_test_mushroom, mushroom_pred, X_test_mushroom)"
      ],
      "execution_count": 101,
      "outputs": [
        {
          "output_type": "stream",
          "name": "stdout",
          "text": [
            "Coefficients: \n",
            " [ 0.00077546 -0.02332433  0.01679403 -0.00353932 -0.03259138  0.01022636\n",
            " -0.00175865  0.00073354  0.02421685  0.01735105 -0.00721977 -0.01055025\n",
            " -0.01114747  0.01691534 -0.00043486  0.04383181 -0.00339439  0.00207284\n",
            " -0.00145877  0.00744974 -0.00452806  0.00442388 -0.02381218  0.08751797\n",
            " -0.04509066 -0.05112908 -0.04141413 -0.02260893 -0.00030897 -0.03422978\n",
            " -0.00477474  0.00657778 -0.06634215  0.02484797 -0.01691021  0.00054795\n",
            " -0.00830582  0.02880348  0.0840328 ]\n",
            "rank : 39\n",
            "Mean squared error: 0.02\n",
            "Coefficient of determination: -0.06\n"
          ]
        },
        {
          "output_type": "display_data",
          "data": {
            "image/png": "[encoded data removed]",
            "text/plain": [
              "<Figure size 432x288 with 1 Axes>"
            ]
          },
          "metadata": {}
        }
      ]
    },
    {
      "cell_type": "code",
      "metadata": {
        "id": "6HMY8WB_bMxo"
      },
      "source": [
        "# No longer using mushrooms. most data is 0"
      ],
      "execution_count": 118,
      "outputs": []
    },
    {
      "cell_type": "code",
      "metadata": {
        "id": "bCLcSXjFbPsU"
      },
      "source": [
        ""
      ],
      "execution_count": null,
      "outputs": []
    }
  ]
}