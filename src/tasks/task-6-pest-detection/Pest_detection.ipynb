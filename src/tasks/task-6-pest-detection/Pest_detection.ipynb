{
  "nbformat": 4,
  "nbformat_minor": 0,
  "metadata": {
    "colab": {
      "name": "Pest detection.ipynb",
      "provenance": [],
      "collapsed_sections": []
    },
    "kernelspec": {
      "name": "python3",
      "display_name": "Python 3"
    },
    "language_info": {
      "name": "python"
    },
    "accelerator": "GPU"
  },
  "cells": [
    {
      "cell_type": "markdown",
      "metadata": {
        "id": "qcc0DtHcTQQw"
      },
      "source": [
        "#**Pest detection using TensorFlow Lite Model Maker**"
      ]
    },
    {
      "cell_type": "markdown",
      "metadata": {
        "id": "FOumMjwJEyfr"
      },
      "source": [
        "### **Install and import libraries**"
      ]
    },
    {
      "cell_type": "code",
      "metadata": {
        "id": "aV5Irf5qhq0g"
      },
      "source": [
        "# Create main directory\n",
        "!mkdir TF"
      ],
      "execution_count": null,
      "outputs": []
    },
    {
      "cell_type": "code",
      "metadata": {
        "id": "NN_f2kSjceki"
      },
      "source": [
        "# Install libraries\n",
        "!pip install -q tflite-model-maker\n",
        "!pip install -q pycocotools\n",
        "!pip install -q cython"
      ],
      "execution_count": null,
      "outputs": []
    },
    {
      "cell_type": "code",
      "metadata": {
        "id": "jqTIa_IIa22U"
      },
      "source": [
        "# Get requirements\n",
        "#%cd /content\n",
        "#!wget https://raw.githubusercontent.com/tensorflow/examples/master/tensorflow_examples/lite/model_maker/requirements.txt"
      ],
      "execution_count": null,
      "outputs": []
    },
    {
      "cell_type": "code",
      "metadata": {
        "id": "y52pzfSxbppy"
      },
      "source": [
        "#!cat /content/requirements.txt"
      ],
      "execution_count": null,
      "outputs": []
    },
    {
      "cell_type": "code",
      "metadata": {
        "id": "lypwgJE_bwjq"
      },
      "source": [
        "#!pip install --ignore-installed -r /content/requirements.txt  "
      ],
      "execution_count": null,
      "outputs": []
    },
    {
      "cell_type": "code",
      "metadata": {
        "id": "oZVZ5zpqcoXm",
        "colab": {
          "base_uri": "https://localhost:8080/"
        },
        "outputId": "f92b428e-36e1-44a4-a1e2-1080405bd5dc"
      },
      "source": [
        "# Import libraries\n",
        "import numpy as np\n",
        "import pandas as pd\n",
        "import os\n",
        "import PIL\n",
        "import PIL.Image\n",
        "import pathlib\n",
        "from IPython.core.interactiveshell import InteractiveShell\n",
        "InteractiveShell.ast_node_interactivity = \"all\"\n",
        "import glob\n",
        "import argparse\n",
        "import xml.etree.ElementTree as ET\n",
        "from tqdm import tqdm\n",
        "from tflite_model_maker.config import ExportFormat\n",
        "from tflite_model_maker import model_spec\n",
        "from tflite_model_maker import object_detector\n",
        "import random, shutil\n",
        "%pylab inline\n",
        "import matplotlib.pyplot as plt\n",
        "import matplotlib.image as mpimg\n",
        "\n",
        "import tensorflow as tf\n",
        "import tflite_model_maker as mm\n",
        "assert tf.__version__.startswith('2')\n",
        "\n",
        "tf.get_logger().setLevel('ERROR')\n",
        "from absl import logging\n",
        "logging.set_verbosity(logging.ERROR)\n"
      ],
      "execution_count": null,
      "outputs": [
        {
          "output_type": "stream",
          "name": "stdout",
          "text": [
            "Populating the interactive namespace from numpy and matplotlib\n"
          ]
        },
        {
          "output_type": "stream",
          "name": "stderr",
          "text": [
            "/usr/local/lib/python3.7/dist-packages/IPython/core/magics/pylab.py:161: UserWarning: pylab import has clobbered these variables: ['random']\n",
            "`%matplotlib` prevents importing * from pylab and numpy\n",
            "  \"\\n`%matplotlib` prevents importing * from pylab and numpy\"\n"
          ]
        }
      ]
    },
    {
      "cell_type": "code",
      "metadata": {
        "colab": {
          "base_uri": "https://localhost:8080/"
        },
        "id": "cEtuTWOVcvQ2",
        "outputId": "5634a852-08fb-4466-cd1e-330dfec7a7bf"
      },
      "source": [
        "# Checking versions\n",
        "print(f\"TensorFlow Version: {tf.__version__}\")\n",
        "print(f\"Model Maker Version: {mm.__version__}\")"
      ],
      "execution_count": null,
      "outputs": [
        {
          "output_type": "stream",
          "name": "stdout",
          "text": [
            "TensorFlow Version: 2.6.0\n",
            "Model Maker Version: 0.3.2\n"
          ]
        }
      ]
    },
    {
      "cell_type": "code",
      "metadata": {
        "id": "V0eLWrrIcxuo"
      },
      "source": [
        "# Setting a seed for reproducibility\n",
        "tf.random.set_seed(123)"
      ],
      "execution_count": null,
      "outputs": []
    },
    {
      "cell_type": "markdown",
      "metadata": {
        "id": "HWoYAls2E2m4"
      },
      "source": [
        "### **Getting the data**\n",
        "\n",
        "Training, validation, and test datasets can be found as a zip  [here](https://drive.google.com/drive/folders/1q38SziaAaH4AW8dFI4wzIwL3yqnPj_4i?usp=sharing), you can create a shortcut between your Drive account and this Drive folder to better access it. \n",
        "\n",
        "After getting a test dataset in the data extraction notebook, I used the free and quick service of the platform [Roboflow](https://blog.roboflow.com/create-tfrecord/) to partition this data and convert it into TFRecords files. The reason to use this dataset is that apparently, TFLite Model Maker has a limit in the number of training images when the data is uploaded as a TFRecord file.\n",
        "\n",
        "So I will not use the original datasets but the files created by Roboflow. The only thing I will change from these files is the label map to make it more readable."
      ]
    },
    {
      "cell_type": "code",
      "metadata": {
        "id": "PW0wExV8NEhZ",
        "colab": {
          "base_uri": "https://localhost:8080/"
        },
        "outputId": "ce74a7d8-c9c2-484c-8433-7b15e68ec714"
      },
      "source": [
        "%%bash\n",
        "\n",
        "# Create new directories for better organization\n",
        "cd /content/TF\n",
        "mkdir -p workspace/training/{images,model,exported-models,annotations}  \n",
        "\n",
        "# Download data\n",
        "cd /content/TF/workspace/training/images\n",
        "unzip /content/drive/MyDrive/OMDENA/small_dataset.v1i.tfrecord.zip"
      ],
      "execution_count": null,
      "outputs": [
        {
          "output_type": "stream",
          "name": "stdout",
          "text": [
            "Archive:  /content/drive/MyDrive/OMDENA/small_dataset.v1i.tfrecord.zip\n",
            " extracting: README.dataset.txt      \n",
            " extracting: README.roboflow.txt     \n",
            "   creating: test/\n",
            " extracting: test/pests.tfrecord     \n",
            " extracting: test/pests_label_map.pbtxt  \n",
            "   creating: train/\n",
            " extracting: train/pests.tfrecord    \n",
            " extracting: train/pests_label_map.pbtxt  \n",
            "   creating: valid/\n",
            " extracting: valid/pests.tfrecord    \n",
            " extracting: valid/pests_label_map.pbtxt  \n"
          ]
        }
      ]
    },
    {
      "cell_type": "markdown",
      "metadata": {
        "id": "n3CIU5PLj_e0"
      },
      "source": [
        "##### Now we need to modify the `pests_label_map.pbtxt` file, to specify the classes, and save them into annnotations folder. \n"
      ]
    },
    {
      "cell_type": "code",
      "metadata": {
        "colab": {
          "base_uri": "https://localhost:8080/"
        },
        "id": "2KT-UZnshIZQ",
        "outputId": "cd1764d6-f7b1-4e6a-d266-e8c7a6c3fe89"
      },
      "source": [
        "%cd /content/TF/workspace/training/annotations\n",
        "!wget https://raw.githubusercontent.com/Camicb/tmp/main/pests_label_map.pbtxt"
      ],
      "execution_count": null,
      "outputs": [
        {
          "output_type": "stream",
          "name": "stdout",
          "text": [
            "/content/TF/workspace/training/annotations\n",
            "--2021-09-21 15:15:55--  https://raw.githubusercontent.com/Camicb/tmp/main/pests_label_map.pbtxt\n",
            "Resolving raw.githubusercontent.com (raw.githubusercontent.com)... 185.199.108.133, 185.199.111.133, 185.199.110.133, ...\n",
            "Connecting to raw.githubusercontent.com (raw.githubusercontent.com)|185.199.108.133|:443... connected.\n",
            "HTTP request sent, awaiting response... 200 OK\n",
            "Length: 1113 (1.1K) [text/plain]\n",
            "Saving to: ‘pests_label_map.pbtxt’\n",
            "\n",
            "\rpests_label_map.pbt   0%[                    ]       0  --.-KB/s               \rpests_label_map.pbt 100%[===================>]   1.09K  --.-KB/s    in 0s      \n",
            "\n",
            "2021-09-21 15:15:55 (56.5 MB/s) - ‘pests_label_map.pbtxt’ saved [1113/1113]\n",
            "\n"
          ]
        }
      ]
    },
    {
      "cell_type": "markdown",
      "metadata": {
        "id": "2BqKhmUpFKUd"
      },
      "source": [
        "### **Modeling with TFLite Model Maker**"
      ]
    },
    {
      "cell_type": "markdown",
      "metadata": {
        "id": "j5ZwzlSeE8xq"
      },
      "source": [
        "Model Maker supports the EfficientDet-Lite family of object detection models. (EfficientDet-Lite is derived from [EfficientDet](https://ai.googleblog.com/2020/04/efficientdet-towards-scalable-and.html), which offers state-of-the-art accuracy in a small model size). There are several model sizes we can choose from:\n",
        "\n",
        "|| Model architecture | Size(MB)* | Latency(ms)** | Average Precision*** |\n",
        "|-|--------------------|-----------|---------------|----------------------|\n",
        "|| EfficientDet-Lite0 | 4.4       | 37            | 25.69%               |\n",
        "|| EfficientDet-Lite1 | 5.8       | 49            | 30.55%               |\n",
        "|| EfficientDet-Lite2 | 7.2       | 69            | 33.97%               |\n",
        "|| EfficientDet-Lite3 | 11.4      | 116           | 37.70%               |\n",
        "|| EfficientDet-Lite4 | 19.9      | 260           | 41.96%               |\n",
        "| <td colspan=4><br><i>* File size of the integer quantized models. <br/>** Latency measured on Pixel 4 using 4 threads on CPU. <br/>*** Average Precision is the mAP (mean Average Precision) on the COCO 2017 validation dataset.</i></td> |\n"
      ]
    },
    {
      "cell_type": "markdown",
      "metadata": {
        "id": "q7SLWLi-vSep"
      },
      "source": [
        "We do not need to resize the images or perform data augmentation steps, because the models already have the built-in mechanisms to do so. Also, since we have small datasets, I will set `train_whole_model=True`. I will try Lite1, Lite2 and Lite3 models.\n",
        "\n",
        "Next, I will export the models to the TensorFlow Lite format. By default, the [`export()`](https://www.tensorflow.org/lite/api_docs/python/tflite_model_maker/object_detector/ObjectDetector#export) method performs [full integer post-training quantization](https://www.tensorflow.org/lite/performance/post_training_quantization#full_integer_quantization). Model Maker uses the same dataset we gave to our model spec as a representative dataset, which is required for full-int quantization; we just need to specify the export directory and format. By default, it exports to TF Lite, but we also want a labels file, so I will declare both."
      ]
    },
    {
      "cell_type": "code",
      "metadata": {
        "id": "Pz0KE28Z5alE"
      },
      "source": [
        "# Load the datasets into Model Maker\n",
        "\n",
        "model_dir = '/content/TF/workspace/training/model' \n",
        "\n",
        "tf_record_train = '/content/TF/workspace/training/images/train/pests.tfrecord'\n",
        "tf_record_val =   '/content/TF/workspace/training/images/valid/pests.tfrecord'\n",
        "tf_record_test = '/content/TF/workspace/training/images/test/pests.tfrecord'\n",
        "\n",
        "label_map = ['1','4','5','10','16','23','24','28','29','30','33','34','14111','14131','14141']\n",
        "\n",
        "train_data = object_detector.DataLoader(tf_record_train, 97, label_map)  # can't be more than 100 images\n",
        "val_data = object_detector.DataLoader(tf_record_val, 15, label_map)\n",
        "test_data = object_detector.DataLoader(tf_record_test, 15, label_map)"
      ],
      "execution_count": null,
      "outputs": []
    },
    {
      "cell_type": "markdown",
      "metadata": {
        "id": "PQU5wTgOFqZP"
      },
      "source": [
        "**EfficientDet-Lite1**"
      ]
    },
    {
      "cell_type": "code",
      "metadata": {
        "id": "CsexzZEPsW5I",
        "colab": {
          "base_uri": "https://localhost:8080/"
        },
        "outputId": "8448e9fd-fcbb-4838-a87a-efa787178c27"
      },
      "source": [
        "# Choose the object detection model architecture\n",
        "spec = object_detector.EfficientDetLite1Spec()\n",
        "\n",
        "# Train the model\n",
        "model_lite1 = object_detector.create(train_data=train_data, model_spec=spec, validation_data=val_data, batch_size=8, train_whole_model=True)"
      ],
      "execution_count": null,
      "outputs": [
        {
          "output_type": "stream",
          "name": "stdout",
          "text": [
            "Epoch 1/50\n",
            "12/12 [==============================] - 91s 2s/step - det_loss: 2.1872 - cls_loss: 1.3112 - box_loss: 0.0175 - reg_l2_loss: 0.0730 - loss: 2.2602 - learning_rate: 0.0090 - gradient_norm: 1.4924 - val_det_loss: 1.9579 - val_cls_loss: 1.2878 - val_box_loss: 0.0134 - val_reg_l2_loss: 0.0730 - val_loss: 2.0309\n",
            "Epoch 2/50\n",
            "12/12 [==============================] - 11s 955ms/step - det_loss: 2.1171 - cls_loss: 1.3158 - box_loss: 0.0160 - reg_l2_loss: 0.0730 - loss: 2.1900 - learning_rate: 0.0100 - gradient_norm: 1.4055 - val_det_loss: 1.9310 - val_cls_loss: 1.2868 - val_box_loss: 0.0129 - val_reg_l2_loss: 0.0730 - val_loss: 2.0040\n",
            "Epoch 3/50\n",
            "12/12 [==============================] - 11s 969ms/step - det_loss: 2.0552 - cls_loss: 1.2958 - box_loss: 0.0152 - reg_l2_loss: 0.0730 - loss: 2.1281 - learning_rate: 0.0099 - gradient_norm: 1.6441 - val_det_loss: 1.9115 - val_cls_loss: 1.2877 - val_box_loss: 0.0125 - val_reg_l2_loss: 0.0730 - val_loss: 1.9845\n",
            "Epoch 4/50\n",
            "12/12 [==============================] - 12s 1s/step - det_loss: 1.9974 - cls_loss: 1.2879 - box_loss: 0.0142 - reg_l2_loss: 0.0730 - loss: 2.0703 - learning_rate: 0.0099 - gradient_norm: 2.1729 - val_det_loss: 1.8897 - val_cls_loss: 1.2860 - val_box_loss: 0.0121 - val_reg_l2_loss: 0.0730 - val_loss: 1.9627\n",
            "Epoch 5/50\n",
            "12/12 [==============================] - 11s 973ms/step - det_loss: 1.8932 - cls_loss: 1.2602 - box_loss: 0.0127 - reg_l2_loss: 0.0730 - loss: 1.9662 - learning_rate: 0.0098 - gradient_norm: 2.2713 - val_det_loss: 1.8681 - val_cls_loss: 1.2838 - val_box_loss: 0.0117 - val_reg_l2_loss: 0.0730 - val_loss: 1.9411\n",
            "Epoch 6/50\n",
            "12/12 [==============================] - 11s 905ms/step - det_loss: 1.8850 - cls_loss: 1.2450 - box_loss: 0.0128 - reg_l2_loss: 0.0730 - loss: 1.9580 - learning_rate: 0.0097 - gradient_norm: 3.1070 - val_det_loss: 1.8713 - val_cls_loss: 1.2829 - val_box_loss: 0.0118 - val_reg_l2_loss: 0.0730 - val_loss: 1.9443\n",
            "Epoch 7/50\n",
            "12/12 [==============================] - 11s 980ms/step - det_loss: 1.9662 - cls_loss: 1.2338 - box_loss: 0.0146 - reg_l2_loss: 0.0730 - loss: 2.0392 - learning_rate: 0.0096 - gradient_norm: 3.0870 - val_det_loss: 1.8678 - val_cls_loss: 1.2759 - val_box_loss: 0.0118 - val_reg_l2_loss: 0.0730 - val_loss: 1.9408\n",
            "Epoch 8/50\n",
            "12/12 [==============================] - 11s 956ms/step - det_loss: 1.6400 - cls_loss: 1.1722 - box_loss: 0.0094 - reg_l2_loss: 0.0730 - loss: 1.7130 - learning_rate: 0.0094 - gradient_norm: 3.3432 - val_det_loss: 1.8173 - val_cls_loss: 1.2760 - val_box_loss: 0.0108 - val_reg_l2_loss: 0.0730 - val_loss: 1.8903\n",
            "Epoch 9/50\n",
            "12/12 [==============================] - 11s 939ms/step - det_loss: 1.5950 - cls_loss: 1.1137 - box_loss: 0.0096 - reg_l2_loss: 0.0731 - loss: 1.6681 - learning_rate: 0.0093 - gradient_norm: 4.1194 - val_det_loss: 1.7920 - val_cls_loss: 1.2683 - val_box_loss: 0.0105 - val_reg_l2_loss: 0.0731 - val_loss: 1.8651\n",
            "Epoch 10/50\n",
            "12/12 [==============================] - 12s 994ms/step - det_loss: 1.5820 - cls_loss: 1.1018 - box_loss: 0.0096 - reg_l2_loss: 0.0731 - loss: 1.6551 - learning_rate: 0.0091 - gradient_norm: 5.1182 - val_det_loss: 1.7593 - val_cls_loss: 1.2587 - val_box_loss: 0.0100 - val_reg_l2_loss: 0.0731 - val_loss: 1.8324\n",
            "Epoch 11/50\n",
            "12/12 [==============================] - 11s 952ms/step - det_loss: 1.4974 - cls_loss: 1.0777 - box_loss: 0.0084 - reg_l2_loss: 0.0731 - loss: 1.5705 - learning_rate: 0.0089 - gradient_norm: 4.4858 - val_det_loss: 1.7342 - val_cls_loss: 1.2253 - val_box_loss: 0.0102 - val_reg_l2_loss: 0.0732 - val_loss: 1.8073\n",
            "Epoch 12/50\n",
            "12/12 [==============================] - 11s 965ms/step - det_loss: 1.5349 - cls_loss: 1.0241 - box_loss: 0.0102 - reg_l2_loss: 0.0732 - loss: 1.6081 - learning_rate: 0.0087 - gradient_norm: 5.4949 - val_det_loss: 1.6980 - val_cls_loss: 1.2315 - val_box_loss: 0.0093 - val_reg_l2_loss: 0.0732 - val_loss: 1.7712\n",
            "Epoch 13/50\n",
            "12/12 [==============================] - 11s 949ms/step - det_loss: 1.4086 - cls_loss: 0.9789 - box_loss: 0.0086 - reg_l2_loss: 0.0732 - loss: 1.4819 - learning_rate: 0.0085 - gradient_norm: 4.6627 - val_det_loss: 1.7939 - val_cls_loss: 1.2341 - val_box_loss: 0.0112 - val_reg_l2_loss: 0.0733 - val_loss: 1.8672\n",
            "Epoch 14/50\n",
            "12/12 [==============================] - 11s 953ms/step - det_loss: 1.4513 - cls_loss: 0.9914 - box_loss: 0.0092 - reg_l2_loss: 0.0733 - loss: 1.5245 - learning_rate: 0.0082 - gradient_norm: 5.0199 - val_det_loss: 1.8073 - val_cls_loss: 1.2416 - val_box_loss: 0.0113 - val_reg_l2_loss: 0.0733 - val_loss: 1.8806\n",
            "Epoch 15/50\n",
            "12/12 [==============================] - 11s 947ms/step - det_loss: 1.3681 - cls_loss: 0.9650 - box_loss: 0.0081 - reg_l2_loss: 0.0733 - loss: 1.4414 - learning_rate: 0.0080 - gradient_norm: 5.1255 - val_det_loss: 1.7633 - val_cls_loss: 1.2041 - val_box_loss: 0.0112 - val_reg_l2_loss: 0.0733 - val_loss: 1.8367\n",
            "Epoch 16/50\n",
            "12/12 [==============================] - 11s 958ms/step - det_loss: 1.3125 - cls_loss: 0.9249 - box_loss: 0.0078 - reg_l2_loss: 0.0734 - loss: 1.3858 - learning_rate: 0.0077 - gradient_norm: 4.6032 - val_det_loss: 1.6438 - val_cls_loss: 1.1556 - val_box_loss: 0.0098 - val_reg_l2_loss: 0.0734 - val_loss: 1.7172\n",
            "Epoch 17/50\n",
            "12/12 [==============================] - 11s 967ms/step - det_loss: 1.2714 - cls_loss: 0.9060 - box_loss: 0.0073 - reg_l2_loss: 0.0734 - loss: 1.3448 - learning_rate: 0.0075 - gradient_norm: 4.5635 - val_det_loss: 1.5794 - val_cls_loss: 1.1131 - val_box_loss: 0.0093 - val_reg_l2_loss: 0.0734 - val_loss: 1.6528\n",
            "Epoch 18/50\n",
            "12/12 [==============================] - 11s 971ms/step - det_loss: 1.2773 - cls_loss: 0.8849 - box_loss: 0.0078 - reg_l2_loss: 0.0734 - loss: 1.3507 - learning_rate: 0.0072 - gradient_norm: 5.5551 - val_det_loss: 1.5152 - val_cls_loss: 1.0748 - val_box_loss: 0.0088 - val_reg_l2_loss: 0.0735 - val_loss: 1.5886\n",
            "Epoch 19/50\n",
            "12/12 [==============================] - 11s 978ms/step - det_loss: 1.1716 - cls_loss: 0.8384 - box_loss: 0.0067 - reg_l2_loss: 0.0735 - loss: 1.2451 - learning_rate: 0.0069 - gradient_norm: 4.0847 - val_det_loss: 1.5672 - val_cls_loss: 1.0685 - val_box_loss: 0.0100 - val_reg_l2_loss: 0.0735 - val_loss: 1.6407\n",
            "Epoch 20/50\n",
            "12/12 [==============================] - 11s 972ms/step - det_loss: 1.2413 - cls_loss: 0.8551 - box_loss: 0.0077 - reg_l2_loss: 0.0735 - loss: 1.3148 - learning_rate: 0.0066 - gradient_norm: 4.2518 - val_det_loss: 1.5847 - val_cls_loss: 1.0555 - val_box_loss: 0.0106 - val_reg_l2_loss: 0.0735 - val_loss: 1.6582\n",
            "Epoch 21/50\n",
            "12/12 [==============================] - 11s 929ms/step - det_loss: 1.1493 - cls_loss: 0.7846 - box_loss: 0.0073 - reg_l2_loss: 0.0735 - loss: 1.2229 - learning_rate: 0.0063 - gradient_norm: 4.6822 - val_det_loss: 1.5763 - val_cls_loss: 1.0626 - val_box_loss: 0.0103 - val_reg_l2_loss: 0.0735 - val_loss: 1.6499\n",
            "Epoch 22/50\n",
            "12/12 [==============================] - 11s 971ms/step - det_loss: 1.0839 - cls_loss: 0.7696 - box_loss: 0.0063 - reg_l2_loss: 0.0735 - loss: 1.1575 - learning_rate: 0.0060 - gradient_norm: 4.1897 - val_det_loss: 1.5066 - val_cls_loss: 1.0215 - val_box_loss: 0.0097 - val_reg_l2_loss: 0.0736 - val_loss: 1.5801\n",
            "Epoch 23/50\n",
            "12/12 [==============================] - 11s 968ms/step - det_loss: 1.0504 - cls_loss: 0.7354 - box_loss: 0.0063 - reg_l2_loss: 0.0736 - loss: 1.1240 - learning_rate: 0.0056 - gradient_norm: 4.3347 - val_det_loss: 1.4609 - val_cls_loss: 1.0046 - val_box_loss: 0.0091 - val_reg_l2_loss: 0.0736 - val_loss: 1.5345\n",
            "Epoch 24/50\n",
            "12/12 [==============================] - 11s 957ms/step - det_loss: 1.0909 - cls_loss: 0.7361 - box_loss: 0.0071 - reg_l2_loss: 0.0736 - loss: 1.1644 - learning_rate: 0.0053 - gradient_norm: 5.4504 - val_det_loss: 1.4560 - val_cls_loss: 0.9894 - val_box_loss: 0.0093 - val_reg_l2_loss: 0.0736 - val_loss: 1.5296\n",
            "Epoch 25/50\n",
            "12/12 [==============================] - 11s 914ms/step - det_loss: 0.9947 - cls_loss: 0.6936 - box_loss: 0.0060 - reg_l2_loss: 0.0736 - loss: 1.0683 - learning_rate: 0.0050 - gradient_norm: 4.6040 - val_det_loss: 1.4580 - val_cls_loss: 1.0027 - val_box_loss: 0.0091 - val_reg_l2_loss: 0.0736 - val_loss: 1.5316\n",
            "Epoch 26/50\n",
            "12/12 [==============================] - 11s 968ms/step - det_loss: 0.9607 - cls_loss: 0.6851 - box_loss: 0.0055 - reg_l2_loss: 0.0736 - loss: 1.0343 - learning_rate: 0.0047 - gradient_norm: 3.6844 - val_det_loss: 1.4620 - val_cls_loss: 1.0028 - val_box_loss: 0.0092 - val_reg_l2_loss: 0.0736 - val_loss: 1.5356\n",
            "Epoch 27/50\n",
            "12/12 [==============================] - 11s 976ms/step - det_loss: 0.9526 - cls_loss: 0.6716 - box_loss: 0.0056 - reg_l2_loss: 0.0736 - loss: 1.0262 - learning_rate: 0.0044 - gradient_norm: 4.2666 - val_det_loss: 1.5074 - val_cls_loss: 1.0303 - val_box_loss: 0.0095 - val_reg_l2_loss: 0.0736 - val_loss: 1.5810\n",
            "Epoch 28/50\n",
            "12/12 [==============================] - 11s 955ms/step - det_loss: 0.9455 - cls_loss: 0.6660 - box_loss: 0.0056 - reg_l2_loss: 0.0736 - loss: 1.0191 - learning_rate: 0.0040 - gradient_norm: 4.0307 - val_det_loss: 1.4721 - val_cls_loss: 1.0205 - val_box_loss: 0.0090 - val_reg_l2_loss: 0.0736 - val_loss: 1.5457\n",
            "Epoch 29/50\n",
            "12/12 [==============================] - 11s 949ms/step - det_loss: 0.9426 - cls_loss: 0.6557 - box_loss: 0.0057 - reg_l2_loss: 0.0736 - loss: 1.0163 - learning_rate: 0.0037 - gradient_norm: 4.4253 - val_det_loss: 1.4079 - val_cls_loss: 0.9806 - val_box_loss: 0.0085 - val_reg_l2_loss: 0.0736 - val_loss: 1.4815\n",
            "Epoch 30/50\n",
            "12/12 [==============================] - 11s 982ms/step - det_loss: 0.9273 - cls_loss: 0.6393 - box_loss: 0.0058 - reg_l2_loss: 0.0736 - loss: 1.0009 - learning_rate: 0.0034 - gradient_norm: 4.1020 - val_det_loss: 1.3957 - val_cls_loss: 0.9650 - val_box_loss: 0.0086 - val_reg_l2_loss: 0.0736 - val_loss: 1.4694\n",
            "Epoch 31/50\n",
            "12/12 [==============================] - 11s 964ms/step - det_loss: 0.8734 - cls_loss: 0.6366 - box_loss: 0.0047 - reg_l2_loss: 0.0737 - loss: 0.9470 - learning_rate: 0.0031 - gradient_norm: 3.8909 - val_det_loss: 1.4190 - val_cls_loss: 0.9631 - val_box_loss: 0.0091 - val_reg_l2_loss: 0.0737 - val_loss: 1.4926\n",
            "Epoch 32/50\n",
            "12/12 [==============================] - 11s 974ms/step - det_loss: 0.8739 - cls_loss: 0.6065 - box_loss: 0.0053 - reg_l2_loss: 0.0737 - loss: 0.9476 - learning_rate: 0.0028 - gradient_norm: 4.3158 - val_det_loss: 1.3519 - val_cls_loss: 0.9397 - val_box_loss: 0.0082 - val_reg_l2_loss: 0.0737 - val_loss: 1.4256\n",
            "Epoch 33/50\n",
            "12/12 [==============================] - 11s 942ms/step - det_loss: 0.8875 - cls_loss: 0.6464 - box_loss: 0.0048 - reg_l2_loss: 0.0737 - loss: 0.9612 - learning_rate: 0.0025 - gradient_norm: 3.9387 - val_det_loss: 1.3063 - val_cls_loss: 0.9277 - val_box_loss: 0.0076 - val_reg_l2_loss: 0.0737 - val_loss: 1.3800\n",
            "Epoch 34/50\n",
            "12/12 [==============================] - 11s 974ms/step - det_loss: 0.9070 - cls_loss: 0.6225 - box_loss: 0.0057 - reg_l2_loss: 0.0737 - loss: 0.9806 - learning_rate: 0.0023 - gradient_norm: 5.2381 - val_det_loss: 1.3214 - val_cls_loss: 0.9167 - val_box_loss: 0.0081 - val_reg_l2_loss: 0.0737 - val_loss: 1.3950\n",
            "Epoch 35/50\n",
            "12/12 [==============================] - 11s 953ms/step - det_loss: 0.8645 - cls_loss: 0.5993 - box_loss: 0.0053 - reg_l2_loss: 0.0737 - loss: 0.9381 - learning_rate: 0.0020 - gradient_norm: 3.6161 - val_det_loss: 1.3600 - val_cls_loss: 0.9348 - val_box_loss: 0.0085 - val_reg_l2_loss: 0.0737 - val_loss: 1.4337\n",
            "Epoch 36/50\n",
            "12/12 [==============================] - 11s 953ms/step - det_loss: 0.8511 - cls_loss: 0.6047 - box_loss: 0.0049 - reg_l2_loss: 0.0737 - loss: 0.9248 - learning_rate: 0.0018 - gradient_norm: 4.3620 - val_det_loss: 1.3494 - val_cls_loss: 0.9422 - val_box_loss: 0.0081 - val_reg_l2_loss: 0.0737 - val_loss: 1.4230\n",
            "Epoch 37/50\n",
            "12/12 [==============================] - 11s 977ms/step - det_loss: 0.8111 - cls_loss: 0.5799 - box_loss: 0.0046 - reg_l2_loss: 0.0737 - loss: 0.8847 - learning_rate: 0.0015 - gradient_norm: 4.0621 - val_det_loss: 1.3485 - val_cls_loss: 0.9374 - val_box_loss: 0.0082 - val_reg_l2_loss: 0.0737 - val_loss: 1.4222\n",
            "Epoch 38/50\n",
            "12/12 [==============================] - 11s 966ms/step - det_loss: 0.7911 - cls_loss: 0.5513 - box_loss: 0.0048 - reg_l2_loss: 0.0737 - loss: 0.8647 - learning_rate: 0.0013 - gradient_norm: 4.1502 - val_det_loss: 1.3452 - val_cls_loss: 0.9361 - val_box_loss: 0.0082 - val_reg_l2_loss: 0.0737 - val_loss: 1.4188\n",
            "Epoch 39/50\n",
            "12/12 [==============================] - 11s 967ms/step - det_loss: 0.8226 - cls_loss: 0.5847 - box_loss: 0.0048 - reg_l2_loss: 0.0737 - loss: 0.8963 - learning_rate: 0.0011 - gradient_norm: 4.2416 - val_det_loss: 1.3303 - val_cls_loss: 0.9293 - val_box_loss: 0.0080 - val_reg_l2_loss: 0.0737 - val_loss: 1.4039\n",
            "Epoch 40/50\n",
            "12/12 [==============================] - 11s 961ms/step - det_loss: 0.8096 - cls_loss: 0.5805 - box_loss: 0.0046 - reg_l2_loss: 0.0737 - loss: 0.8833 - learning_rate: 9.0108e-04 - gradient_norm: 4.3489 - val_det_loss: 1.3373 - val_cls_loss: 0.9267 - val_box_loss: 0.0082 - val_reg_l2_loss: 0.0737 - val_loss: 1.4109\n",
            "Epoch 41/50\n",
            "12/12 [==============================] - 11s 962ms/step - det_loss: 0.9125 - cls_loss: 0.6317 - box_loss: 0.0056 - reg_l2_loss: 0.0737 - loss: 0.9862 - learning_rate: 7.2615e-04 - gradient_norm: 4.6835 - val_det_loss: 1.3414 - val_cls_loss: 0.9270 - val_box_loss: 0.0083 - val_reg_l2_loss: 0.0737 - val_loss: 1.4150\n",
            "Epoch 42/50\n",
            "12/12 [==============================] - 11s 968ms/step - det_loss: 0.8524 - cls_loss: 0.6103 - box_loss: 0.0048 - reg_l2_loss: 0.0737 - loss: 0.9261 - learning_rate: 5.6879e-04 - gradient_norm: 4.3657 - val_det_loss: 1.3383 - val_cls_loss: 0.9301 - val_box_loss: 0.0082 - val_reg_l2_loss: 0.0737 - val_loss: 1.4120\n",
            "Epoch 43/50\n",
            "12/12 [==============================] - 11s 968ms/step - det_loss: 0.8285 - cls_loss: 0.5839 - box_loss: 0.0049 - reg_l2_loss: 0.0737 - loss: 0.9022 - learning_rate: 4.2963e-04 - gradient_norm: 4.0569 - val_det_loss: 1.3319 - val_cls_loss: 0.9291 - val_box_loss: 0.0081 - val_reg_l2_loss: 0.0737 - val_loss: 1.4056\n",
            "Epoch 44/50\n",
            "12/12 [==============================] - 11s 915ms/step - det_loss: 0.7818 - cls_loss: 0.5728 - box_loss: 0.0042 - reg_l2_loss: 0.0737 - loss: 0.8555 - learning_rate: 3.0925e-04 - gradient_norm: 3.8673 - val_det_loss: 1.3324 - val_cls_loss: 0.9302 - val_box_loss: 0.0080 - val_reg_l2_loss: 0.0737 - val_loss: 1.4061\n",
            "Epoch 45/50\n",
            "12/12 [==============================] - 11s 926ms/step - det_loss: 0.8145 - cls_loss: 0.5820 - box_loss: 0.0046 - reg_l2_loss: 0.0737 - loss: 0.8881 - learning_rate: 2.0814e-04 - gradient_norm: 3.8350 - val_det_loss: 1.3290 - val_cls_loss: 0.9272 - val_box_loss: 0.0080 - val_reg_l2_loss: 0.0737 - val_loss: 1.4027\n",
            "Epoch 46/50\n",
            "12/12 [==============================] - 11s 960ms/step - det_loss: 0.7625 - cls_loss: 0.5535 - box_loss: 0.0042 - reg_l2_loss: 0.0737 - loss: 0.8361 - learning_rate: 1.2673e-04 - gradient_norm: 3.9884 - val_det_loss: 1.3250 - val_cls_loss: 0.9251 - val_box_loss: 0.0080 - val_reg_l2_loss: 0.0737 - val_loss: 1.3987\n",
            "Epoch 47/50\n",
            "12/12 [==============================] - 11s 951ms/step - det_loss: 0.7525 - cls_loss: 0.5498 - box_loss: 0.0041 - reg_l2_loss: 0.0737 - loss: 0.8262 - learning_rate: 6.5345e-05 - gradient_norm: 4.0894 - val_det_loss: 1.3261 - val_cls_loss: 0.9266 - val_box_loss: 0.0080 - val_reg_l2_loss: 0.0737 - val_loss: 1.3998\n",
            "Epoch 48/50\n",
            "12/12 [==============================] - 11s 936ms/step - det_loss: 0.7768 - cls_loss: 0.5630 - box_loss: 0.0043 - reg_l2_loss: 0.0737 - loss: 0.8505 - learning_rate: 2.4236e-05 - gradient_norm: 3.6977 - val_det_loss: 1.3318 - val_cls_loss: 0.9285 - val_box_loss: 0.0081 - val_reg_l2_loss: 0.0737 - val_loss: 1.4055\n",
            "Epoch 49/50\n",
            "12/12 [==============================] - 11s 962ms/step - det_loss: 0.8412 - cls_loss: 0.5926 - box_loss: 0.0050 - reg_l2_loss: 0.0737 - loss: 0.9149 - learning_rate: 3.5729e-06 - gradient_norm: 3.8224 - val_det_loss: 1.3289 - val_cls_loss: 0.9246 - val_box_loss: 0.0081 - val_reg_l2_loss: 0.0737 - val_loss: 1.4026\n",
            "Epoch 50/50\n",
            "12/12 [==============================] - 11s 957ms/step - det_loss: 0.8259 - cls_loss: 0.5739 - box_loss: 0.0050 - reg_l2_loss: 0.0737 - loss: 0.8996 - learning_rate: 3.4413e-06 - gradient_norm: 4.6279 - val_det_loss: 1.3289 - val_cls_loss: 0.9233 - val_box_loss: 0.0081 - val_reg_l2_loss: 0.0737 - val_loss: 1.4026\n"
          ]
        }
      ]
    },
    {
      "cell_type": "code",
      "metadata": {
        "colab": {
          "base_uri": "https://localhost:8080/"
        },
        "id": "6Ll8SZgkEWu9",
        "outputId": "17fb1bb8-2039-4f91-9766-c8aeddc161e3"
      },
      "source": [
        "# Evaluate the model \n",
        "model_lite1.evaluate(test_data)"
      ],
      "execution_count": null,
      "outputs": [
        {
          "output_type": "stream",
          "name": "stdout",
          "text": [
            "\r1/1 [==============================] - 11s 11s/step\n",
            "\n"
          ]
        },
        {
          "output_type": "execute_result",
          "data": {
            "text/plain": [
              "{'AP': 0.14520594,\n",
              " 'AP50': 0.25615564,\n",
              " 'AP75': 0.15242714,\n",
              " 'AP_/1': 0.055263158,\n",
              " 'AP_/10': 0.118937954,\n",
              " 'AP_/14111': 0.0,\n",
              " 'AP_/14131': 0.0,\n",
              " 'AP_/14141': 0.0,\n",
              " 'AP_/16': 0.0060741375,\n",
              " 'AP_/23': 0.26666668,\n",
              " 'AP_/24': 0.12886967,\n",
              " 'AP_/28': 0.046883468,\n",
              " 'AP_/29': 0.08415841,\n",
              " 'AP_/30': 0.0,\n",
              " 'AP_/33': 0.0,\n",
              " 'AP_/34': 0.0,\n",
              " 'AP_/4': 0.0,\n",
              " 'AP_/5': 0.6,\n",
              " 'APl': 0.17684014,\n",
              " 'APm': 0.08992086,\n",
              " 'APs': -1.0,\n",
              " 'ARl': 0.45185184,\n",
              " 'ARm': 0.18333334,\n",
              " 'ARmax1': 0.26740742,\n",
              " 'ARmax10': 0.4048148,\n",
              " 'ARmax100': 0.40814814,\n",
              " 'ARs': -1.0}"
            ]
          },
          "metadata": {},
          "execution_count": 11
        }
      ]
    },
    {
      "cell_type": "markdown",
      "metadata": {
        "id": "s25IbvHOD3Lx"
      },
      "source": [
        "Precision defines how much you can rely on the positive class prediction: From the samples that the model said were positive, how many actually are? (FP)\n",
        "\n",
        "The Recall measures how good the model is at hitting the positive class, That is, from the positive samples, how many did the algorithm get right? (FN)\n",
        "\n",
        "The Average Recall(AR) was split by the max number of detection per image (1, 10, 100)."
      ]
    },
    {
      "cell_type": "code",
      "metadata": {
        "id": "1v1SaumxasbB"
      },
      "source": [
        "# Export the model\n",
        "model_lite1.export(export_dir='/content',\n",
        "             tflite_filename='model_lite1.tflite',\n",
        "             label_filename='model_lite1-labels.txt',\n",
        "             export_format=[ExportFormat.TFLITE, ExportFormat.LABEL])"
      ],
      "execution_count": null,
      "outputs": []
    },
    {
      "cell_type": "markdown",
      "metadata": {
        "id": "7aOCoKtXF3MF"
      },
      "source": [
        "**EfficientDet-Lite2**"
      ]
    },
    {
      "cell_type": "code",
      "metadata": {
        "colab": {
          "base_uri": "https://localhost:8080/"
        },
        "id": "5djIQPr7F_iq",
        "outputId": "b45ac841-9eb0-47dd-a55d-9edcb94a8879"
      },
      "source": [
        "# Choose the object detection model architecture\n",
        "spec = object_detector.EfficientDetLite2Spec()\n",
        "\n",
        "# Train the model\n",
        "model_lite2 = object_detector.create(train_data=train_data, model_spec=spec, validation_data=val_data, batch_size=8, train_whole_model=True)"
      ],
      "execution_count": null,
      "outputs": [
        {
          "output_type": "stream",
          "name": "stdout",
          "text": [
            "Epoch 1/50\n",
            "12/12 [==============================] - 68s 2s/step - det_loss: 2.1144 - cls_loss: 1.3493 - box_loss: 0.0153 - reg_l2_loss: 0.0782 - loss: 2.1926 - learning_rate: 0.0090 - gradient_norm: 1.5039 - val_det_loss: 2.0255 - val_cls_loss: 1.3333 - val_box_loss: 0.0138 - val_reg_l2_loss: 0.0782 - val_loss: 2.1037\n",
            "Epoch 2/50\n",
            "12/12 [==============================] - 15s 1s/step - det_loss: 2.0865 - cls_loss: 1.3625 - box_loss: 0.0145 - reg_l2_loss: 0.0782 - loss: 2.1647 - learning_rate: 0.0100 - gradient_norm: 1.6573 - val_det_loss: 1.9846 - val_cls_loss: 1.3252 - val_box_loss: 0.0132 - val_reg_l2_loss: 0.0782 - val_loss: 2.0628\n",
            "Epoch 3/50\n",
            "12/12 [==============================] - 15s 1s/step - det_loss: 2.0057 - cls_loss: 1.3394 - box_loss: 0.0133 - reg_l2_loss: 0.0782 - loss: 2.0839 - learning_rate: 0.0099 - gradient_norm: 2.0190 - val_det_loss: 1.9615 - val_cls_loss: 1.3212 - val_box_loss: 0.0128 - val_reg_l2_loss: 0.0782 - val_loss: 2.0397\n",
            "Epoch 4/50\n",
            "12/12 [==============================] - 15s 1s/step - det_loss: 1.9656 - cls_loss: 1.3196 - box_loss: 0.0129 - reg_l2_loss: 0.0782 - loss: 2.0438 - learning_rate: 0.0099 - gradient_norm: 2.6656 - val_det_loss: 1.9387 - val_cls_loss: 1.3217 - val_box_loss: 0.0123 - val_reg_l2_loss: 0.0782 - val_loss: 2.0169\n",
            "Epoch 5/50\n",
            "12/12 [==============================] - 15s 1s/step - det_loss: 1.9406 - cls_loss: 1.3131 - box_loss: 0.0126 - reg_l2_loss: 0.0782 - loss: 2.0188 - learning_rate: 0.0098 - gradient_norm: 3.4202 - val_det_loss: 1.9027 - val_cls_loss: 1.3160 - val_box_loss: 0.0117 - val_reg_l2_loss: 0.0782 - val_loss: 1.9809\n",
            "Epoch 6/50\n",
            "12/12 [==============================] - 15s 1s/step - det_loss: 1.8064 - cls_loss: 1.3055 - box_loss: 0.0100 - reg_l2_loss: 0.0782 - loss: 1.8847 - learning_rate: 0.0097 - gradient_norm: 3.9215 - val_det_loss: 2.0258 - val_cls_loss: 1.3273 - val_box_loss: 0.0140 - val_reg_l2_loss: 0.0782 - val_loss: 2.1040\n",
            "Epoch 7/50\n",
            "12/12 [==============================] - 15s 1s/step - det_loss: 1.7968 - cls_loss: 1.2588 - box_loss: 0.0108 - reg_l2_loss: 0.0783 - loss: 1.8751 - learning_rate: 0.0096 - gradient_norm: 4.3253 - val_det_loss: 2.0138 - val_cls_loss: 1.3266 - val_box_loss: 0.0137 - val_reg_l2_loss: 0.0783 - val_loss: 2.0921\n",
            "Epoch 8/50\n",
            "12/12 [==============================] - 15s 1s/step - det_loss: 1.6857 - cls_loss: 1.2240 - box_loss: 0.0092 - reg_l2_loss: 0.0783 - loss: 1.7640 - learning_rate: 0.0094 - gradient_norm: 3.6522 - val_det_loss: 1.9670 - val_cls_loss: 1.3199 - val_box_loss: 0.0129 - val_reg_l2_loss: 0.0783 - val_loss: 2.0453\n",
            "Epoch 9/50\n",
            "12/12 [==============================] - 15s 1s/step - det_loss: 1.6188 - cls_loss: 1.1774 - box_loss: 0.0088 - reg_l2_loss: 0.0783 - loss: 1.6971 - learning_rate: 0.0093 - gradient_norm: 4.1919 - val_det_loss: 1.8504 - val_cls_loss: 1.3218 - val_box_loss: 0.0106 - val_reg_l2_loss: 0.0784 - val_loss: 1.9287\n",
            "Epoch 10/50\n",
            "12/12 [==============================] - 15s 1s/step - det_loss: 1.5555 - cls_loss: 1.1172 - box_loss: 0.0088 - reg_l2_loss: 0.0784 - loss: 1.6339 - learning_rate: 0.0091 - gradient_norm: 4.2162 - val_det_loss: 1.9899 - val_cls_loss: 1.3841 - val_box_loss: 0.0121 - val_reg_l2_loss: 0.0784 - val_loss: 2.0683\n",
            "Epoch 11/50\n",
            "12/12 [==============================] - 15s 1s/step - det_loss: 1.5239 - cls_loss: 1.0819 - box_loss: 0.0088 - reg_l2_loss: 0.0784 - loss: 1.6024 - learning_rate: 0.0089 - gradient_norm: 5.7524 - val_det_loss: 1.9021 - val_cls_loss: 1.3169 - val_box_loss: 0.0117 - val_reg_l2_loss: 0.0784 - val_loss: 1.9805\n",
            "Epoch 12/50\n",
            "12/12 [==============================] - 15s 1s/step - det_loss: 1.4172 - cls_loss: 0.9956 - box_loss: 0.0084 - reg_l2_loss: 0.0785 - loss: 1.4957 - learning_rate: 0.0087 - gradient_norm: 4.9467 - val_det_loss: 1.8237 - val_cls_loss: 1.3207 - val_box_loss: 0.0101 - val_reg_l2_loss: 0.0785 - val_loss: 1.9022\n",
            "Epoch 13/50\n",
            "12/12 [==============================] - 15s 1s/step - det_loss: 1.3798 - cls_loss: 0.9126 - box_loss: 0.0093 - reg_l2_loss: 0.0785 - loss: 1.4584 - learning_rate: 0.0085 - gradient_norm: 6.6895 - val_det_loss: 1.9101 - val_cls_loss: 1.3649 - val_box_loss: 0.0109 - val_reg_l2_loss: 0.0786 - val_loss: 1.9886\n",
            "Epoch 14/50\n",
            "12/12 [==============================] - 15s 1s/step - det_loss: 1.3122 - cls_loss: 0.8990 - box_loss: 0.0083 - reg_l2_loss: 0.0786 - loss: 1.3908 - learning_rate: 0.0082 - gradient_norm: 5.2565 - val_det_loss: 1.9556 - val_cls_loss: 1.3760 - val_box_loss: 0.0116 - val_reg_l2_loss: 0.0786 - val_loss: 2.0343\n",
            "Epoch 15/50\n",
            "12/12 [==============================] - 15s 1s/step - det_loss: 1.1810 - cls_loss: 0.8236 - box_loss: 0.0071 - reg_l2_loss: 0.0787 - loss: 1.2597 - learning_rate: 0.0080 - gradient_norm: 4.8175 - val_det_loss: 1.9847 - val_cls_loss: 1.3102 - val_box_loss: 0.0135 - val_reg_l2_loss: 0.0787 - val_loss: 2.0634\n",
            "Epoch 16/50\n",
            "12/12 [==============================] - 15s 1s/step - det_loss: 1.2002 - cls_loss: 0.7983 - box_loss: 0.0080 - reg_l2_loss: 0.0787 - loss: 1.2789 - learning_rate: 0.0077 - gradient_norm: 5.0260 - val_det_loss: 1.8789 - val_cls_loss: 1.3331 - val_box_loss: 0.0109 - val_reg_l2_loss: 0.0787 - val_loss: 1.9577\n",
            "Epoch 17/50\n",
            "12/12 [==============================] - 15s 1s/step - det_loss: 1.0806 - cls_loss: 0.7464 - box_loss: 0.0067 - reg_l2_loss: 0.0787 - loss: 1.1593 - learning_rate: 0.0075 - gradient_norm: 5.4338 - val_det_loss: 1.7879 - val_cls_loss: 1.2537 - val_box_loss: 0.0107 - val_reg_l2_loss: 0.0788 - val_loss: 1.8667\n",
            "Epoch 18/50\n",
            "12/12 [==============================] - 16s 1s/step - det_loss: 1.1800 - cls_loss: 0.7647 - box_loss: 0.0083 - reg_l2_loss: 0.0788 - loss: 1.2588 - learning_rate: 0.0072 - gradient_norm: 6.2172 - val_det_loss: 1.7721 - val_cls_loss: 1.2277 - val_box_loss: 0.0109 - val_reg_l2_loss: 0.0788 - val_loss: 1.8509\n",
            "Epoch 19/50\n",
            "12/12 [==============================] - 15s 1s/step - det_loss: 1.0872 - cls_loss: 0.7568 - box_loss: 0.0066 - reg_l2_loss: 0.0788 - loss: 1.1660 - learning_rate: 0.0069 - gradient_norm: 5.2256 - val_det_loss: 1.7334 - val_cls_loss: 1.2047 - val_box_loss: 0.0106 - val_reg_l2_loss: 0.0789 - val_loss: 1.8122\n",
            "Epoch 20/50\n",
            "12/12 [==============================] - 15s 1s/step - det_loss: 1.0634 - cls_loss: 0.7477 - box_loss: 0.0063 - reg_l2_loss: 0.0789 - loss: 1.1422 - learning_rate: 0.0066 - gradient_norm: 4.9087 - val_det_loss: 1.7378 - val_cls_loss: 1.2272 - val_box_loss: 0.0102 - val_reg_l2_loss: 0.0789 - val_loss: 1.8167\n",
            "Epoch 21/50\n",
            "12/12 [==============================] - 14s 1s/step - det_loss: 1.0075 - cls_loss: 0.6872 - box_loss: 0.0064 - reg_l2_loss: 0.0789 - loss: 1.0864 - learning_rate: 0.0063 - gradient_norm: 5.2778 - val_det_loss: 1.6930 - val_cls_loss: 1.2045 - val_box_loss: 0.0098 - val_reg_l2_loss: 0.0789 - val_loss: 1.7719\n",
            "Epoch 22/50\n",
            "12/12 [==============================] - 15s 1s/step - det_loss: 0.9486 - cls_loss: 0.6726 - box_loss: 0.0055 - reg_l2_loss: 0.0789 - loss: 1.0276 - learning_rate: 0.0060 - gradient_norm: 4.3534 - val_det_loss: 1.6825 - val_cls_loss: 1.2299 - val_box_loss: 0.0091 - val_reg_l2_loss: 0.0789 - val_loss: 1.7614\n",
            "Epoch 23/50\n",
            "12/12 [==============================] - 15s 1s/step - det_loss: 0.9882 - cls_loss: 0.6807 - box_loss: 0.0062 - reg_l2_loss: 0.0789 - loss: 1.0672 - learning_rate: 0.0056 - gradient_norm: 5.8654 - val_det_loss: 1.6791 - val_cls_loss: 1.1881 - val_box_loss: 0.0098 - val_reg_l2_loss: 0.0790 - val_loss: 1.7580\n",
            "Epoch 24/50\n",
            "12/12 [==============================] - 15s 1s/step - det_loss: 0.9622 - cls_loss: 0.6328 - box_loss: 0.0066 - reg_l2_loss: 0.0790 - loss: 1.0411 - learning_rate: 0.0053 - gradient_norm: 6.1404 - val_det_loss: 1.6193 - val_cls_loss: 1.1497 - val_box_loss: 0.0094 - val_reg_l2_loss: 0.0790 - val_loss: 1.6983\n",
            "Epoch 25/50\n",
            "12/12 [==============================] - 15s 1s/step - det_loss: 0.9890 - cls_loss: 0.6723 - box_loss: 0.0063 - reg_l2_loss: 0.0790 - loss: 1.0680 - learning_rate: 0.0050 - gradient_norm: 6.3478 - val_det_loss: 1.5594 - val_cls_loss: 1.0800 - val_box_loss: 0.0096 - val_reg_l2_loss: 0.0790 - val_loss: 1.6384\n",
            "Epoch 26/50\n",
            "12/12 [==============================] - 15s 1s/step - det_loss: 0.9191 - cls_loss: 0.6407 - box_loss: 0.0056 - reg_l2_loss: 0.0790 - loss: 0.9982 - learning_rate: 0.0047 - gradient_norm: 4.5046 - val_det_loss: 1.5308 - val_cls_loss: 1.0919 - val_box_loss: 0.0088 - val_reg_l2_loss: 0.0790 - val_loss: 1.6098\n",
            "Epoch 27/50\n",
            "12/12 [==============================] - 15s 1s/step - det_loss: 0.8871 - cls_loss: 0.5947 - box_loss: 0.0058 - reg_l2_loss: 0.0790 - loss: 0.9661 - learning_rate: 0.0044 - gradient_norm: 4.7986 - val_det_loss: 1.5709 - val_cls_loss: 1.0736 - val_box_loss: 0.0099 - val_reg_l2_loss: 0.0790 - val_loss: 1.6499\n",
            "Epoch 28/50\n",
            "12/12 [==============================] - 16s 1s/step - det_loss: 0.8926 - cls_loss: 0.5879 - box_loss: 0.0061 - reg_l2_loss: 0.0790 - loss: 0.9717 - learning_rate: 0.0040 - gradient_norm: 4.8175 - val_det_loss: 1.4962 - val_cls_loss: 1.0361 - val_box_loss: 0.0092 - val_reg_l2_loss: 0.0790 - val_loss: 1.5753\n",
            "Epoch 29/50\n",
            "12/12 [==============================] - 16s 1s/step - det_loss: 0.8872 - cls_loss: 0.6125 - box_loss: 0.0055 - reg_l2_loss: 0.0791 - loss: 0.9662 - learning_rate: 0.0037 - gradient_norm: 4.2712 - val_det_loss: 1.5131 - val_cls_loss: 1.0542 - val_box_loss: 0.0092 - val_reg_l2_loss: 0.0791 - val_loss: 1.5922\n",
            "Epoch 30/50\n",
            "12/12 [==============================] - 16s 1s/step - det_loss: 0.8942 - cls_loss: 0.6097 - box_loss: 0.0057 - reg_l2_loss: 0.0791 - loss: 0.9733 - learning_rate: 0.0034 - gradient_norm: 4.6630 - val_det_loss: 1.5316 - val_cls_loss: 1.0623 - val_box_loss: 0.0094 - val_reg_l2_loss: 0.0791 - val_loss: 1.6107\n",
            "Epoch 31/50\n",
            "12/12 [==============================] - 15s 1s/step - det_loss: 0.8550 - cls_loss: 0.5804 - box_loss: 0.0055 - reg_l2_loss: 0.0791 - loss: 0.9340 - learning_rate: 0.0031 - gradient_norm: 4.9990 - val_det_loss: 1.5097 - val_cls_loss: 1.0508 - val_box_loss: 0.0092 - val_reg_l2_loss: 0.0791 - val_loss: 1.5888\n",
            "Epoch 32/50\n",
            "12/12 [==============================] - 15s 1s/step - det_loss: 0.7940 - cls_loss: 0.5418 - box_loss: 0.0050 - reg_l2_loss: 0.0791 - loss: 0.8730 - learning_rate: 0.0028 - gradient_norm: 4.1790 - val_det_loss: 1.4747 - val_cls_loss: 1.0185 - val_box_loss: 0.0091 - val_reg_l2_loss: 0.0791 - val_loss: 1.5538\n",
            "Epoch 33/50\n",
            "12/12 [==============================] - 15s 1s/step - det_loss: 0.7579 - cls_loss: 0.5236 - box_loss: 0.0047 - reg_l2_loss: 0.0791 - loss: 0.8370 - learning_rate: 0.0025 - gradient_norm: 4.6528 - val_det_loss: 1.4587 - val_cls_loss: 1.0026 - val_box_loss: 0.0091 - val_reg_l2_loss: 0.0791 - val_loss: 1.5378\n",
            "Epoch 34/50\n",
            "12/12 [==============================] - 15s 1s/step - det_loss: 0.8076 - cls_loss: 0.5409 - box_loss: 0.0053 - reg_l2_loss: 0.0791 - loss: 0.8867 - learning_rate: 0.0023 - gradient_norm: 4.3164 - val_det_loss: 1.4637 - val_cls_loss: 1.0078 - val_box_loss: 0.0091 - val_reg_l2_loss: 0.0791 - val_loss: 1.5427\n",
            "Epoch 35/50\n",
            "12/12 [==============================] - 15s 1s/step - det_loss: 0.8277 - cls_loss: 0.5764 - box_loss: 0.0050 - reg_l2_loss: 0.0791 - loss: 0.9068 - learning_rate: 0.0020 - gradient_norm: 4.6452 - val_det_loss: 1.4442 - val_cls_loss: 0.9897 - val_box_loss: 0.0091 - val_reg_l2_loss: 0.0791 - val_loss: 1.5233\n",
            "Epoch 36/50\n",
            "12/12 [==============================] - 15s 1s/step - det_loss: 0.7873 - cls_loss: 0.5545 - box_loss: 0.0047 - reg_l2_loss: 0.0791 - loss: 0.8663 - learning_rate: 0.0018 - gradient_norm: 4.2337 - val_det_loss: 1.4484 - val_cls_loss: 0.9885 - val_box_loss: 0.0092 - val_reg_l2_loss: 0.0791 - val_loss: 1.5275\n",
            "Epoch 37/50\n",
            "12/12 [==============================] - 15s 1s/step - det_loss: 0.7525 - cls_loss: 0.5324 - box_loss: 0.0044 - reg_l2_loss: 0.0791 - loss: 0.8316 - learning_rate: 0.0015 - gradient_norm: 4.1411 - val_det_loss: 1.4557 - val_cls_loss: 1.0003 - val_box_loss: 0.0091 - val_reg_l2_loss: 0.0791 - val_loss: 1.5348\n",
            "Epoch 38/50\n",
            "12/12 [==============================] - 16s 1s/step - det_loss: 0.7104 - cls_loss: 0.5073 - box_loss: 0.0041 - reg_l2_loss: 0.0791 - loss: 0.7895 - learning_rate: 0.0013 - gradient_norm: 3.7895 - val_det_loss: 1.4675 - val_cls_loss: 1.0028 - val_box_loss: 0.0093 - val_reg_l2_loss: 0.0791 - val_loss: 1.5466\n",
            "Epoch 39/50\n",
            "12/12 [==============================] - 16s 1s/step - det_loss: 0.7430 - cls_loss: 0.5119 - box_loss: 0.0046 - reg_l2_loss: 0.0791 - loss: 0.8221 - learning_rate: 0.0011 - gradient_norm: 4.4955 - val_det_loss: 1.4528 - val_cls_loss: 0.9927 - val_box_loss: 0.0092 - val_reg_l2_loss: 0.0791 - val_loss: 1.5319\n",
            "Epoch 40/50\n",
            "12/12 [==============================] - 16s 1s/step - det_loss: 0.7140 - cls_loss: 0.4995 - box_loss: 0.0043 - reg_l2_loss: 0.0791 - loss: 0.7931 - learning_rate: 9.0108e-04 - gradient_norm: 4.2242 - val_det_loss: 1.4510 - val_cls_loss: 0.9907 - val_box_loss: 0.0092 - val_reg_l2_loss: 0.0791 - val_loss: 1.5301\n",
            "Epoch 41/50\n",
            "12/12 [==============================] - 15s 1s/step - det_loss: 0.7106 - cls_loss: 0.5104 - box_loss: 0.0040 - reg_l2_loss: 0.0791 - loss: 0.7897 - learning_rate: 7.2615e-04 - gradient_norm: 4.4792 - val_det_loss: 1.4466 - val_cls_loss: 0.9942 - val_box_loss: 0.0090 - val_reg_l2_loss: 0.0791 - val_loss: 1.5257\n",
            "Epoch 42/50\n",
            "12/12 [==============================] - 15s 1s/step - det_loss: 0.7025 - cls_loss: 0.4943 - box_loss: 0.0042 - reg_l2_loss: 0.0791 - loss: 0.7816 - learning_rate: 5.6879e-04 - gradient_norm: 4.4168 - val_det_loss: 1.4506 - val_cls_loss: 0.9942 - val_box_loss: 0.0091 - val_reg_l2_loss: 0.0791 - val_loss: 1.5296\n",
            "Epoch 43/50\n",
            "12/12 [==============================] - 15s 1s/step - det_loss: 0.7222 - cls_loss: 0.5109 - box_loss: 0.0042 - reg_l2_loss: 0.0791 - loss: 0.8013 - learning_rate: 4.2963e-04 - gradient_norm: 4.6191 - val_det_loss: 1.4525 - val_cls_loss: 0.9940 - val_box_loss: 0.0092 - val_reg_l2_loss: 0.0791 - val_loss: 1.5316\n",
            "Epoch 44/50\n",
            "12/12 [==============================] - 15s 1s/step - det_loss: 0.7012 - cls_loss: 0.5018 - box_loss: 0.0040 - reg_l2_loss: 0.0791 - loss: 0.7803 - learning_rate: 3.0925e-04 - gradient_norm: 3.9163 - val_det_loss: 1.4518 - val_cls_loss: 0.9956 - val_box_loss: 0.0091 - val_reg_l2_loss: 0.0791 - val_loss: 1.5309\n",
            "Epoch 45/50\n",
            "12/12 [==============================] - 15s 1s/step - det_loss: 0.6537 - cls_loss: 0.4739 - box_loss: 0.0036 - reg_l2_loss: 0.0791 - loss: 0.7328 - learning_rate: 2.0814e-04 - gradient_norm: 3.5360 - val_det_loss: 1.4475 - val_cls_loss: 0.9947 - val_box_loss: 0.0091 - val_reg_l2_loss: 0.0791 - val_loss: 1.5266\n",
            "Epoch 46/50\n",
            "12/12 [==============================] - 15s 1s/step - det_loss: 0.6973 - cls_loss: 0.4958 - box_loss: 0.0040 - reg_l2_loss: 0.0791 - loss: 0.7764 - learning_rate: 1.2673e-04 - gradient_norm: 4.0476 - val_det_loss: 1.4439 - val_cls_loss: 0.9949 - val_box_loss: 0.0090 - val_reg_l2_loss: 0.0791 - val_loss: 1.5230\n",
            "Epoch 47/50\n",
            "12/12 [==============================] - 15s 1s/step - det_loss: 0.6931 - cls_loss: 0.4961 - box_loss: 0.0039 - reg_l2_loss: 0.0791 - loss: 0.7722 - learning_rate: 6.5345e-05 - gradient_norm: 4.1335 - val_det_loss: 1.4420 - val_cls_loss: 0.9950 - val_box_loss: 0.0089 - val_reg_l2_loss: 0.0791 - val_loss: 1.5211\n",
            "Epoch 48/50\n",
            "12/12 [==============================] - 15s 1s/step - det_loss: 0.7275 - cls_loss: 0.5304 - box_loss: 0.0039 - reg_l2_loss: 0.0791 - loss: 0.8066 - learning_rate: 2.4236e-05 - gradient_norm: 3.9525 - val_det_loss: 1.4417 - val_cls_loss: 0.9966 - val_box_loss: 0.0089 - val_reg_l2_loss: 0.0791 - val_loss: 1.5208\n",
            "Epoch 49/50\n",
            "12/12 [==============================] - 15s 1s/step - det_loss: 0.7095 - cls_loss: 0.5184 - box_loss: 0.0038 - reg_l2_loss: 0.0791 - loss: 0.7886 - learning_rate: 3.5729e-06 - gradient_norm: 3.7616 - val_det_loss: 1.4425 - val_cls_loss: 0.9985 - val_box_loss: 0.0089 - val_reg_l2_loss: 0.0791 - val_loss: 1.5216\n",
            "Epoch 50/50\n",
            "12/12 [==============================] - 15s 1s/step - det_loss: 0.7777 - cls_loss: 0.5534 - box_loss: 0.0045 - reg_l2_loss: 0.0791 - loss: 0.8568 - learning_rate: 3.4413e-06 - gradient_norm: 4.5448 - val_det_loss: 1.4448 - val_cls_loss: 0.9997 - val_box_loss: 0.0089 - val_reg_l2_loss: 0.0791 - val_loss: 1.5239\n"
          ]
        }
      ]
    },
    {
      "cell_type": "code",
      "metadata": {
        "id": "3bpz4qHlw5MX",
        "colab": {
          "base_uri": "https://localhost:8080/"
        },
        "outputId": "3889d2e9-9d31-472a-ea7c-37755a1a24b8"
      },
      "source": [
        "# Evaluate the model \n",
        "model_lite2.evaluate(test_data)"
      ],
      "execution_count": null,
      "outputs": [
        {
          "output_type": "stream",
          "name": "stdout",
          "text": [
            "\r1/1 [==============================] - 11s 11s/step\n",
            "\n"
          ]
        },
        {
          "output_type": "execute_result",
          "data": {
            "text/plain": [
              "{'AP': 0.20116763,\n",
              " 'AP50': 0.35209695,\n",
              " 'AP75': 0.19949001,\n",
              " 'AP_/1': 0.73333335,\n",
              " 'AP_/10': 0.07293909,\n",
              " 'AP_/14111': 0.0,\n",
              " 'AP_/14131': 0.0,\n",
              " 'AP_/14141': 0.0,\n",
              " 'AP_/16': 0.26930693,\n",
              " 'AP_/23': 0.225,\n",
              " 'AP_/24': 0.14992929,\n",
              " 'AP_/28': 0.36,\n",
              " 'AP_/29': 0.0,\n",
              " 'AP_/30': 0.0,\n",
              " 'AP_/33': 0.0,\n",
              " 'AP_/34': 0.0,\n",
              " 'AP_/4': 0.0,\n",
              " 'AP_/5': 0.0,\n",
              " 'APl': 0.2750511,\n",
              " 'APm': 0.047805496,\n",
              " 'APs': -1.0,\n",
              " 'ARl': 0.40555555,\n",
              " 'ARm': 0.1,\n",
              " 'ARmax1': 0.26962963,\n",
              " 'ARmax10': 0.34296295,\n",
              " 'ARmax100': 0.34407407,\n",
              " 'ARs': -1.0}"
            ]
          },
          "metadata": {},
          "execution_count": 13
        }
      ]
    },
    {
      "cell_type": "code",
      "metadata": {
        "id": "osx9s5O_M_my"
      },
      "source": [
        "# Export the model\n",
        "model_lite2.export(export_dir='/content',\n",
        "             tflite_filename='model_lite2.tflite',\n",
        "             label_filename='model_lite2-labels.txt',\n",
        "             export_format=[ExportFormat.TFLITE, ExportFormat.LABEL])"
      ],
      "execution_count": null,
      "outputs": []
    },
    {
      "cell_type": "markdown",
      "metadata": {
        "id": "0XY3GEgDGgpS"
      },
      "source": [
        "**EfficientDet-Lite3**"
      ]
    },
    {
      "cell_type": "code",
      "metadata": {
        "colab": {
          "base_uri": "https://localhost:8080/"
        },
        "id": "ERKWJaB4GjFD",
        "outputId": "922ed4ee-4e7a-46f4-f115-87217c894cc7"
      },
      "source": [
        "# Choose the object detection model architecture\n",
        "spec = object_detector.EfficientDetLite3Spec()\n",
        "\n",
        "# Train the model\n",
        "model_lite3 = object_detector.create(train_data=train_data, model_spec=spec, validation_data=val_data, batch_size=8, train_whole_model=True)"
      ],
      "execution_count": null,
      "outputs": [
        {
          "output_type": "stream",
          "name": "stdout",
          "text": [
            "Epoch 1/50\n",
            "12/12 [==============================] - 86s 2s/step - det_loss: 2.0739 - cls_loss: 1.3179 - box_loss: 0.0151 - reg_l2_loss: 0.0949 - loss: 2.1687 - learning_rate: 0.0090 - gradient_norm: 1.1736 - val_det_loss: 1.9253 - val_cls_loss: 1.2985 - val_box_loss: 0.0125 - val_reg_l2_loss: 0.0949 - val_loss: 2.0202\n",
            "Epoch 2/50\n",
            "12/12 [==============================] - 22s 2s/step - det_loss: 2.0338 - cls_loss: 1.3213 - box_loss: 0.0143 - reg_l2_loss: 0.0949 - loss: 2.1287 - learning_rate: 0.0100 - gradient_norm: 1.3204 - val_det_loss: 1.8967 - val_cls_loss: 1.3001 - val_box_loss: 0.0119 - val_reg_l2_loss: 0.0949 - val_loss: 1.9916\n",
            "Epoch 3/50\n",
            "12/12 [==============================] - 22s 2s/step - det_loss: 1.9854 - cls_loss: 1.3141 - box_loss: 0.0134 - reg_l2_loss: 0.0949 - loss: 2.0802 - learning_rate: 0.0099 - gradient_norm: 1.6296 - val_det_loss: 1.8604 - val_cls_loss: 1.3016 - val_box_loss: 0.0112 - val_reg_l2_loss: 0.0949 - val_loss: 1.9553\n",
            "Epoch 4/50\n",
            "12/12 [==============================] - 22s 2s/step - det_loss: 1.8941 - cls_loss: 1.2850 - box_loss: 0.0122 - reg_l2_loss: 0.0949 - loss: 1.9890 - learning_rate: 0.0099 - gradient_norm: 2.2363 - val_det_loss: 1.8304 - val_cls_loss: 1.2979 - val_box_loss: 0.0107 - val_reg_l2_loss: 0.0949 - val_loss: 1.9253\n",
            "Epoch 5/50\n",
            "12/12 [==============================] - 22s 2s/step - det_loss: 1.8451 - cls_loss: 1.2756 - box_loss: 0.0114 - reg_l2_loss: 0.0949 - loss: 1.9400 - learning_rate: 0.0098 - gradient_norm: 2.5499 - val_det_loss: 1.7867 - val_cls_loss: 1.2999 - val_box_loss: 0.0097 - val_reg_l2_loss: 0.0949 - val_loss: 1.8816\n",
            "Epoch 6/50\n",
            "12/12 [==============================] - 22s 2s/step - det_loss: 1.7877 - cls_loss: 1.2447 - box_loss: 0.0109 - reg_l2_loss: 0.0949 - loss: 1.8826 - learning_rate: 0.0097 - gradient_norm: 3.3504 - val_det_loss: 1.7952 - val_cls_loss: 1.3149 - val_box_loss: 0.0096 - val_reg_l2_loss: 0.0949 - val_loss: 1.8901\n",
            "Epoch 7/50\n",
            "12/12 [==============================] - 22s 2s/step - det_loss: 1.6715 - cls_loss: 1.2013 - box_loss: 0.0094 - reg_l2_loss: 0.0949 - loss: 1.7664 - learning_rate: 0.0096 - gradient_norm: 4.3192 - val_det_loss: 1.7474 - val_cls_loss: 1.2978 - val_box_loss: 0.0090 - val_reg_l2_loss: 0.0949 - val_loss: 1.8424\n",
            "Epoch 8/50\n",
            "12/12 [==============================] - 22s 2s/step - det_loss: 1.5082 - cls_loss: 1.1166 - box_loss: 0.0078 - reg_l2_loss: 0.0950 - loss: 1.6032 - learning_rate: 0.0094 - gradient_norm: 4.8211 - val_det_loss: 1.8458 - val_cls_loss: 1.3399 - val_box_loss: 0.0101 - val_reg_l2_loss: 0.0950 - val_loss: 1.9407\n",
            "Epoch 9/50\n",
            "12/12 [==============================] - 22s 2s/step - det_loss: 1.4306 - cls_loss: 1.0294 - box_loss: 0.0080 - reg_l2_loss: 0.0950 - loss: 1.5256 - learning_rate: 0.0093 - gradient_norm: 4.8471 - val_det_loss: 1.7792 - val_cls_loss: 1.3487 - val_box_loss: 0.0086 - val_reg_l2_loss: 0.0950 - val_loss: 1.8743\n",
            "Epoch 10/50\n",
            "12/12 [==============================] - 23s 2s/step - det_loss: 1.3629 - cls_loss: 0.9927 - box_loss: 0.0074 - reg_l2_loss: 0.0951 - loss: 1.4579 - learning_rate: 0.0091 - gradient_norm: 5.2749 - val_det_loss: 1.8388 - val_cls_loss: 1.3348 - val_box_loss: 0.0101 - val_reg_l2_loss: 0.0951 - val_loss: 1.9339\n",
            "Epoch 11/50\n",
            "12/12 [==============================] - 22s 2s/step - det_loss: 1.3067 - cls_loss: 0.9269 - box_loss: 0.0076 - reg_l2_loss: 0.0951 - loss: 1.4018 - learning_rate: 0.0089 - gradient_norm: 4.8470 - val_det_loss: 1.7859 - val_cls_loss: 1.2991 - val_box_loss: 0.0097 - val_reg_l2_loss: 0.0951 - val_loss: 1.8810\n",
            "Epoch 12/50\n",
            "12/12 [==============================] - 22s 2s/step - det_loss: 1.2247 - cls_loss: 0.8545 - box_loss: 0.0074 - reg_l2_loss: 0.0952 - loss: 1.3198 - learning_rate: 0.0087 - gradient_norm: 5.4394 - val_det_loss: 1.7578 - val_cls_loss: 1.2502 - val_box_loss: 0.0102 - val_reg_l2_loss: 0.0952 - val_loss: 1.8530\n",
            "Epoch 13/50\n",
            "12/12 [==============================] - 23s 2s/step - det_loss: 1.1984 - cls_loss: 0.8412 - box_loss: 0.0071 - reg_l2_loss: 0.0952 - loss: 1.2936 - learning_rate: 0.0085 - gradient_norm: 5.6483 - val_det_loss: 1.7155 - val_cls_loss: 1.2286 - val_box_loss: 0.0097 - val_reg_l2_loss: 0.0953 - val_loss: 1.8108\n",
            "Epoch 14/50\n",
            "12/12 [==============================] - 22s 2s/step - det_loss: 1.0718 - cls_loss: 0.7648 - box_loss: 0.0061 - reg_l2_loss: 0.0953 - loss: 1.1671 - learning_rate: 0.0082 - gradient_norm: 4.6135 - val_det_loss: 1.6581 - val_cls_loss: 1.2155 - val_box_loss: 0.0089 - val_reg_l2_loss: 0.0953 - val_loss: 1.7534\n",
            "Epoch 15/50\n",
            "12/12 [==============================] - 22s 2s/step - det_loss: 1.0172 - cls_loss: 0.7311 - box_loss: 0.0057 - reg_l2_loss: 0.0953 - loss: 1.1125 - learning_rate: 0.0080 - gradient_norm: 4.7392 - val_det_loss: 1.6574 - val_cls_loss: 1.2082 - val_box_loss: 0.0090 - val_reg_l2_loss: 0.0953 - val_loss: 1.7527\n",
            "Epoch 16/50\n",
            "12/12 [==============================] - 22s 2s/step - det_loss: 0.9270 - cls_loss: 0.6691 - box_loss: 0.0052 - reg_l2_loss: 0.0954 - loss: 1.0223 - learning_rate: 0.0077 - gradient_norm: 4.5274 - val_det_loss: 1.6599 - val_cls_loss: 1.1695 - val_box_loss: 0.0098 - val_reg_l2_loss: 0.0954 - val_loss: 1.7552\n",
            "Epoch 17/50\n",
            "12/12 [==============================] - 22s 2s/step - det_loss: 1.0171 - cls_loss: 0.7149 - box_loss: 0.0060 - reg_l2_loss: 0.0954 - loss: 1.1125 - learning_rate: 0.0075 - gradient_norm: 4.5550 - val_det_loss: 1.7186 - val_cls_loss: 1.2239 - val_box_loss: 0.0099 - val_reg_l2_loss: 0.0954 - val_loss: 1.8140\n",
            "Epoch 18/50\n",
            "12/12 [==============================] - 22s 2s/step - det_loss: 1.0244 - cls_loss: 0.7153 - box_loss: 0.0062 - reg_l2_loss: 0.0954 - loss: 1.1199 - learning_rate: 0.0072 - gradient_norm: 6.0330 - val_det_loss: 1.6510 - val_cls_loss: 1.1915 - val_box_loss: 0.0092 - val_reg_l2_loss: 0.0954 - val_loss: 1.7464\n",
            "Epoch 19/50\n",
            "12/12 [==============================] - 22s 2s/step - det_loss: 0.9555 - cls_loss: 0.6929 - box_loss: 0.0053 - reg_l2_loss: 0.0955 - loss: 1.0510 - learning_rate: 0.0069 - gradient_norm: 4.3302 - val_det_loss: 1.5718 - val_cls_loss: 1.1033 - val_box_loss: 0.0094 - val_reg_l2_loss: 0.0955 - val_loss: 1.6672\n",
            "Epoch 20/50\n",
            "12/12 [==============================] - 23s 2s/step - det_loss: 0.8945 - cls_loss: 0.6438 - box_loss: 0.0050 - reg_l2_loss: 0.0955 - loss: 0.9900 - learning_rate: 0.0066 - gradient_norm: 4.4263 - val_det_loss: 1.5893 - val_cls_loss: 1.1013 - val_box_loss: 0.0098 - val_reg_l2_loss: 0.0955 - val_loss: 1.6848\n",
            "Epoch 21/50\n",
            "12/12 [==============================] - 22s 2s/step - det_loss: 0.9089 - cls_loss: 0.6434 - box_loss: 0.0053 - reg_l2_loss: 0.0955 - loss: 1.0044 - learning_rate: 0.0063 - gradient_norm: 5.5285 - val_det_loss: 1.5626 - val_cls_loss: 1.1098 - val_box_loss: 0.0091 - val_reg_l2_loss: 0.0955 - val_loss: 1.6582\n",
            "Epoch 22/50\n",
            "12/12 [==============================] - 22s 2s/step - det_loss: 0.8585 - cls_loss: 0.6103 - box_loss: 0.0050 - reg_l2_loss: 0.0955 - loss: 0.9540 - learning_rate: 0.0060 - gradient_norm: 4.7798 - val_det_loss: 1.5955 - val_cls_loss: 1.1412 - val_box_loss: 0.0091 - val_reg_l2_loss: 0.0955 - val_loss: 1.6910\n",
            "Epoch 23/50\n",
            "12/12 [==============================] - 22s 2s/step - det_loss: 0.8595 - cls_loss: 0.6209 - box_loss: 0.0048 - reg_l2_loss: 0.0956 - loss: 0.9551 - learning_rate: 0.0056 - gradient_norm: 3.9189 - val_det_loss: 1.6022 - val_cls_loss: 1.1258 - val_box_loss: 0.0095 - val_reg_l2_loss: 0.0956 - val_loss: 1.6978\n",
            "Epoch 24/50\n",
            "12/12 [==============================] - 22s 2s/step - det_loss: 0.8758 - cls_loss: 0.6220 - box_loss: 0.0051 - reg_l2_loss: 0.0956 - loss: 0.9714 - learning_rate: 0.0053 - gradient_norm: 5.9368 - val_det_loss: 1.5819 - val_cls_loss: 1.1161 - val_box_loss: 0.0093 - val_reg_l2_loss: 0.0956 - val_loss: 1.6775\n",
            "Epoch 25/50\n",
            "12/12 [==============================] - 22s 2s/step - det_loss: 0.8720 - cls_loss: 0.6379 - box_loss: 0.0047 - reg_l2_loss: 0.0956 - loss: 0.9676 - learning_rate: 0.0050 - gradient_norm: 4.3303 - val_det_loss: 1.6291 - val_cls_loss: 1.1338 - val_box_loss: 0.0099 - val_reg_l2_loss: 0.0956 - val_loss: 1.7247\n",
            "Epoch 26/50\n",
            "12/12 [==============================] - 22s 2s/step - det_loss: 0.8796 - cls_loss: 0.6326 - box_loss: 0.0049 - reg_l2_loss: 0.0956 - loss: 0.9752 - learning_rate: 0.0047 - gradient_norm: 4.8387 - val_det_loss: 1.5427 - val_cls_loss: 1.1271 - val_box_loss: 0.0083 - val_reg_l2_loss: 0.0956 - val_loss: 1.6383\n",
            "Epoch 27/50\n",
            "12/12 [==============================] - 22s 2s/step - det_loss: 0.8045 - cls_loss: 0.6021 - box_loss: 0.0040 - reg_l2_loss: 0.0956 - loss: 0.9001 - learning_rate: 0.0044 - gradient_norm: 4.2047 - val_det_loss: 1.6138 - val_cls_loss: 1.1396 - val_box_loss: 0.0095 - val_reg_l2_loss: 0.0956 - val_loss: 1.7095\n",
            "Epoch 28/50\n",
            "12/12 [==============================] - 22s 2s/step - det_loss: 0.7664 - cls_loss: 0.5552 - box_loss: 0.0042 - reg_l2_loss: 0.0956 - loss: 0.8621 - learning_rate: 0.0040 - gradient_norm: 4.4460 - val_det_loss: 1.5146 - val_cls_loss: 1.1021 - val_box_loss: 0.0082 - val_reg_l2_loss: 0.0956 - val_loss: 1.6102\n",
            "Epoch 29/50\n",
            "12/12 [==============================] - 22s 2s/step - det_loss: 0.8191 - cls_loss: 0.5848 - box_loss: 0.0047 - reg_l2_loss: 0.0956 - loss: 0.9147 - learning_rate: 0.0037 - gradient_norm: 4.8121 - val_det_loss: 1.5441 - val_cls_loss: 1.1206 - val_box_loss: 0.0085 - val_reg_l2_loss: 0.0956 - val_loss: 1.6397\n",
            "Epoch 30/50\n",
            "12/12 [==============================] - 22s 2s/step - det_loss: 0.7613 - cls_loss: 0.5484 - box_loss: 0.0043 - reg_l2_loss: 0.0956 - loss: 0.8569 - learning_rate: 0.0034 - gradient_norm: 3.8871 - val_det_loss: 1.5395 - val_cls_loss: 1.1052 - val_box_loss: 0.0087 - val_reg_l2_loss: 0.0956 - val_loss: 1.6352\n",
            "Epoch 31/50\n",
            "12/12 [==============================] - 22s 2s/step - det_loss: 0.7858 - cls_loss: 0.5772 - box_loss: 0.0042 - reg_l2_loss: 0.0956 - loss: 0.8815 - learning_rate: 0.0031 - gradient_norm: 4.4051 - val_det_loss: 1.5223 - val_cls_loss: 1.0916 - val_box_loss: 0.0086 - val_reg_l2_loss: 0.0956 - val_loss: 1.6179\n",
            "Epoch 32/50\n",
            "12/12 [==============================] - 23s 2s/step - det_loss: 0.7472 - cls_loss: 0.5502 - box_loss: 0.0039 - reg_l2_loss: 0.0956 - loss: 0.8429 - learning_rate: 0.0028 - gradient_norm: 3.9659 - val_det_loss: 1.5110 - val_cls_loss: 1.1016 - val_box_loss: 0.0082 - val_reg_l2_loss: 0.0956 - val_loss: 1.6066\n",
            "Epoch 33/50\n",
            "12/12 [==============================] - 22s 2s/step - det_loss: 0.7231 - cls_loss: 0.5347 - box_loss: 0.0038 - reg_l2_loss: 0.0956 - loss: 0.8188 - learning_rate: 0.0025 - gradient_norm: 3.7515 - val_det_loss: 1.4867 - val_cls_loss: 1.0944 - val_box_loss: 0.0078 - val_reg_l2_loss: 0.0956 - val_loss: 1.5824\n",
            "Epoch 34/50\n",
            "12/12 [==============================] - 22s 2s/step - det_loss: 0.6977 - cls_loss: 0.5116 - box_loss: 0.0037 - reg_l2_loss: 0.0956 - loss: 0.7933 - learning_rate: 0.0023 - gradient_norm: 3.2086 - val_det_loss: 1.4773 - val_cls_loss: 1.0873 - val_box_loss: 0.0078 - val_reg_l2_loss: 0.0956 - val_loss: 1.5730\n",
            "Epoch 35/50\n",
            "12/12 [==============================] - 22s 2s/step - det_loss: 0.7319 - cls_loss: 0.5444 - box_loss: 0.0037 - reg_l2_loss: 0.0956 - loss: 0.8275 - learning_rate: 0.0020 - gradient_norm: 3.9959 - val_det_loss: 1.4299 - val_cls_loss: 1.0589 - val_box_loss: 0.0074 - val_reg_l2_loss: 0.0957 - val_loss: 1.5256\n",
            "Epoch 36/50\n",
            "12/12 [==============================] - 22s 2s/step - det_loss: 0.7257 - cls_loss: 0.5403 - box_loss: 0.0037 - reg_l2_loss: 0.0957 - loss: 0.8214 - learning_rate: 0.0018 - gradient_norm: 3.5251 - val_det_loss: 1.4280 - val_cls_loss: 1.0428 - val_box_loss: 0.0077 - val_reg_l2_loss: 0.0957 - val_loss: 1.5237\n",
            "Epoch 37/50\n",
            "12/12 [==============================] - 22s 2s/step - det_loss: 0.6647 - cls_loss: 0.4995 - box_loss: 0.0033 - reg_l2_loss: 0.0957 - loss: 0.7604 - learning_rate: 0.0015 - gradient_norm: 3.6033 - val_det_loss: 1.4369 - val_cls_loss: 1.0424 - val_box_loss: 0.0079 - val_reg_l2_loss: 0.0957 - val_loss: 1.5325\n",
            "Epoch 38/50\n",
            "12/12 [==============================] - 22s 2s/step - det_loss: 0.6927 - cls_loss: 0.5170 - box_loss: 0.0035 - reg_l2_loss: 0.0957 - loss: 0.7884 - learning_rate: 0.0013 - gradient_norm: 3.7872 - val_det_loss: 1.4412 - val_cls_loss: 1.0508 - val_box_loss: 0.0078 - val_reg_l2_loss: 0.0957 - val_loss: 1.5369\n",
            "Epoch 39/50\n",
            "12/12 [==============================] - 22s 2s/step - det_loss: 0.6253 - cls_loss: 0.4814 - box_loss: 0.0029 - reg_l2_loss: 0.0957 - loss: 0.7209 - learning_rate: 0.0011 - gradient_norm: 3.3383 - val_det_loss: 1.4251 - val_cls_loss: 1.0362 - val_box_loss: 0.0078 - val_reg_l2_loss: 0.0957 - val_loss: 1.5208\n",
            "Epoch 40/50\n",
            "12/12 [==============================] - 22s 2s/step - det_loss: 0.6840 - cls_loss: 0.5088 - box_loss: 0.0035 - reg_l2_loss: 0.0957 - loss: 0.7797 - learning_rate: 9.0108e-04 - gradient_norm: 3.7601 - val_det_loss: 1.4245 - val_cls_loss: 1.0298 - val_box_loss: 0.0079 - val_reg_l2_loss: 0.0957 - val_loss: 1.5202\n",
            "Epoch 41/50\n",
            "12/12 [==============================] - 22s 2s/step - det_loss: 0.6805 - cls_loss: 0.4799 - box_loss: 0.0040 - reg_l2_loss: 0.0957 - loss: 0.7762 - learning_rate: 7.2615e-04 - gradient_norm: 3.9918 - val_det_loss: 1.4122 - val_cls_loss: 1.0204 - val_box_loss: 0.0078 - val_reg_l2_loss: 0.0957 - val_loss: 1.5078\n",
            "Epoch 42/50\n",
            "12/12 [==============================] - 22s 2s/step - det_loss: 0.6525 - cls_loss: 0.4793 - box_loss: 0.0035 - reg_l2_loss: 0.0957 - loss: 0.7482 - learning_rate: 5.6879e-04 - gradient_norm: 3.8524 - val_det_loss: 1.3961 - val_cls_loss: 1.0016 - val_box_loss: 0.0079 - val_reg_l2_loss: 0.0957 - val_loss: 1.4917\n",
            "Epoch 43/50\n",
            "12/12 [==============================] - 23s 2s/step - det_loss: 0.6482 - cls_loss: 0.4770 - box_loss: 0.0034 - reg_l2_loss: 0.0957 - loss: 0.7439 - learning_rate: 4.2963e-04 - gradient_norm: 3.8254 - val_det_loss: 1.3951 - val_cls_loss: 1.0006 - val_box_loss: 0.0079 - val_reg_l2_loss: 0.0957 - val_loss: 1.4908\n",
            "Epoch 44/50\n",
            "12/12 [==============================] - 22s 2s/step - det_loss: 0.6559 - cls_loss: 0.4868 - box_loss: 0.0034 - reg_l2_loss: 0.0957 - loss: 0.7516 - learning_rate: 3.0925e-04 - gradient_norm: 3.7547 - val_det_loss: 1.3898 - val_cls_loss: 0.9981 - val_box_loss: 0.0078 - val_reg_l2_loss: 0.0957 - val_loss: 1.4854\n",
            "Epoch 45/50\n",
            "12/12 [==============================] - 22s 2s/step - det_loss: 0.6369 - cls_loss: 0.4787 - box_loss: 0.0032 - reg_l2_loss: 0.0957 - loss: 0.7326 - learning_rate: 2.0814e-04 - gradient_norm: 3.5445 - val_det_loss: 1.3832 - val_cls_loss: 0.9967 - val_box_loss: 0.0077 - val_reg_l2_loss: 0.0957 - val_loss: 1.4789\n",
            "Epoch 46/50\n",
            "12/12 [==============================] - 22s 2s/step - det_loss: 0.6393 - cls_loss: 0.4660 - box_loss: 0.0035 - reg_l2_loss: 0.0957 - loss: 0.7349 - learning_rate: 1.2673e-04 - gradient_norm: 3.6065 - val_det_loss: 1.3774 - val_cls_loss: 0.9964 - val_box_loss: 0.0076 - val_reg_l2_loss: 0.0957 - val_loss: 1.4730\n",
            "Epoch 47/50\n",
            "12/12 [==============================] - 22s 2s/step - det_loss: 0.6651 - cls_loss: 0.5001 - box_loss: 0.0033 - reg_l2_loss: 0.0957 - loss: 0.7608 - learning_rate: 6.5345e-05 - gradient_norm: 3.5301 - val_det_loss: 1.3746 - val_cls_loss: 0.9970 - val_box_loss: 0.0076 - val_reg_l2_loss: 0.0957 - val_loss: 1.4703\n",
            "Epoch 48/50\n",
            "12/12 [==============================] - 22s 2s/step - det_loss: 0.6170 - cls_loss: 0.4733 - box_loss: 0.0029 - reg_l2_loss: 0.0957 - loss: 0.7127 - learning_rate: 2.4236e-05 - gradient_norm: 3.6476 - val_det_loss: 1.3782 - val_cls_loss: 1.0009 - val_box_loss: 0.0075 - val_reg_l2_loss: 0.0957 - val_loss: 1.4739\n",
            "Epoch 49/50\n",
            "12/12 [==============================] - 22s 2s/step - det_loss: 0.5878 - cls_loss: 0.4475 - box_loss: 0.0028 - reg_l2_loss: 0.0957 - loss: 0.6835 - learning_rate: 3.5729e-06 - gradient_norm: 3.0798 - val_det_loss: 1.3819 - val_cls_loss: 1.0054 - val_box_loss: 0.0075 - val_reg_l2_loss: 0.0957 - val_loss: 1.4776\n",
            "Epoch 50/50\n",
            "12/12 [==============================] - 22s 2s/step - det_loss: 0.6205 - cls_loss: 0.4643 - box_loss: 0.0031 - reg_l2_loss: 0.0957 - loss: 0.7161 - learning_rate: 3.4413e-06 - gradient_norm: 3.6241 - val_det_loss: 1.3789 - val_cls_loss: 1.0024 - val_box_loss: 0.0075 - val_reg_l2_loss: 0.0957 - val_loss: 1.4745\n"
          ]
        }
      ]
    },
    {
      "cell_type": "code",
      "metadata": {
        "colab": {
          "base_uri": "https://localhost:8080/"
        },
        "id": "6XgamIDuGlFU",
        "outputId": "43c304b0-03ab-42d2-bd3c-5dea144a94c6"
      },
      "source": [
        "# Evaluate the model\n",
        "model_lite3.evaluate(test_data)"
      ],
      "execution_count": null,
      "outputs": [
        {
          "output_type": "stream",
          "name": "stdout",
          "text": [
            "\r1/1 [==============================] - 13s 13s/step\n",
            "\n"
          ]
        },
        {
          "output_type": "execute_result",
          "data": {
            "text/plain": [
              "{'AP': 0.17297256,\n",
              " 'AP50': 0.3468467,\n",
              " 'AP75': 0.120462045,\n",
              " 'AP_/1': 0.05,\n",
              " 'AP_/10': 0.05797995,\n",
              " 'AP_/14111': 0.0,\n",
              " 'AP_/14131': 0.0,\n",
              " 'AP_/14141': 0.0,\n",
              " 'AP_/16': 0.05049505,\n",
              " 'AP_/23': 0.9,\n",
              " 'AP_/24': 0.011043247,\n",
              " 'AP_/28': 0.3,\n",
              " 'AP_/29': 0.033663366,\n",
              " 'AP_/30': 0.0,\n",
              " 'AP_/33': 0.0,\n",
              " 'AP_/34': 0.0,\n",
              " 'AP_/4': 0.0,\n",
              " 'AP_/5': 0.15357143,\n",
              " 'APl': 0.2066049,\n",
              " 'APm': 0.02084844,\n",
              " 'APs': -1.0,\n",
              " 'ARl': 0.31851852,\n",
              " 'ARm': 0.090277776,\n",
              " 'ARmax1': 0.25296298,\n",
              " 'ARmax10': 0.28574073,\n",
              " 'ARmax100': 0.28685185,\n",
              " 'ARs': -1.0}"
            ]
          },
          "metadata": {},
          "execution_count": 19
        }
      ]
    },
    {
      "cell_type": "code",
      "metadata": {
        "id": "BtVQIosiNEIx"
      },
      "source": [
        "# Export the model\n",
        "model_lite3.export(export_dir='/content',\n",
        "             tflite_filename='model_lite3.tflite',\n",
        "             label_filename='model_lite3-labels.txt',\n",
        "             export_format=[ExportFormat.TFLITE, ExportFormat.LABEL])"
      ],
      "execution_count": null,
      "outputs": []
    },
    {
      "cell_type": "markdown",
      "metadata": {
        "id": "1aqYcF1IDSZM"
      },
      "source": [
        "### **Evaluate the TF Lite model**"
      ]
    },
    {
      "cell_type": "markdown",
      "metadata": {
        "id": "b7mG8PsODb7D"
      },
      "source": [
        "Exporting the model to TensorFlow Lite can affect the model accuracy, due to the reduced numerical precision from quantization and because the original TensorFlow model uses per-class [non-max supression (NMS)](https://www.coursera.org/lecture/convolutional-neural-networks/non-max-suppression-dvrjH) for post-processing, while the TF Lite model uses global NMS, which is faster but less accurate.\n",
        "\n",
        "Therefore you should always evaluate the exported TF Lite model and be sure it still meets your requirements:"
      ]
    },
    {
      "cell_type": "code",
      "metadata": {
        "colab": {
          "base_uri": "https://localhost:8080/",
          "height": 253
        },
        "id": "g9b1WGO9DX3C",
        "outputId": "6971e854-79d8-4226-be0e-9ce010e35a19"
      },
      "source": [
        "%cd /content\n",
        "model_lite2.evaluate_tflite('/content/model_lite2.tflite', test_data)  # apparently only works with tf==2.5 and currently is 2.6"
      ],
      "execution_count": null,
      "outputs": [
        {
          "output_type": "stream",
          "name": "stdout",
          "text": [
            "/content\n"
          ]
        },
        {
          "output_type": "error",
          "ename": "InvalidArgumentError",
          "evalue": "ignored",
          "traceback": [
            "\u001b[0;31m---------------------------------------------------------------------------\u001b[0m",
            "\u001b[0;31mInvalidArgumentError\u001b[0m                      Traceback (most recent call last)",
            "\u001b[0;32m<ipython-input-25-faca144563a5>\u001b[0m in \u001b[0;36m<module>\u001b[0;34m()\u001b[0m\n\u001b[1;32m      1\u001b[0m \u001b[0mget_ipython\u001b[0m\u001b[0;34m(\u001b[0m\u001b[0;34m)\u001b[0m\u001b[0;34m.\u001b[0m\u001b[0mmagic\u001b[0m\u001b[0;34m(\u001b[0m\u001b[0;34m'cd /content'\u001b[0m\u001b[0;34m)\u001b[0m\u001b[0;34m\u001b[0m\u001b[0;34m\u001b[0m\u001b[0m\n\u001b[0;32m----> 2\u001b[0;31m \u001b[0mmodel_lite2\u001b[0m\u001b[0;34m.\u001b[0m\u001b[0mevaluate_tflite\u001b[0m\u001b[0;34m(\u001b[0m\u001b[0;34m'/content/model_lite2.tflite'\u001b[0m\u001b[0;34m,\u001b[0m \u001b[0mtest_data\u001b[0m\u001b[0;34m)\u001b[0m  \u001b[0;31m# apparently only works with tf==2.5\u001b[0m\u001b[0;34m\u001b[0m\u001b[0;34m\u001b[0m\u001b[0m\n\u001b[0m",
            "\u001b[0;32m/usr/local/lib/python3.7/dist-packages/tensorflow_examples/lite/model_maker/core/task/object_detector.py\u001b[0m in \u001b[0;36mevaluate_tflite\u001b[0;34m(self, tflite_filepath, data)\u001b[0m\n\u001b[1;32m    187\u001b[0m     \u001b[0mds\u001b[0m \u001b[0;34m=\u001b[0m \u001b[0mdata\u001b[0m\u001b[0;34m.\u001b[0m\u001b[0mgen_dataset\u001b[0m\u001b[0;34m(\u001b[0m\u001b[0mself\u001b[0m\u001b[0;34m.\u001b[0m\u001b[0mmodel_spec\u001b[0m\u001b[0;34m,\u001b[0m \u001b[0mbatch_size\u001b[0m\u001b[0;34m=\u001b[0m\u001b[0;36m1\u001b[0m\u001b[0;34m,\u001b[0m \u001b[0mis_training\u001b[0m\u001b[0;34m=\u001b[0m\u001b[0;32mFalse\u001b[0m\u001b[0;34m)\u001b[0m\u001b[0;34m\u001b[0m\u001b[0;34m\u001b[0m\u001b[0m\n\u001b[1;32m    188\u001b[0m     return self.model_spec.evaluate_tflite(tflite_filepath, ds, len(data),\n\u001b[0;32m--> 189\u001b[0;31m                                            data.annotations_json_file)\n\u001b[0m\u001b[1;32m    190\u001b[0m \u001b[0;34m\u001b[0m\u001b[0m\n\u001b[1;32m    191\u001b[0m   \u001b[0;32mdef\u001b[0m \u001b[0m_export_saved_model\u001b[0m\u001b[0;34m(\u001b[0m\u001b[0mself\u001b[0m\u001b[0;34m,\u001b[0m \u001b[0msaved_model_dir\u001b[0m\u001b[0;34m:\u001b[0m \u001b[0mstr\u001b[0m\u001b[0;34m)\u001b[0m \u001b[0;34m->\u001b[0m \u001b[0;32mNone\u001b[0m\u001b[0;34m:\u001b[0m\u001b[0;34m\u001b[0m\u001b[0;34m\u001b[0m\u001b[0m\n",
            "\u001b[0;32m/usr/local/lib/python3.7/dist-packages/tensorflow_examples/lite/model_maker/core/task/model_spec/object_detector_spec.py\u001b[0m in \u001b[0;36mevaluate_tflite\u001b[0;34m(self, tflite_filepath, dataset, steps, json_file)\u001b[0m\n\u001b[1;32m    386\u001b[0m       normalize_factor = tf.constant([height, width, height, width],\n\u001b[1;32m    387\u001b[0m                                      dtype=tf.float32)\n\u001b[0;32m--> 388\u001b[0;31m       \u001b[0mnms_boxes\u001b[0m \u001b[0;34m*=\u001b[0m \u001b[0mnormalize_factor\u001b[0m\u001b[0;34m\u001b[0m\u001b[0;34m\u001b[0m\u001b[0m\n\u001b[0m\u001b[1;32m    389\u001b[0m       \u001b[0;32mif\u001b[0m \u001b[0mlabels\u001b[0m\u001b[0;34m[\u001b[0m\u001b[0;34m'image_scales'\u001b[0m\u001b[0;34m]\u001b[0m \u001b[0;32mis\u001b[0m \u001b[0;32mnot\u001b[0m \u001b[0;32mNone\u001b[0m\u001b[0;34m:\u001b[0m\u001b[0;34m\u001b[0m\u001b[0;34m\u001b[0m\u001b[0m\n\u001b[1;32m    390\u001b[0m         \u001b[0mscales\u001b[0m \u001b[0;34m=\u001b[0m \u001b[0mtf\u001b[0m\u001b[0;34m.\u001b[0m\u001b[0mexpand_dims\u001b[0m\u001b[0;34m(\u001b[0m\u001b[0mtf\u001b[0m\u001b[0;34m.\u001b[0m\u001b[0mexpand_dims\u001b[0m\u001b[0;34m(\u001b[0m\u001b[0mlabels\u001b[0m\u001b[0;34m[\u001b[0m\u001b[0;34m'image_scales'\u001b[0m\u001b[0;34m]\u001b[0m\u001b[0;34m,\u001b[0m \u001b[0;34m-\u001b[0m\u001b[0;36m1\u001b[0m\u001b[0;34m)\u001b[0m\u001b[0;34m,\u001b[0m \u001b[0;34m-\u001b[0m\u001b[0;36m1\u001b[0m\u001b[0;34m)\u001b[0m\u001b[0;34m\u001b[0m\u001b[0;34m\u001b[0m\u001b[0m\n",
            "\u001b[0;32m/usr/local/lib/python3.7/dist-packages/tensorflow/python/ops/math_ops.py\u001b[0m in \u001b[0;36mr_binary_op_wrapper\u001b[0;34m(y, x)\u001b[0m\n\u001b[1;32m   1398\u001b[0m       \u001b[0;31m#   r_binary_op_wrapper use different force_same_dtype values.\u001b[0m\u001b[0;34m\u001b[0m\u001b[0;34m\u001b[0m\u001b[0;34m\u001b[0m\u001b[0m\n\u001b[1;32m   1399\u001b[0m       \u001b[0my\u001b[0m\u001b[0;34m,\u001b[0m \u001b[0mx\u001b[0m \u001b[0;34m=\u001b[0m \u001b[0mmaybe_promote_tensors\u001b[0m\u001b[0;34m(\u001b[0m\u001b[0my\u001b[0m\u001b[0;34m,\u001b[0m \u001b[0mx\u001b[0m\u001b[0;34m)\u001b[0m\u001b[0;34m\u001b[0m\u001b[0;34m\u001b[0m\u001b[0m\n\u001b[0;32m-> 1400\u001b[0;31m       \u001b[0;32mreturn\u001b[0m \u001b[0mfunc\u001b[0m\u001b[0;34m(\u001b[0m\u001b[0mx\u001b[0m\u001b[0;34m,\u001b[0m \u001b[0my\u001b[0m\u001b[0;34m,\u001b[0m \u001b[0mname\u001b[0m\u001b[0;34m=\u001b[0m\u001b[0mname\u001b[0m\u001b[0;34m)\u001b[0m\u001b[0;34m\u001b[0m\u001b[0;34m\u001b[0m\u001b[0m\n\u001b[0m\u001b[1;32m   1401\u001b[0m \u001b[0;34m\u001b[0m\u001b[0m\n\u001b[1;32m   1402\u001b[0m   \u001b[0;31m# Propagate func.__doc__ to the wrappers\u001b[0m\u001b[0;34m\u001b[0m\u001b[0;34m\u001b[0m\u001b[0;34m\u001b[0m\u001b[0m\n",
            "\u001b[0;32m/usr/local/lib/python3.7/dist-packages/tensorflow/python/ops/math_ops.py\u001b[0m in \u001b[0;36m_mul_dispatch\u001b[0;34m(x, y, name)\u001b[0m\n\u001b[1;32m   1708\u001b[0m     \u001b[0;32mreturn\u001b[0m \u001b[0msparse_tensor\u001b[0m\u001b[0;34m.\u001b[0m\u001b[0mSparseTensor\u001b[0m\u001b[0;34m(\u001b[0m\u001b[0my\u001b[0m\u001b[0;34m.\u001b[0m\u001b[0mindices\u001b[0m\u001b[0;34m,\u001b[0m \u001b[0mnew_vals\u001b[0m\u001b[0;34m,\u001b[0m \u001b[0my\u001b[0m\u001b[0;34m.\u001b[0m\u001b[0mdense_shape\u001b[0m\u001b[0;34m)\u001b[0m\u001b[0;34m\u001b[0m\u001b[0;34m\u001b[0m\u001b[0m\n\u001b[1;32m   1709\u001b[0m   \u001b[0;32melse\u001b[0m\u001b[0;34m:\u001b[0m\u001b[0;34m\u001b[0m\u001b[0;34m\u001b[0m\u001b[0m\n\u001b[0;32m-> 1710\u001b[0;31m     \u001b[0;32mreturn\u001b[0m \u001b[0mmultiply\u001b[0m\u001b[0;34m(\u001b[0m\u001b[0mx\u001b[0m\u001b[0;34m,\u001b[0m \u001b[0my\u001b[0m\u001b[0;34m,\u001b[0m \u001b[0mname\u001b[0m\u001b[0;34m=\u001b[0m\u001b[0mname\u001b[0m\u001b[0;34m)\u001b[0m\u001b[0;34m\u001b[0m\u001b[0;34m\u001b[0m\u001b[0m\n\u001b[0m\u001b[1;32m   1711\u001b[0m \u001b[0;34m\u001b[0m\u001b[0m\n\u001b[1;32m   1712\u001b[0m \u001b[0;34m\u001b[0m\u001b[0m\n",
            "\u001b[0;32m/usr/local/lib/python3.7/dist-packages/tensorflow/python/util/dispatch.py\u001b[0m in \u001b[0;36mwrapper\u001b[0;34m(*args, **kwargs)\u001b[0m\n\u001b[1;32m    204\u001b[0m     \u001b[0;34m\"\"\"Call target, and fall back on dispatchers if there is a TypeError.\"\"\"\u001b[0m\u001b[0;34m\u001b[0m\u001b[0;34m\u001b[0m\u001b[0m\n\u001b[1;32m    205\u001b[0m     \u001b[0;32mtry\u001b[0m\u001b[0;34m:\u001b[0m\u001b[0;34m\u001b[0m\u001b[0;34m\u001b[0m\u001b[0m\n\u001b[0;32m--> 206\u001b[0;31m       \u001b[0;32mreturn\u001b[0m \u001b[0mtarget\u001b[0m\u001b[0;34m(\u001b[0m\u001b[0;34m*\u001b[0m\u001b[0margs\u001b[0m\u001b[0;34m,\u001b[0m \u001b[0;34m**\u001b[0m\u001b[0mkwargs\u001b[0m\u001b[0;34m)\u001b[0m\u001b[0;34m\u001b[0m\u001b[0;34m\u001b[0m\u001b[0m\n\u001b[0m\u001b[1;32m    207\u001b[0m     \u001b[0;32mexcept\u001b[0m \u001b[0;34m(\u001b[0m\u001b[0mTypeError\u001b[0m\u001b[0;34m,\u001b[0m \u001b[0mValueError\u001b[0m\u001b[0;34m)\u001b[0m\u001b[0;34m:\u001b[0m\u001b[0;34m\u001b[0m\u001b[0;34m\u001b[0m\u001b[0m\n\u001b[1;32m    208\u001b[0m       \u001b[0;31m# Note: convert_to_eager_tensor currently raises a ValueError, not a\u001b[0m\u001b[0;34m\u001b[0m\u001b[0;34m\u001b[0m\u001b[0;34m\u001b[0m\u001b[0m\n",
            "\u001b[0;32m/usr/local/lib/python3.7/dist-packages/tensorflow/python/ops/math_ops.py\u001b[0m in \u001b[0;36mmultiply\u001b[0;34m(x, y, name)\u001b[0m\n\u001b[1;32m    528\u001b[0m   \"\"\"\n\u001b[1;32m    529\u001b[0m \u001b[0;34m\u001b[0m\u001b[0m\n\u001b[0;32m--> 530\u001b[0;31m   \u001b[0;32mreturn\u001b[0m \u001b[0mgen_math_ops\u001b[0m\u001b[0;34m.\u001b[0m\u001b[0mmul\u001b[0m\u001b[0;34m(\u001b[0m\u001b[0mx\u001b[0m\u001b[0;34m,\u001b[0m \u001b[0my\u001b[0m\u001b[0;34m,\u001b[0m \u001b[0mname\u001b[0m\u001b[0;34m)\u001b[0m\u001b[0;34m\u001b[0m\u001b[0;34m\u001b[0m\u001b[0m\n\u001b[0m\u001b[1;32m    531\u001b[0m \u001b[0;34m\u001b[0m\u001b[0m\n\u001b[1;32m    532\u001b[0m \u001b[0;34m\u001b[0m\u001b[0m\n",
            "\u001b[0;32m/usr/local/lib/python3.7/dist-packages/tensorflow/python/ops/gen_math_ops.py\u001b[0m in \u001b[0;36mmul\u001b[0;34m(x, y, name)\u001b[0m\n\u001b[1;32m   6234\u001b[0m       \u001b[0;32mreturn\u001b[0m \u001b[0m_result\u001b[0m\u001b[0;34m\u001b[0m\u001b[0;34m\u001b[0m\u001b[0m\n\u001b[1;32m   6235\u001b[0m     \u001b[0;32mexcept\u001b[0m \u001b[0m_core\u001b[0m\u001b[0;34m.\u001b[0m\u001b[0m_NotOkStatusException\u001b[0m \u001b[0;32mas\u001b[0m \u001b[0me\u001b[0m\u001b[0;34m:\u001b[0m\u001b[0;34m\u001b[0m\u001b[0;34m\u001b[0m\u001b[0m\n\u001b[0;32m-> 6236\u001b[0;31m       \u001b[0m_ops\u001b[0m\u001b[0;34m.\u001b[0m\u001b[0mraise_from_not_ok_status\u001b[0m\u001b[0;34m(\u001b[0m\u001b[0me\u001b[0m\u001b[0;34m,\u001b[0m \u001b[0mname\u001b[0m\u001b[0;34m)\u001b[0m\u001b[0;34m\u001b[0m\u001b[0;34m\u001b[0m\u001b[0m\n\u001b[0m\u001b[1;32m   6237\u001b[0m     \u001b[0;32mexcept\u001b[0m \u001b[0m_core\u001b[0m\u001b[0;34m.\u001b[0m\u001b[0m_FallbackException\u001b[0m\u001b[0;34m:\u001b[0m\u001b[0;34m\u001b[0m\u001b[0;34m\u001b[0m\u001b[0m\n\u001b[1;32m   6238\u001b[0m       \u001b[0;32mpass\u001b[0m\u001b[0;34m\u001b[0m\u001b[0;34m\u001b[0m\u001b[0m\n",
            "\u001b[0;32m/usr/local/lib/python3.7/dist-packages/tensorflow/python/framework/ops.py\u001b[0m in \u001b[0;36mraise_from_not_ok_status\u001b[0;34m(e, name)\u001b[0m\n\u001b[1;32m   6939\u001b[0m   \u001b[0mmessage\u001b[0m \u001b[0;34m=\u001b[0m \u001b[0me\u001b[0m\u001b[0;34m.\u001b[0m\u001b[0mmessage\u001b[0m \u001b[0;34m+\u001b[0m \u001b[0;34m(\u001b[0m\u001b[0;34m\" name: \"\u001b[0m \u001b[0;34m+\u001b[0m \u001b[0mname\u001b[0m \u001b[0;32mif\u001b[0m \u001b[0mname\u001b[0m \u001b[0;32mis\u001b[0m \u001b[0;32mnot\u001b[0m \u001b[0;32mNone\u001b[0m \u001b[0;32melse\u001b[0m \u001b[0;34m\"\"\u001b[0m\u001b[0;34m)\u001b[0m\u001b[0;34m\u001b[0m\u001b[0;34m\u001b[0m\u001b[0m\n\u001b[1;32m   6940\u001b[0m   \u001b[0;31m# pylint: disable=protected-access\u001b[0m\u001b[0;34m\u001b[0m\u001b[0;34m\u001b[0m\u001b[0;34m\u001b[0m\u001b[0m\n\u001b[0;32m-> 6941\u001b[0;31m   \u001b[0msix\u001b[0m\u001b[0;34m.\u001b[0m\u001b[0mraise_from\u001b[0m\u001b[0;34m(\u001b[0m\u001b[0mcore\u001b[0m\u001b[0;34m.\u001b[0m\u001b[0m_status_to_exception\u001b[0m\u001b[0;34m(\u001b[0m\u001b[0me\u001b[0m\u001b[0;34m.\u001b[0m\u001b[0mcode\u001b[0m\u001b[0;34m,\u001b[0m \u001b[0mmessage\u001b[0m\u001b[0;34m)\u001b[0m\u001b[0;34m,\u001b[0m \u001b[0;32mNone\u001b[0m\u001b[0;34m)\u001b[0m\u001b[0;34m\u001b[0m\u001b[0;34m\u001b[0m\u001b[0m\n\u001b[0m\u001b[1;32m   6942\u001b[0m   \u001b[0;31m# pylint: enable=protected-access\u001b[0m\u001b[0;34m\u001b[0m\u001b[0;34m\u001b[0m\u001b[0;34m\u001b[0m\u001b[0m\n\u001b[1;32m   6943\u001b[0m \u001b[0;34m\u001b[0m\u001b[0m\n",
            "\u001b[0;32m/usr/local/lib/python3.7/dist-packages/six.py\u001b[0m in \u001b[0;36mraise_from\u001b[0;34m(value, from_value)\u001b[0m\n",
            "\u001b[0;31mInvalidArgumentError\u001b[0m: required broadcastable shapes [Op:Mul]"
          ]
        }
      ]
    },
    {
      "cell_type": "markdown",
      "metadata": {
        "id": "rgutsSGkeTtd"
      },
      "source": [
        "Other resources:\n",
        "\n",
        "- https://www.tensorflow.org/lite/tutorials/model_maker_object_detection\n",
        "- https://colab.research.google.com/github/google-coral/tutorials/blob/master/retrain_efficientdet_model_maker_tf2.ipynb#scrollTo=CgCDMe0e6jlT"
      ]
    }
  ]
}